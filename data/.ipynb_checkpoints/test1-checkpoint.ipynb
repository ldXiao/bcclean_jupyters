{
 "cells": [
  {
   "cell_type": "code",
   "execution_count": 3,
   "metadata": {},
   "outputs": [
    {
     "data": {
      "application/vnd.jupyter.widget-view+json": {
       "model_id": "8581f1d58bdd49fba29e6bb805bcad14",
       "version_major": 2,
       "version_minor": 0
      },
      "text/plain": [
       "Renderer(camera=PerspectiveCamera(children=(DirectionalLight(color='white', intensity=0.6, position=(-0.000274…"
      ]
     },
     "metadata": {},
     "output_type": "display_data"
    },
    {
     "data": {
      "text/plain": [
       "True"
      ]
     },
     "execution_count": 3,
     "metadata": {},
     "output_type": "execute_result"
    }
   ],
   "source": [
    "import igl\n",
    "import pybcclean as pbc\n",
    "import polyfempy as pf\n",
    "import wildmeshing as wm\n",
    "import meshplot as mp\n",
    "import os\n",
    "import numpy as np\n",
    "from scipy.spatial import KDTree\n",
    "import yaml\n",
    "def barycenters(v, f):\n",
    "    s = np.zeros((len(f),3),dtype='float64')\n",
    "    for i, r in enumerate(s):\n",
    "        s[i] = (v[f[i][0]]+v[f[i][1]]+v[f[i][2]])/3\n",
    "    return s\n",
    "\n",
    "def parse_feat(in_feat_file_name, out_file_body=\"feat\"):\n",
    "    parent_dir = os.path.dirname(in_feat_file_name)\n",
    "    out_file_name = out_file_body+\".dmat\"\n",
    "    out_file_rel_dir = os.path.join(parent_dir, out_file_name)\n",
    "        # return the file path if the output file already exists\n",
    "    with open(in_feat_file_name, 'r') as stream:\n",
    "        try:\n",
    "            yaml_dict=yaml.safe_load(stream)\n",
    "        except yaml.YAMLError as exc:\n",
    "            print(exc)\n",
    "    face_label_dict = {}\n",
    "    count =0\n",
    "    for label, surface in enumerate(yaml_dict[\"surfaces\"]):\n",
    "        for face_id in surface[\"face_indices\"]:\n",
    "            face_label_dict[face_id] = label\n",
    "            count +=1\n",
    "\n",
    "    with open(out_file_rel_dir, 'w') as f:\n",
    "        f.write(\"1\"+\" \"+str(count)+\"\\n\")\n",
    "        for item in sorted(face_label_dict.keys()):\n",
    "            f.write(\"%s\\n\" % face_label_dict[item])\n",
    "    return out_file_rel_dir\n",
    "\n",
    "def separate_surfaces(v, f, fl):\n",
    "    \"\"\"\n",
    "    :param v vertices\n",
    "    :param f faces\n",
    "    :param fl face labels\n",
    "    perturb the surfaces according to the face labels\n",
    "    :return v_dict, f_dict\n",
    "    \"\"\"\n",
    "    v_dict = {}\n",
    "    f_dict_temp = {}\n",
    "    f_dict = {}\n",
    "    count_dict = {}\n",
    "    for fidx, lb in enumerate(fl):\n",
    "        if lb not in f_dict_temp:\n",
    "            f_dict_temp[lb] = np.zeros_like(f)\n",
    "            f_dict_temp[lb][0,:]=f[fidx,:].copy()\n",
    "            count_dict[lb] = 1\n",
    "        else:\n",
    "            f_dict_temp[lb][count_dict[lb],:]=f[fidx,:].copy()\n",
    "            count_dict[lb] += 1\n",
    "    for lb in f_dict_temp:\n",
    "        f_dict_temp[lb] = f_dict_temp[lb][0:count_dict[lb],:]\n",
    "        v_dict[lb], f_dict[lb], _, _= igl.remove_unreferenced(v,f_dict_temp[lb])\n",
    "    return v_dict, f_dict\n",
    "\n",
    "def perturb_and_union(v_dict, f_dict, eps):\n",
    "    \"\"\"\n",
    "    :eps float to control the perturbation\n",
    "    return new_v, new_f, new_fl\n",
    "    \"\"\"\n",
    "    nv = 0 \n",
    "    nf = 0\n",
    "    for lb in f_dict:\n",
    "        nv += len(v_dict[lb])\n",
    "        nf += len(f_dict[lb])\n",
    "    new_v = np.zeros((nv,3),dtype=float)\n",
    "    new_f = np.zeros((nf,3), dtype=int)\n",
    "    new_fl = np.zeros((nf,1), dtype=int)\n",
    "    count_v = 0\n",
    "    count_f =0\n",
    "    for lb in f_dict:\n",
    "        f_temp = f_dict[lb].copy()\n",
    "        v_temp = v_dict[lb].copy()\n",
    "        new_v[count_v:count_v+len(v_temp)]= v_temp + np.ones_like(v_temp) * np.random.uniform(-eps, eps)\n",
    "        f_temp += np.ones_like(f_temp) * count_v\n",
    "        count_v += len(v_temp)\n",
    "        new_f[count_f:count_f+len(f_temp)]=f_temp\n",
    "        new_fl[count_f:count_f+len(f_temp)]= np.ones((len(f_temp),1), dtype=int) *lb\n",
    "        count_f += len(f_temp)\n",
    "    return new_v, new_f, new_fl\n",
    "\n",
    "def extract_surface(p, t):\n",
    "    f_temp = igl.boundary_facets(t)\n",
    "    v_s, f_s, _, _ = igl.remove_unreferenced(p, f_temp)\n",
    "    return v_s, f_s\n",
    "\n",
    "\n",
    "    \n",
    "\n",
    "file_root = os.path.dirname(\"2/00000006_d4fe04f0f5f84b52bd4f10e4_trimesh_001.obj\")\n",
    "wm.tetrahedralize(\"2/00000006_d4fe04f0f5f84b52bd4f10e4_trimesh_001.obj\", file_root+\"/\"+\"bench.mesh\", stop_quality=7)\n",
    "fl_bench_file = parse_feat(\"2/00000006_d4fe04f0f5f84b52bd4f10e4_features_001.yml\")\n",
    "fl_bench = igl.read_dmat(fl_bench_file)\n",
    "v_bench, f_bench = igl.read_triangle_mesh(\"2/00000006_d4fe04f0f5f84b52bd4f10e4_trimesh_001.obj\")\n",
    "v_ini, f_ini=igl.read_triangle_mesh(file_root+\"/\"+\"bench.mesh__sf.obj\")\n",
    "prob_mat_ini, fl_ini_temp =pbc.project_face_labels(v_bench,f_bench.astype('int32'), fl_bench.astype('int32'),v_ini,f_ini.astype('int32'))\n",
    "fl_ini = pbc.refine_labels(v_ini, f_ini.astype('int32'), prob_mat_ini, fl_ini_temp.astype('int32'),1)\n",
    "# mp.plot(v_ini, f_ini, fl_ini_temp[:,0])\n",
    "# mp.plot(v_ini, f_ini, fl_ini[:,0])\n",
    "eps = 0.001\n",
    "v_dict, f_dict =separate_surfaces(v_ini, f_ini, fl_ini[:,0])\n",
    "v_bad, f_bad, fl_bad = perturb_and_union(v_dict, f_dict, eps)\n",
    "mp.plot(v_bad, f_bad, fl_bad[:,0], shading={\"wireframe\":True})\n",
    "eps_file_name = file_root+\"/\"+str(eps)+\"pertb.obj\"\n",
    "igl.write_obj(eps_file_name, v_bad, f_bad)"
   ]
  },
  {
   "cell_type": "code",
   "execution_count": 5,
   "metadata": {},
   "outputs": [
    {
     "data": {
      "application/vnd.jupyter.widget-view+json": {
       "model_id": "ab2e11d9c7874ecdb8b004185456ff04",
       "version_major": 2,
       "version_minor": 0
      },
      "text/plain": [
       "Renderer(camera=PerspectiveCamera(children=(DirectionalLight(color='white', intensity=0.6, position=(0.0, 0.0,…"
      ]
     },
     "metadata": {},
     "output_type": "display_data"
    }
   ],
   "source": [
    "mp.plot(v_bench, f_bench, fl_bench, shading={\"wireframe\":True})"
   ]
  },
  {
   "cell_type": "code",
   "execution_count": 8,
   "metadata": {},
   "outputs": [
    {
     "data": {
      "text/plain": [
       "0.1871525251619649"
      ]
     },
     "execution_count": 8,
     "metadata": {},
     "output_type": "execute_result"
    }
   ],
   "source": [
    "eps = 0.1\n",
    "v_dict, f_dict =separate_surfaces(v_ini, f_ini, fl_ini[:,0])\n",
    "v_bad, f_bad, fl_bad = perturb_and_union(v_dict, f_dict, eps)\n",
    "# mp.plot(v_bad, f_bad, fl_bad[:,0], shading={\"wireframe\":True})\n",
    "eps_file_name = file_root+\"/\"+str(eps)+\"pertb.obj\"\n",
    "igl.write_obj(eps_file_name, v_bad, f_bad)\n",
    "igl.hausdorff(v_bench,f_bench, v_bad, f_bad)"
   ]
  },
  {
   "cell_type": "code",
   "execution_count": 2,
   "metadata": {},
   "outputs": [
    {
     "data": {
      "text/plain": [
       "True"
      ]
     },
     "execution_count": 2,
     "metadata": {},
     "output_type": "execute_result"
    }
   ],
   "source": [
    "igl.write_obj(\"test.obj\", v_bad, f_bad)"
   ]
  },
  {
   "cell_type": "code",
   "execution_count": 59,
   "metadata": {},
   "outputs": [
    {
     "data": {
      "application/vnd.jupyter.widget-view+json": {
       "model_id": "45ff28d628cf465f94dc059af1ace871",
       "version_major": 2,
       "version_minor": 0
      },
      "text/plain": [
       "Renderer(camera=PerspectiveCamera(children=(DirectionalLight(color='white', intensity=0.6, position=(0.0, 32.4…"
      ]
     },
     "metadata": {},
     "output_type": "display_data"
    },
    {
     "data": {
      "text/plain": [
       "1"
      ]
     },
     "execution_count": 59,
     "metadata": {},
     "output_type": "execute_result"
    }
   ],
   "source": [
    "def build_label_dict(v, f, fl):\n",
    "    \"\"\"\n",
    "    :param v vertices\n",
    "    :param f faces\n",
    "    :param fl face labels\n",
    "    perturb the surfaces according to the face labels\n",
    "    :return lebel_dict\n",
    "    \"\"\"\n",
    "    v_dict = {}\n",
    "    label_dict_temp = {}\n",
    "    label_dict = {}\n",
    "    count_dict = {}\n",
    "    for fidx, lb in enumerate(fl):\n",
    "        if lb not in label_dict_temp:\n",
    "            label_dict_temp[lb] = np.zeros_like(f)\n",
    "            label_dict_temp[lb][0,:]=f[fidx,:].copy()\n",
    "            count_dict[lb] = 1\n",
    "        else:\n",
    "            label_dict_temp[lb][count_dict[lb],:]=f[fidx,:].copy()\n",
    "            count_dict[lb] += 1\n",
    "    for lb in label_dict_temp:\n",
    "        label_dict[lb] = label_dict_temp[lb][0:count_dict[lb],:]\n",
    "    return label_dict\n",
    "\n",
    "def build_boundary_dict(label_dict):\n",
    "    \"\"\"\n",
    "    :param fl face labels\n",
    "    perturb the surfaces according to the face labels\n",
    "    :return boundary_dict\n",
    "    \"\"\"\n",
    "    boundary_dict = {}\n",
    "    for lb in label_dict:\n",
    "        boundary_dict[lb]=igl.boundary_facets(label_dict[lb])\n",
    "    return boundary_dict\n",
    "\n",
    "def build_node_dict(boundary_dict):\n",
    "    node_dict= {}\n",
    "    v_dict = {}\n",
    "    for lb in boundary_dict:\n",
    "        for line in boundary_dict[lb]:\n",
    "            x = line[0]\n",
    "            y = line[1]\n",
    "            if x not in v_dict:\n",
    "                v_dict[x]={}\n",
    "            if y not in v_dict:\n",
    "                v_dict[y]={}\n",
    "            v_dict[x][lb]=1\n",
    "            v_dict[y][lb]=1\n",
    "    for v in v_dict:\n",
    "        if len(v_dict[v])>2:\n",
    "            for lb in v_dict[v]:\n",
    "                if lb not in node_dict:\n",
    "                    node_dict[lb]= []\n",
    "                node_dict[lb].append(v)\n",
    "    return node_dict\n",
    "\n",
    "def select_vertices(v, indices):\n",
    "    new_v = np.zeros((len(indices),3))\n",
    "    for count,idx in enumerate(indices):\n",
    "        new_v[count]= v[idx]\n",
    "    return new_v\n",
    "            \n",
    "\n",
    "label_dict = build_label_dict(v_bench, f_bench, fl_bench)\n",
    "boundary_dict=build_boundary_dict(label_dict)\n",
    "p= mp.plot(v_bench,  boundary_dict[2],return_plot=True)\n",
    "node_dict = build_node_dict(boundary_dict)\n",
    "new_v = select_vertices(v_bench,node_dict[2])\n",
    "p.add_points(new_v,shading={\"point_color\": \"red\", \"point_size\": 1})"
   ]
  },
  {
   "cell_type": "code",
   "execution_count": 60,
   "metadata": {},
   "outputs": [
    {
     "data": {
      "application/vnd.jupyter.widget-view+json": {
       "model_id": "e68deba57b1a4c70b4a74e1e253d99c6",
       "version_major": 2,
       "version_minor": 0
      },
      "text/plain": [
       "Renderer(camera=PerspectiveCamera(children=(DirectionalLight(color='white', intensity=0.6, position=(-0.017742…"
      ]
     },
     "metadata": {},
     "output_type": "display_data"
    },
    {
     "data": {
      "text/plain": [
       "1"
      ]
     },
     "execution_count": 60,
     "metadata": {},
     "output_type": "execute_result"
    }
   ],
   "source": [
    "\n",
    "lb=9\n",
    "label_dict1 = build_label_dict(v_good, f_good, fl_good_cut[:,0])\n",
    "\n",
    "boundary_dict1=build_boundary_dict(label_dict1)\n",
    "p1= mp.plot(v_good,  boundary_dict1[lb],return_plot=True)\n",
    "node_dict1 = build_node_dict(boundary_dict1)\n",
    "new_v1 = select_vertices(v_good,node_dict1[lb])\n",
    "p1.add_points(new_v1,shading={\"point_color\": \"red\", \"point_size\": 1})"
   ]
  },
  {
   "cell_type": "code",
   "execution_count": 3,
   "metadata": {},
   "outputs": [
    {
     "name": "stdout",
     "output_type": "stream",
     "text": [
      "(6722, 3) (3361, 3)\n"
     ]
    },
    {
     "data": {
      "application/vnd.jupyter.widget-view+json": {
       "model_id": "31f9553e662e432192dc9c22096ca5d3",
       "version_major": 2,
       "version_minor": 0
      },
      "text/plain": [
       "Renderer(camera=PerspectiveCamera(children=(DirectionalLight(color='white', intensity=0.6, position=(-0.005958…"
      ]
     },
     "metadata": {},
     "output_type": "display_data"
    }
   ],
   "source": [
    "wm.tetrahedralize(eps_file_name, file_root+\"/\"+\"out.mesh\", stop_quality=7)\n",
    "v_good, f_good = igl.read_triangle_mesh(file_root+\"/\"+\"out.mesh__sf.obj\")\n",
    "print(f_good.shape, v_good.shape)\n",
    "mp.plot(v_good, f_good, shading={\"wireframe\":True})"
   ]
  },
  {
   "cell_type": "code",
   "execution_count": 4,
   "metadata": {},
   "outputs": [],
   "source": [
    "def write_dmat(fl, out_file_body=\"feat\"):\n",
    "    out_file_name = out_file_body+\".dmat\"\n",
    "    with open(out_file_name, 'w') as f:\n",
    "        f.write(\"1\"+\" \"+str(len(fl))+\"\\n\")\n",
    "        for i in range(len(fl)):\n",
    "            f.write(\"%s\\n\" % fl[i][0])\n",
    "    return out_file_name"
   ]
  },
  {
   "cell_type": "code",
   "execution_count": 5,
   "metadata": {},
   "outputs": [],
   "source": [
    "dmat_file=write_dmat(fl_bad, out_file_body=\"test\")"
   ]
  },
  {
   "cell_type": "code",
   "execution_count": 6,
   "metadata": {},
   "outputs": [
    {
     "data": {
      "text/plain": [
       "True"
      ]
     },
     "execution_count": 6,
     "metadata": {},
     "output_type": "execute_result"
    }
   ],
   "source": [
    "igl.write_obj(\"test_good.obj\", v_good, f_good)"
   ]
  },
  {
   "cell_type": "code",
   "execution_count": 32,
   "metadata": {},
   "outputs": [
    {
     "data": {
      "application/vnd.jupyter.widget-view+json": {
       "model_id": "f50f2241a3974222acd9f577d625d81e",
       "version_major": 2,
       "version_minor": 0
      },
      "text/plain": [
       "Renderer(camera=PerspectiveCamera(children=(DirectionalLight(color='white', intensity=0.6, position=(-0.005958…"
      ]
     },
     "metadata": {},
     "output_type": "display_data"
    },
    {
     "data": {
      "application/vnd.jupyter.widget-view+json": {
       "model_id": "1b12c6462c164e2ebc7829566b77dc45",
       "version_major": 2,
       "version_minor": 0
      },
      "text/plain": [
       "Renderer(camera=PerspectiveCamera(children=(DirectionalLight(color='white', intensity=0.6, position=(-0.005958…"
      ]
     },
     "metadata": {},
     "output_type": "display_data"
    }
   ],
   "source": [
    "fl_bad = igl.read_dmat(dmat_file)\n",
    "prob_mat, fl_good_proj = pbc.project_face_labels(v_bad, f_bad.astype('int32'), fl_bad.astype('int32'), v_good, f_good.astype('int32'))\n",
    "fl_good_cut = pbc.refine_labels(v_good, f_good.astype('int32'), prob_mat, fl_good_proj.astype('int32'),1)\n",
    "mp.plot(v_good, f_good, fl_good_proj[:,0], shading={\"wireframe\": True})\n",
    "mp.plot(v_good, f_good, fl_good_cut[:,0], shading={\"wireframe\":True})"
   ]
  },
  {
   "cell_type": "code",
   "execution_count": 36,
   "metadata": {},
   "outputs": [
    {
     "name": "stdout",
     "output_type": "stream",
     "text": [
      "[2019-08-30 17:17:06.183] [polyfem] [info] Loading mesh...\n",
      "[2019-08-30 17:17:06.183] [geogram] [info] Loading file 3/bench.mesh...\n",
      "[2019-08-30 17:17:06.225] [geogram] [info] (FP64) nb_v:3656 nb_e:0 nb_f:7080 nb_b:0 tri:1 dim:3\n",
      "[2019-08-30 17:17:06.225] [geogram] [info]  nb_tets:10901\n",
      "[2019-08-30 17:17:06.225] [geogram] [info] Attributes on vertices: point[3]\n",
      "[2019-08-30 17:17:06.378] [polyfem] [info] mesh bb min [-39.3665, -39.3688, -2.54], max [39.3629, 39.3645, 12.7]\n",
      "[2019-08-30 17:17:06.379] [polyfem] [info]  took 0.196523s\n"
     ]
    },
    {
     "data": {
      "application/vnd.jupyter.widget-view+json": {
       "model_id": "30ee78c555ea49c890bbc9b9c6b569ce",
       "version_major": 2,
       "version_minor": 0
      },
      "text/plain": [
       "Renderer(camera=PerspectiveCamera(children=(DirectionalLight(color='white', intensity=0.6, position=(-0.001787…"
      ]
     },
     "metadata": {},
     "output_type": "display_data"
    },
    {
     "name": "stdout",
     "output_type": "stream",
     "text": [
      "[2019-08-30 17:17:07.826] [polyfem] [info] Loading mesh...\n",
      "[2019-08-30 17:17:07.826] [geogram] [info] Loading file 3/out.mesh...\n",
      "[2019-08-30 17:17:07.871] [geogram] [info] (FP64) nb_v:3471 nb_e:0 nb_f:6722 nb_b:0 tri:1 dim:3\n",
      "[2019-08-30 17:17:07.871] [geogram] [info]  nb_tets:10331\n",
      "[2019-08-30 17:17:07.871] [geogram] [info] Attributes on vertices: point[3]\n",
      "[2019-08-30 17:17:08.037] [polyfem] [info] mesh bb min [-39.3668, -39.3429, -2.54088], max [39.3549, 39.3403, 12.7009]\n",
      "[2019-08-30 17:17:08.038] [polyfem] [info]  took 0.211467s\n"
     ]
    },
    {
     "data": {
      "application/vnd.jupyter.widget-view+json": {
       "model_id": "9877d465381f435289be1081c02927a7",
       "version_major": 2,
       "version_minor": 0
      },
      "text/plain": [
       "Renderer(camera=PerspectiveCamera(children=(DirectionalLight(color='white', intensity=0.6, position=(-0.005958…"
      ]
     },
     "metadata": {},
     "output_type": "display_data"
    },
    {
     "name": "stdout",
     "output_type": "stream",
     "text": [
      "[2019-08-30 17:17:09.526] [polyfem] [info] Loading mesh...\n",
      "[2019-08-30 17:17:09.526] [geogram] [info] Loading file 3/out.mesh...\n",
      "[2019-08-30 17:17:09.575] [geogram] [info] (FP64) nb_v:3471 nb_e:0 nb_f:6722 nb_b:0 tri:1 dim:3\n",
      "[2019-08-30 17:17:09.575] [geogram] [info]  nb_tets:10331\n",
      "[2019-08-30 17:17:09.575] [geogram] [info] Attributes on vertices: point[3]\n",
      "[2019-08-30 17:17:09.725] [polyfem] [info] mesh bb min [-39.3668, -39.3429, -2.54088], max [39.3549, 39.3403, 12.7009]\n",
      "[2019-08-30 17:17:09.725] [polyfem] [info]  took 0.199019s\n"
     ]
    },
    {
     "data": {
      "application/vnd.jupyter.widget-view+json": {
       "model_id": "6806007d4f9b4a13b048794c9b0cf513",
       "version_major": 2,
       "version_minor": 0
      },
      "text/plain": [
       "Renderer(camera=PerspectiveCamera(children=(DirectionalLight(color='white', intensity=0.6, position=(-0.005958…"
      ]
     },
     "metadata": {},
     "output_type": "display_data"
    }
   ],
   "source": [
    "bary_centers = barycenters(v_good, f_good)\n",
    "kdt = KDTree(bary_centers)\n",
    "\n",
    "bary_centers_ini = barycenters(v_ini, f_ini)\n",
    "kdt_ini = KDTree(bary_centers_ini)\n",
    "\n",
    "def sideset_proj(p):\n",
    "    return fl_good_proj[kdt.query(p)[1]][0] + 1\n",
    "def sideset_cut(p):\n",
    "    return fl_good_cut[kdt.query(p)[1]][0] + 1\n",
    "def sideset_ini(p):\n",
    "    return fl_ini[kdt_ini.query(p)[1]][0] + 1\n",
    "\n",
    "solver_ini = pf.Solver()\n",
    "solver_ini.load_mesh_from_path(file_root+\"/\"+\"bench.mesh\")\n",
    "solver_ini.set_boundary_side_set_from_bary(sideset_ini)\n",
    "p_ini, t_ini, s_ini = solver_ini.get_boundary_sidesets()\n",
    "mp.plot(p_ini, t_ini, s_ini, shading={\"wireframe\":True})\n",
    "\n",
    "solver_proj = pf.Solver()\n",
    "solver_proj.load_mesh_from_path(file_root+\"/\"+\"out.mesh\")\n",
    "solver_proj.set_boundary_side_set_from_bary(sideset_proj)\n",
    "p_proj, t_proj, s_proj = solver_proj.get_boundary_sidesets()\n",
    "mp.plot(p_proj, t_proj, s_proj, shading={\"wireframe\":True})\n",
    "\n",
    "solver_cut = pf.Solver()\n",
    "solver_cut.load_mesh_from_path(file_root+\"/\"+\"out.mesh\")\n",
    "solver_cut.set_boundary_side_set_from_bary(sideset_cut)\n",
    "p_cut, t_cut, s_cut = solver_cut.get_boundary_sidesets()\n",
    "mp.plot(p_cut, t_cut, s_cut, shading={\"wireframe\":True})\n"
   ]
  },
  {
   "cell_type": "code",
   "execution_count": 55,
   "metadata": {},
   "outputs": [
    {
     "name": "stdout",
     "output_type": "stream",
     "text": [
      "[2019-08-30 17:23:55.590] [polyfem] [info] simplex_count: \t10331\n",
      "[2019-08-30 17:23:55.590] [polyfem] [info] regular_count: \t0\n",
      "[2019-08-30 17:23:55.590] [polyfem] [info] regular_boundary_count: \t0\n",
      "[2019-08-30 17:23:55.590] [polyfem] [info] simple_singular_count: \t0\n",
      "[2019-08-30 17:23:55.590] [polyfem] [info] multi_singular_count: \t0\n",
      "[2019-08-30 17:23:55.590] [polyfem] [info] boundary_count: \t0\n",
      "[2019-08-30 17:23:55.590] [polyfem] [info] multi_singular_boundary_count: \t0\n",
      "[2019-08-30 17:23:55.590] [polyfem] [info] non_regular_count: \t0\n",
      "[2019-08-30 17:23:55.590] [polyfem] [info] non_regular_boundary_count: \t0\n",
      "[2019-08-30 17:23:55.590] [polyfem] [info] undefined_count: \t0\n",
      "[2019-08-30 17:23:55.590] [polyfem] [info] total count:\t 10331\n",
      "[2019-08-30 17:23:55.590] [polyfem] [info] Building isoparametric basis...\n",
      "[2019-08-30 17:23:55.646] [polyfem] [info] Computing polygonal basis...\n",
      "[2019-08-30 17:23:55.646] [polyfem] [info]  took 4.4881e-05s\n",
      "[2019-08-30 17:23:55.652] [polyfem] [info] hmin: 0.471948\n",
      "[2019-08-30 17:23:55.652] [polyfem] [info] hmax: 5.19473\n",
      "[2019-08-30 17:23:55.652] [polyfem] [info] havg: 2.27611\n",
      "[2019-08-30 17:23:55.653] [polyfem] [info]  took 0.0555695s\n",
      "[2019-08-30 17:23:55.653] [polyfem] [info] flipped elements 0\n",
      "[2019-08-30 17:23:55.653] [polyfem] [info] h: 5.19473\n",
      "[2019-08-30 17:23:55.653] [polyfem] [info] n bases: 3471\n",
      "[2019-08-30 17:23:55.653] [polyfem] [info] n pressure bases: 0\n",
      "[2019-08-30 17:23:55.653] [polyfem] [info] Assigning rhs...\n",
      "[2019-08-30 17:23:55.667] [polyfem] [info]  took 0.0141735s\n",
      "[2019-08-30 17:23:55.667] [polyfem] [info] Assembling stiffness mat...\n",
      "[2019-08-30 17:23:55.801] [polyfem] [info]  took 0.133375s\n",
      "[2019-08-30 17:23:55.801] [polyfem] [info] sparsity: 340137/108430569\n",
      "[2019-08-30 17:23:55.801] [polyfem] [info] Solving LinearElasticity with\n",
      "[2019-08-30 17:23:55.801] [polyfem] [info] Hypre...\n",
      "(103310, 3)\n",
      "(82648, 4)\n",
      "(103310, 3)\n"
     ]
    },
    {
     "data": {
      "application/vnd.jupyter.widget-view+json": {
       "model_id": "24b910d22a2743c29d300874316baf1b",
       "version_major": 2,
       "version_minor": 0
      },
      "text/plain": [
       "Renderer(camera=PerspectiveCamera(children=(DirectionalLight(color='white', intensity=0.6, position=(-0.006153…"
      ]
     },
     "metadata": {},
     "output_type": "display_data"
    }
   ],
   "source": [
    "settings = pf.Settings()\n",
    "problem = pf.Problem()\n",
    "\n",
    "settings.set_pde(pf.PDEs.LinearElasticity)\n",
    "\n",
    "settings.set_material_params(\"E\", 200)\n",
    "settings.set_material_params(\"nu\", 0.35)\n",
    "\n",
    "\n",
    "problem.set_displacement(5, [0, 0, 0])\n",
    "problem.set_force(13, [0, 0, 0.1])\n",
    "\n",
    "settings.set_problem(problem)\n",
    "solver_proj.settings(settings)\n",
    "solver_proj.solve()\n",
    "p, t, d = solver_proj.get_sampled_solution()\n",
    "m = np.linalg.norm(d, axis=1)\n",
    "\n",
    "print(p.shape)\n",
    "print(t.shape)\n",
    "print(d.shape)\n",
    "mp.plot(p+d, t, m)"
   ]
  },
  {
   "cell_type": "code",
   "execution_count": 56,
   "metadata": {},
   "outputs": [
    {
     "name": "stdout",
     "output_type": "stream",
     "text": [
      "[2019-08-30 17:24:06.237] [polyfem] [info] simplex_count: \t10331\n",
      "[2019-08-30 17:24:06.237] [polyfem] [info] regular_count: \t0\n",
      "[2019-08-30 17:24:06.237] [polyfem] [info] regular_boundary_count: \t0\n",
      "[2019-08-30 17:24:06.237] [polyfem] [info] simple_singular_count: \t0\n",
      "[2019-08-30 17:24:06.237] [polyfem] [info] multi_singular_count: \t0\n",
      "[2019-08-30 17:24:06.237] [polyfem] [info] boundary_count: \t0\n",
      "[2019-08-30 17:24:06.237] [polyfem] [info] multi_singular_boundary_count: \t0\n",
      "[2019-08-30 17:24:06.237] [polyfem] [info] non_regular_count: \t0\n",
      "[2019-08-30 17:24:06.237] [polyfem] [info] non_regular_boundary_count: \t0\n",
      "[2019-08-30 17:24:06.237] [polyfem] [info] undefined_count: \t0\n",
      "[2019-08-30 17:24:06.237] [polyfem] [info] total count:\t 10331\n",
      "[2019-08-30 17:24:06.237] [polyfem] [info] Building isoparametric basis...\n",
      "[2019-08-30 17:24:06.299] [polyfem] [info] Computing polygonal basis...\n",
      "[2019-08-30 17:24:06.299] [polyfem] [info]  took 2.1912e-05s\n",
      "[2019-08-30 17:24:06.302] [polyfem] [info] hmin: 0.471948\n",
      "[2019-08-30 17:24:06.302] [polyfem] [info] hmax: 5.19473\n",
      "[2019-08-30 17:24:06.302] [polyfem] [info] havg: 2.27611\n",
      "[2019-08-30 17:24:06.303] [polyfem] [info]  took 0.0619187s\n",
      "[2019-08-30 17:24:06.303] [polyfem] [info] flipped elements 0\n",
      "[2019-08-30 17:24:06.303] [polyfem] [info] h: 5.19473\n",
      "[2019-08-30 17:24:06.303] [polyfem] [info] n bases: 3471\n",
      "[2019-08-30 17:24:06.303] [polyfem] [info] n pressure bases: 0\n",
      "[2019-08-30 17:24:06.303] [polyfem] [info] Assigning rhs...\n",
      "[2019-08-30 17:24:06.317] [polyfem] [info]  took 0.0141374s\n",
      "[2019-08-30 17:24:06.317] [polyfem] [info] Assembling stiffness mat...\n",
      "[2019-08-30 17:24:06.462] [polyfem] [info]  took 0.14498s\n",
      "[2019-08-30 17:24:06.462] [polyfem] [info] sparsity: 340137/108430569\n",
      "[2019-08-30 17:24:06.462] [polyfem] [info] Solving LinearElasticity with\n",
      "[2019-08-30 17:24:06.462] [polyfem] [info] Hypre...\n"
     ]
    },
    {
     "data": {
      "application/vnd.jupyter.widget-view+json": {
       "model_id": "af43ffba973d443f8e632bc55f1324e9",
       "version_major": 2,
       "version_minor": 0
      },
      "text/plain": [
       "Renderer(camera=PerspectiveCamera(children=(DirectionalLight(color='white', intensity=0.6, position=(-0.006010…"
      ]
     },
     "metadata": {},
     "output_type": "display_data"
    },
    {
     "name": "stdout",
     "output_type": "stream",
     "text": [
      "20\n"
     ]
    }
   ],
   "source": [
    "solver_cut.settings(settings)\n",
    "solver_cut.solve()\n",
    "p1, t1, d1 = solver_cut.get_sampled_solution()\n",
    "m1 = np.linalg.norm(d1, axis=1)\n",
    "\n",
    "\n",
    "mp.plot(p1+d1, t1, m1)\n",
    "print((fl_good_proj).max())"
   ]
  },
  {
   "cell_type": "code",
   "execution_count": 57,
   "metadata": {},
   "outputs": [
    {
     "name": "stdout",
     "output_type": "stream",
     "text": [
      "[2019-08-30 17:24:11.721] [polyfem] [info] simplex_count: \t10901\n",
      "[2019-08-30 17:24:11.721] [polyfem] [info] regular_count: \t0\n",
      "[2019-08-30 17:24:11.721] [polyfem] [info] regular_boundary_count: \t0\n",
      "[2019-08-30 17:24:11.721] [polyfem] [info] simple_singular_count: \t0\n",
      "[2019-08-30 17:24:11.721] [polyfem] [info] multi_singular_count: \t0\n",
      "[2019-08-30 17:24:11.721] [polyfem] [info] boundary_count: \t0\n",
      "[2019-08-30 17:24:11.721] [polyfem] [info] multi_singular_boundary_count: \t0\n",
      "[2019-08-30 17:24:11.721] [polyfem] [info] non_regular_count: \t0\n",
      "[2019-08-30 17:24:11.721] [polyfem] [info] non_regular_boundary_count: \t0\n",
      "[2019-08-30 17:24:11.721] [polyfem] [info] undefined_count: \t0\n",
      "[2019-08-30 17:24:11.721] [polyfem] [info] total count:\t 10901\n",
      "[2019-08-30 17:24:11.721] [polyfem] [info] Building isoparametric basis...\n",
      "[2019-08-30 17:24:11.786] [polyfem] [info] Computing polygonal basis...\n",
      "[2019-08-30 17:24:11.786] [polyfem] [info]  took 1.3873e-05s\n",
      "[2019-08-30 17:24:11.789] [polyfem] [info] hmin: 0.301771\n",
      "[2019-08-30 17:24:11.789] [polyfem] [info] hmax: 5.10166\n",
      "[2019-08-30 17:24:11.789] [polyfem] [info] havg: 2.21378\n",
      "[2019-08-30 17:24:11.789] [polyfem] [info]  took 0.0656463s\n",
      "[2019-08-30 17:24:11.789] [polyfem] [info] flipped elements 0\n",
      "[2019-08-30 17:24:11.789] [polyfem] [info] h: 5.10166\n",
      "[2019-08-30 17:24:11.789] [polyfem] [info] n bases: 3656\n",
      "[2019-08-30 17:24:11.789] [polyfem] [info] n pressure bases: 0\n",
      "[2019-08-30 17:24:11.789] [polyfem] [info] Assigning rhs...\n",
      "[2019-08-30 17:24:11.804] [polyfem] [info]  took 0.0145842s\n",
      "[2019-08-30 17:24:11.804] [polyfem] [info] Assembling stiffness mat...\n",
      "[2019-08-30 17:24:11.960] [polyfem] [info]  took 0.156721s\n",
      "[2019-08-30 17:24:11.960] [polyfem] [info] sparsity: 358562/120297024\n",
      "[2019-08-30 17:24:11.960] [polyfem] [info] Solving LinearElasticity with\n",
      "[2019-08-30 17:24:11.960] [polyfem] [info] Hypre...\n"
     ]
    },
    {
     "data": {
      "application/vnd.jupyter.widget-view+json": {
       "model_id": "2e3277d067c54ec880965a0a9a4d8da0",
       "version_major": 2,
       "version_minor": 0
      },
      "text/plain": [
       "Renderer(camera=PerspectiveCamera(children=(DirectionalLight(color='white', intensity=0.6, position=(-0.001647…"
      ]
     },
     "metadata": {},
     "output_type": "display_data"
    }
   ],
   "source": [
    "solver_ini.settings(settings)\n",
    "solver_ini.solve()\n",
    "p2, t2, d2 = solver_ini.get_sampled_solution()\n",
    "m2 = np.linalg.norm(d2, axis=1)\n",
    "\n",
    "\n",
    "mp.plot(p2+d2, t2, m2)"
   ]
  },
  {
   "cell_type": "code",
   "execution_count": 58,
   "metadata": {},
   "outputs": [
    {
     "name": "stdout",
     "output_type": "stream",
     "text": [
      "1.0662958348055822\n",
      "1.0656775415256337\n"
     ]
    }
   ],
   "source": [
    "\n",
    "v_1, f_1 = extract_surface(p1+d1, t1)\n",
    "igl.write_obj(\"1.obj\", v_1, f_1)\n",
    "v_1, f_1 = igl.read_triangle_mesh(\"1.obj\")\n",
    "v_2, f_2 = extract_surface(p2+d2, t2)\n",
    "igl.write_obj(\"2.obj\", v_2, f_2)\n",
    "v_2, f_2 = igl.read_triangle_mesh(\"2.obj\")\n",
    "v_, f_ = extract_surface(p+d, t)\n",
    "igl.write_obj(\"_.obj\", v_, f_)\n",
    "v_, f_ = igl.read_triangle_mesh(\"_.obj\")\n",
    "print(igl.hausdorff(v_1, f_1, v_2, f_2))\n",
    "print(igl.hausdorff(v_, f_, v_2, f_2))"
   ]
  },
  {
   "cell_type": "code",
   "execution_count": 10,
   "metadata": {},
   "outputs": [
    {
     "data": {
      "application/vnd.jupyter.widget-view+json": {
       "model_id": "374adbf43e1143a18fb8c10c9b19d095",
       "version_major": 2,
       "version_minor": 0
      },
      "text/plain": [
       "Renderer(camera=PerspectiveCamera(children=(DirectionalLight(color='white', intensity=0.6, position=(0.0078250…"
      ]
     },
     "metadata": {},
     "output_type": "display_data"
    }
   ],
   "source": [
    "mp.plot(v_bad,igl.boundary_facets(f_bad))"
   ]
  },
  {
   "cell_type": "code",
   "execution_count": 25,
   "metadata": {},
   "outputs": [
    {
     "data": {
      "text/plain": [
       "array([[  79,    0],\n",
       "       [   0,  101],\n",
       "       [   1,   79],\n",
       "       ...,\n",
       "       [1808, 1811],\n",
       "       [1822, 1809],\n",
       "       [1814, 1810]], dtype=int64)"
      ]
     },
     "execution_count": 25,
     "metadata": {},
     "output_type": "execute_result"
    }
   ],
   "source": [
    "igl.boundary_facets(f_bad)"
   ]
  },
  {
   "cell_type": "code",
   "execution_count": null,
   "metadata": {},
   "outputs": [],
   "source": []
  }
 ],
 "metadata": {
  "kernelspec": {
   "display_name": "Python 3",
   "language": "python",
   "name": "python3"
  },
  "language_info": {
   "codemirror_mode": {
    "name": "ipython",
    "version": 3
   },
   "file_extension": ".py",
   "mimetype": "text/x-python",
   "name": "python",
   "nbconvert_exporter": "python",
   "pygments_lexer": "ipython3",
   "version": "3.7.3"
  }
 },
 "nbformat": 4,
 "nbformat_minor": 2
}

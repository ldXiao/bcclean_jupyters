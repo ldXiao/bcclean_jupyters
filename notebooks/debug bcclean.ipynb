{
 "cells": [
  {
   "cell_type": "code",
   "execution_count": 4,
   "metadata": {},
   "outputs": [],
   "source": [
    "import igl\n",
    "import meshplot as mp\n",
    "import json\n",
    "import numpy as np\n",
    "from collections import OrderedDict"
   ]
  },
  {
   "cell_type": "code",
   "execution_count": 5,
   "metadata": {},
   "outputs": [
    {
     "data": {
      "application/vnd.jupyter.widget-view+json": {
       "model_id": "889f250d4b694f77bda586c606f8ac2c",
       "version_major": 2,
       "version_minor": 0
      },
      "text/plain": [
       "Renderer(camera=PerspectiveCamera(children=(DirectionalLight(color='white', intensity=0.6, position=(-0.000253…"
      ]
     },
     "metadata": {},
     "output_type": "display_data"
    }
   ],
   "source": [
    "v, f = igl.read_triangle_mesh(\"../data/6/00000058_666139e3bff64d4e8a6ce183_trimesh_007.obj\")\n",
    "fl = igl.read_dmat(\"../data/6/feat.dmat\")\n",
    "p = mp.plot(v, f, fl, return_plot=True, shading={\"wireframe\":False, \"width\":1000, \"height\":1000})\n"
   ]
  },
  {
   "cell_type": "code",
   "execution_count": 6,
   "metadata": {},
   "outputs": [
    {
     "data": {
      "application/vnd.jupyter.widget-view+json": {
       "model_id": "efe2221d77844639939004633fb863ca",
       "version_major": 2,
       "version_minor": 0
      },
      "text/plain": [
       "Renderer(camera=PerspectiveCamera(children=(DirectionalLight(color='white', intensity=0.6, position=(0.0001883…"
      ]
     },
     "metadata": {},
     "output_type": "display_data"
    }
   ],
   "source": [
    "with open(\"../../bcClean/debug_paths2.json\") as jsfile:\n",
    "    paths = json.load(jsfile,object_pairs_hook=OrderedDict)\n",
    "v, f  = igl.read_triangle_mesh(\"../../bcClean/debug_mesh2.obj\")\n",
    "p = mp.plot(v, f, return_plot=True,shading={\"wireframe\":False,\"width\":1000,\"height\":1000})\n",
    "for key in paths:\n",
    "    path = paths[key]\n",
    "#     print(path)\n",
    "    pathedge = [[x,y] for x, y in zip (path[1:],path[:-1])]\n",
    "    p.add_edges(v,np.array(pathedge, dtype = 'int64'),shading={\"line_width\": 4.0,\"line_color\": \"red\"})\n"
   ]
  },
  {
   "cell_type": "code",
   "execution_count": 7,
   "metadata": {},
   "outputs": [
    {
     "data": {
      "application/vnd.jupyter.widget-view+json": {
       "model_id": "51608301eb36409daccef29a12309773",
       "version_major": 2,
       "version_minor": 0
      },
      "text/plain": [
       "HBox(children=(Output(), Output()))"
      ]
     },
     "metadata": {},
     "output_type": "display_data"
    },
    {
     "data": {
      "application/vnd.jupyter.widget-view+json": {
       "model_id": "76f1263392b948d9b74ad48877faa7be",
       "version_major": 2,
       "version_minor": 0
      },
      "text/plain": [
       "HBox(children=(Output(), Output()))"
      ]
     },
     "metadata": {},
     "output_type": "display_data"
    }
   ],
   "source": [
    "with open(\"../../bcClean/debug_paths3.json\") as jsfile:\n",
    "    paths = json.load(jsfile,object_pairs_hook=OrderedDict)\n",
    "v, f  = igl.read_triangle_mesh(\"../../bcClean/debug_mesh3.obj\")\n",
    "p = mp.subplot(v, f, s= [2,2,0],shading={\"wireframe\":False})\n",
    "for key in paths:\n",
    "    path = paths[key]\n",
    "#     print(path)\n",
    "    pathedge = [[x,y] for x, y in zip (path[1:],path[:-1])]\n",
    "    p.rows[0][0].add_edges(v,np.array(pathedge, dtype = 'int64'),shading={\"line_width\": 4.0,\"line_color\": \"red\"})\n"
   ]
  },
  {
   "cell_type": "code",
   "execution_count": 8,
   "metadata": {},
   "outputs": [
    {
     "data": {
      "application/vnd.jupyter.widget-view+json": {
       "model_id": "07409d7db6134d6daeddb953b5299b0c",
       "version_major": 2,
       "version_minor": 0
      },
      "text/plain": [
       "HBox(children=(Output(), Output()))"
      ]
     },
     "metadata": {},
     "output_type": "display_data"
    },
    {
     "data": {
      "application/vnd.jupyter.widget-view+json": {
       "model_id": "c1eb104168ef44efaba8fd087ec8706f",
       "version_major": 2,
       "version_minor": 0
      },
      "text/plain": [
       "HBox(children=(Output(), Output()))"
      ]
     },
     "metadata": {},
     "output_type": "display_data"
    }
   ],
   "source": [
    "with open(\"../../bcClean/debug_paths1.json\") as jsfile:\n",
    "    paths = json.load(jsfile,object_pairs_hook=OrderedDict)\n",
    "v, f  = igl.read_triangle_mesh(\"../../bcClean/debug_mesh1.obj\")\n",
    "p = mp.subplot(v, f, s= [2,2,0],shading={\"wireframe\":False})\n",
    "for key in paths:\n",
    "    path = paths[key]\n",
    "#     print(path)\n",
    "    pathedge = [[x,y] for x, y in zip (path[1:],path[:-1])]\n",
    "    p.rows[0][0].add_edges(v,np.array(pathedge, dtype = 'int64'),shading={\"line_width\": 4.0,\"line_color\": \"red\"})\n"
   ]
  },
  {
   "cell_type": "code",
   "execution_count": 9,
   "metadata": {},
   "outputs": [
    {
     "name": "stdout",
     "output_type": "stream",
     "text": [
      "0.0\n"
     ]
    },
    {
     "data": {
      "application/vnd.jupyter.widget-view+json": {
       "model_id": "a44dccf19e80498bb3a29bb392d06573",
       "version_major": 2,
       "version_minor": 0
      },
      "text/plain": [
       "Renderer(camera=PerspectiveCamera(children=(DirectionalLight(color='white', intensity=0.6, position=(0.0001883…"
      ]
     },
     "metadata": {},
     "output_type": "display_data"
    },
    {
     "name": "stdout",
     "output_type": "stream",
     "text": [
      "49.0 0.0\n"
     ]
    }
   ],
   "source": [
    "with open(\"../../bcClean/debug_paths4.json\") as jsfile:\n",
    "    paths = json.load(jsfile,object_pairs_hook=OrderedDict)\n",
    "v, f  = igl.read_triangle_mesh(\"../../bcClean/debug_mesh4.obj\")\n",
    "fl = igl.read_dmat(\"../../bcClean/FL_final4.dmat\")\n",
    "fln = np.where(fl==-1 , 0, fl)\n",
    "print(np.linalg.norm(fln - fl))\n",
    "p = mp.plot(v, f,fln, return_plot=True,shading={\"wireframe\":False,\"width\":1000,\"height\":1000})\n",
    "print(fl.max(), fl.min())\n",
    "\n",
    "for key in paths:\n",
    "    path = paths[key]\n",
    "#     print(path)\n",
    "    pathedge = [[x,y] for x, y in zip (path[1:],path[:-1])]\n",
    "    p.add_edges(v,np.array(pathedge, dtype = 'int64'),shading={\"line_width\": 4.0,\"line_color\": \"red\"})"
   ]
  },
  {
   "cell_type": "code",
   "execution_count": 15,
   "metadata": {},
   "outputs": [
    {
     "name": "stdout",
     "output_type": "stream",
     "text": [
      "0.0\n",
      "Invalid color array given! Supported are numpy arrays. <class 'numpy.ndarray'>\n"
     ]
    },
    {
     "data": {
      "application/vnd.jupyter.widget-view+json": {
       "model_id": "171195921c1447938147c735f0f0be0a",
       "version_major": 2,
       "version_minor": 0
      },
      "text/plain": [
       "Renderer(camera=PerspectiveCamera(children=(DirectionalLight(color='white', intensity=0.6, position=(0.0001883…"
      ]
     },
     "metadata": {},
     "output_type": "display_data"
    },
    {
     "name": "stdout",
     "output_type": "stream",
     "text": [
      "49.0 0.0\n"
     ]
    }
   ],
   "source": [
    "with open(\"../../bcClean/debug_paths.json\") as jsfile:\n",
    "    paths = json.load(jsfile,object_pairs_hook=OrderedDict)\n",
    "v, f  = igl.read_triangle_mesh(\"../../bcClean/debug_mesh.obj\")\n",
    "fl = igl.read_dmat(\"../../bcClean/FL_final.dmat\")\n",
    "fln = np.where(fl==-1 , 0, fl)\n",
    "print(np.linalg.norm(fln - fl))\n",
    "p = mp.plot(v, f,fln, return_plot=True,shading={\"wireframe\":True,\"width\":1000,\"height\":1000})\n",
    "print(fl.max(), fl.min())\n",
    "\n",
    "for key in paths:\n",
    "    path = paths[key]\n",
    "#     print(path)\n",
    "    pathedge = [[x,y] for x, y in zip (path[1:],path[:-1])]\n",
    "    p.add_edges(v,np.array(pathedge, dtype = 'int64'),shading={\"line_width\": 4.0,\"line_color\": \"red\"})"
   ]
  },
  {
   "cell_type": "code",
   "execution_count": 8,
   "metadata": {},
   "outputs": [],
   "source": [
    "a = square(10)"
   ]
  },
  {
   "cell_type": "code",
   "execution_count": 9,
   "metadata": {},
   "outputs": [
    {
     "name": "stdout",
     "output_type": "stream",
     "text": [
      "0\n",
      "1\n",
      "4\n",
      "9\n",
      "16\n",
      "25\n",
      "36\n",
      "49\n",
      "64\n",
      "81\n"
     ]
    }
   ],
   "source": [
    "for x in a:\n",
    "    print(x)"
   ]
  },
  {
   "cell_type": "code",
   "execution_count": 10,
   "metadata": {},
   "outputs": [
    {
     "data": {
      "text/plain": [
       "<generator object square at 0x111db1570>"
      ]
     },
     "execution_count": 10,
     "metadata": {},
     "output_type": "execute_result"
    }
   ],
   "source": [
    "a"
   ]
  },
  {
   "cell_type": "code",
   "execution_count": 12,
   "metadata": {},
   "outputs": [],
   "source": [
    "b = [1,2,3]\n",
    "b[0]=2"
   ]
  },
  {
   "cell_type": "code",
   "execution_count": 15,
   "metadata": {},
   "outputs": [],
   "source": [
    "b =[1, 1.5, 3,\"a\"]"
   ]
  },
  {
   "cell_type": "code",
   "execution_count": null,
   "metadata": {},
   "outputs": [],
   "source": []
  }
 ],
 "metadata": {
  "kernelspec": {
   "display_name": "Python 3",
   "language": "python",
   "name": "python3"
  },
  "language_info": {
   "codemirror_mode": {
    "name": "ipython",
    "version": 3
   },
   "file_extension": ".py",
   "mimetype": "text/x-python",
   "name": "python",
   "nbconvert_exporter": "python",
   "pygments_lexer": "ipython3",
   "version": "3.7.3"
  }
 },
 "nbformat": 4,
 "nbformat_minor": 2
}

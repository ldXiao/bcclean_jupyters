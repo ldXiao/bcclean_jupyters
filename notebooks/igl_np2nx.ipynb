{
 "cells": [
  {
   "cell_type": "code",
   "execution_count": 1,
   "metadata": {},
   "outputs": [],
   "source": [
    "import numpy as np\n",
    "import igl\n",
    "import pybcclean as pbc\n",
    "import networkx as nx\n",
    "from scipy.spatial import cKDTree as KDTree\n",
    "import meshplot as mp\n",
    "import os\n",
    "import sys\n",
    "module_path = os.path.abspath(os.path.join('..'))\n",
    "if module_path not in sys.path:\n",
    "    sys.path.append(module_path)\n",
    "import pbc_utilities as pbcut"
   ]
  },
  {
   "cell_type": "code",
   "execution_count": 59,
   "metadata": {},
   "outputs": [
    {
     "name": "stdout",
     "output_type": "stream",
     "text": [
      "read\n",
      "32\n"
     ]
    }
   ],
   "source": [
    "parent_dir = \"../data/\"+str(2)+\"/\"\n",
    "bad_obj_file = pbcut.get_bad_mesh(parent_dir)\n",
    "dmat_file = parent_dir+\"feat.dmat\"\n",
    "good_obj_file = parent_dir + \"good.mesh__sf.obj\"\n",
    "v_bad, f_bad=igl.read_triangle_mesh(bad_obj_file)\n",
    "fl_bad  = igl.read_dmat(dmat_file)\n",
    "v_good, f_good = igl.read_triangle_mesh(good_obj_file)\n",
    "\n",
    "print(\"read\")\n",
    "fl_bad=fl_bad.astype('int32')\n",
    "f_good = f_good.astype('int32')\n",
    "f_bad = f_bad.astype('int32')\n",
    "label_num = fl_bad.max()+1\n",
    "# prob_mat, fl_good = pbc.project_face_labels(v_bad, f_bad, fl_bad,label_num,2, v_good, f_good)\n",
    "# fl_refine = pbc.refine_labels(v_good, f_good, prob_mat, fl_good.astype('int32'),1)[:,0]\n",
    "# print(\"refine\")\n",
    "# v_good, f_good = igl.upsample(v_good, f_good, 2)\n",
    "edge_list_bad, patch_edge_list_bad = pbc.build_edge_list(v_bad, f_bad, fl_bad, label_num)\n",
    "node_list_bad = pbc.build_node_list(f_bad, fl_bad, label_num)\n",
    "# prob_mat, fl_good = pbc.project_face_labels(v_bad, f_bad, fl_bad,label_num,2, v_good, f_good)\n",
    "# fl_refine = pbc.refine_labels(v_good, f_good, prob_mat, fl_good.astype('int32'),1)[:,0]\n",
    "# print(\"refine\")\n",
    "G_bad_ini = nx.Graph()\n",
    "G_bad_ini.add_nodes_from(list(range(len(v_bad))))\n",
    "G_bad_ini.add_edges_from([tuple(a) for a in igl.edges(f_bad)])\n",
    "G_bad = nx.Graph()\n",
    "G_bad.add_nodes_from(list(range(len(v_bad))))\n",
    "G_bad.add_edges_from([tuple(a) for a in igl.edges(f_bad)])\n",
    "G_good = nx.Graph()\n",
    "G_good.add_nodes_from(list(range(len(v_good))))\n",
    "G_good.add_edges_from([tuple(a) for a in igl.edges(f_good)])\n",
    "print(len(edge_list_bad))"
   ]
  },
  {
   "cell_type": "code",
   "execution_count": 60,
   "metadata": {
    "code_folding": []
   },
   "outputs": [],
   "source": [
    "def initialize_attributes(G, v, node_list, edge_list):\n",
    "    node_idx_list = [nd.vidx for nd in node_list]\n",
    "    for vidx in G.nodes():\n",
    "        G.nodes[vidx][\"position\"]=v[vidx].copy()\n",
    "        G.nodes[vidx][\"edge_list\"] = [] \n",
    "        # if it is an NNode more than three edges counter clockwise according to outgoing normal\n",
    "        if( not vidx in node_idx_list):\n",
    "            G.nodes[vidx][\"is_node\"] = False\n",
    "        else:\n",
    "            G.nodes[vidx][\"is_node\"] = True\n",
    "    for j, edg in enumerate(edge_list):\n",
    "        for v in edg.vertices_list:\n",
    "            if not j in G.nodes[v][\"edge_list\"]:\n",
    "                G.nodes[v][\"edge_list\"].append(j)\n",
    "                \n",
    "def recur_func(G, v, node_list, edge_list, head):\n",
    "    tree_head = nx.bfs_tree(G, head)\n",
    "    source_edge_idices = G.nodes[head][\"edge_list\"]\n",
    "#     print(\"find\", head ,\"on edge\", source_edge_idices)\n",
    "    tail = -1\n",
    "    fake_edge = pbc.Edge()\n",
    "    if len(source_edge_idices) != 2:\n",
    "        # temp node of valance 2\n",
    "        return False\n",
    "    target_edge_idx = -1\n",
    "    for tx, ty in tree_head.edges():\n",
    "        if len(G.nodes[ty][\"edge_list\"]) == 1:\n",
    "            print(\"called\")\n",
    "            target_edge_idx=G.nodes[ty][\"edge_list\"][0]\n",
    "            if not target_edge_idx in source_edge_idices:\n",
    "                tail = ty\n",
    "                path = nx.shortest_path(tree_head, source=head, target=tail)\n",
    "                fake_edge.head = head\n",
    "                fake_edge.tail = tail\n",
    "                fake_edge.vertices_list = path\n",
    "                \n",
    "                break\n",
    "    if target_edge_idx == -1:\n",
    "        return False\n",
    "    fake_node_tail = pbc.Node()\n",
    "    fake_node_tail.vidx = tail\n",
    "    node_list.append(fake_node_tail)\n",
    "    edge_list.append(fake_edge)\n",
    "    target_edge = edge_list[target_edge_idx]\n",
    "    if target_edge.head != -1 and target_edge.tail != -1:\n",
    "        # break it into two\n",
    "        target_edge0 = pbc.Edge()\n",
    "        target_edge0.head = target_edge.head\n",
    "        target_edge0.tail = tail\n",
    "        target_edge0.vertices_list = []\n",
    "        target_edge1 = pbc.Edge()\n",
    "        target_edge1.head = tail\n",
    "        target_edge1.tail = target_edge.tail\n",
    "        target_edge1.vertices_list = []\n",
    "        bench = -1\n",
    "        for j, vidx in enumerate(target_edge.vertices_list):\n",
    "            if vidx == tail:\n",
    "                bench = j\n",
    "        target_edge0.vertices_list = target_edge.vertices_list[:bench+1]\n",
    "        target_edge1.vertices_list = target_edge.vertices_list[bench:] \n",
    "        edge_list.pop(target_edge_idx) # remove the old edge\n",
    "        edge_list.append(target_edge0)\n",
    "        edge_list.append(target_edge1)\n",
    "        initialize_attributes(G, v, node_list, edge_list)\n",
    "        return True\n",
    "    else:\n",
    "        return False\n",
    "    \n",
    "    \n",
    "    \n",
    "    \n",
    "def add_fake_node_edge(G, v, node_list, edge_list):\n",
    "    node_idx_list = [nd.vidx for nd in node_list]\n",
    "    loops = []\n",
    "    for j, edg in enumerate(edge_list):\n",
    "        if(edg.head == edg.tail):\n",
    "            loops.append(j)\n",
    "    #break all the loops in the frame\n",
    "    \n",
    "    fake_node_idx = []\n",
    "    count = 0\n",
    "    for lp in reversed(sorted(loops)):\n",
    "        count +=1\n",
    "        loop = edge_list[lp]\n",
    "        head = loop.vertices_list[0]\n",
    "        mid = loop.vertices_list[len(loop.vertices_list) // 2]\n",
    "        fake_node_idx.append(head)\n",
    "        fake_node_idx.append(mid)\n",
    "        fake_node_head = pbc.Node()\n",
    "        fake_node_head.vidx = head\n",
    "        fake_node_mid = pbc.Node()\n",
    "        fake_node_mid.vidx = mid\n",
    "        node_list.append(fake_node_head)\n",
    "        node_list.append(fake_node_mid)\n",
    "        bench = -1\n",
    "        for j, vidx in enumerate(loop.vertices_list):\n",
    "            if vidx == mid:\n",
    "                bench = j\n",
    "        if bench == -1:\n",
    "            return False\n",
    "        target_edge0 = pbc.Edge()\n",
    "        target_edge0.head = head\n",
    "        target_edge0.tail = mid\n",
    "        target_edge0.vertices_list = loop.vertices_list[: bench+1]\n",
    "        target_edge1 = pbc.Edge()\n",
    "        target_edge1.head = mid\n",
    "        target_edge1.tail = head\n",
    "        target_edge1.vertices_list = loop.vertices_list[bench:]+[loop.vertices_list[0]]\n",
    "        edge_list.pop(lp)\n",
    "        edge_list.append(target_edge0)\n",
    "        edge_list.append(target_edge1)\n",
    "#         print(count, \"count\")\n",
    "#         print(target_edge1.vertices_list, target_edge0.vertices_list)\n",
    "    \n",
    "    initialize_attributes(G,v,node_list, edge_list)\n",
    "    for root in fake_node_idx:\n",
    "        if(not recur_func(G, v, node_list, edge_list, root)):\n",
    "            return False\n",
    "    return True\n",
    "    "
   ]
  },
  {
   "cell_type": "code",
   "execution_count": 61,
   "metadata": {},
   "outputs": [
    {
     "name": "stdout",
     "output_type": "stream",
     "text": [
      "18 [28, 29, 31]\n",
      "19 [26, 27, 30]\n",
      "16 [23, 24, 27]\n",
      "15 [22, 23, 28]\n",
      "13 [19, 20, 26, 29]\n",
      "12 [17, 18, 19, 30]\n",
      "11 [14, 15, 20, 31]\n",
      "9 [9, 10, 24]\n",
      "10 [10, 11, 17]\n",
      "8 [11, 12, 16, 18]\n",
      "6 [5, 6, 9]\n",
      "5 [6, 7, 12]\n",
      "3 [2, 3, 5]\n",
      "2 [1, 2, 22]\n",
      "1 [0, 1, 15]\n",
      "0 [0, 4, 13, 14]\n",
      "4 [3, 4, 8]\n",
      "7 [7, 8, 13, 16]\n"
     ]
    }
   ],
   "source": [
    "# print(add_fake_node_edge(G_bad, v_bad, node_list_bad, edge_list_bad))\n",
    "initialize_attributes(G_bad, v_bad, node_list_bad, edge_list_bad)\n",
    "for nd in node_list_bad:\n",
    "    print(nd.vidx, G_bad.nodes[nd.vidx][\"edge_list\"])\n",
    "# ff_bad, I_bad=pbc.reorient(v_bad, f_bad) // usually not necessary"
   ]
  },
  {
   "cell_type": "code",
   "execution_count": 96,
   "metadata": {},
   "outputs": [
    {
     "name": "stdout",
     "output_type": "stream",
     "text": [
      "18 [22, 23, 25]\n",
      "19 [20, 21, 24]\n",
      "16 [19, 21, 31]\n",
      "15 [18, 19, 22]\n",
      "13 [16, 17, 20, 23]\n",
      "12 [15, 16, 24, 37]\n",
      "11 [13, 17, 25, 41]\n",
      "9 [8, 9, 32]\n",
      "10 [9, 10, 15]\n",
      "8 [10, 11, 14, 38]\n",
      "6 [4, 5, 8]\n",
      "5 [5, 6, 11]\n",
      "3 [2, 4, 35]\n",
      "2 [1, 18, 34]\n",
      "1 [0, 1, 13]\n",
      "0 [0, 3, 12, 40]\n",
      "4 [2, 3, 7]\n",
      "7 [6, 7, 12, 14]\n",
      "17 [26, 27, 30]\n",
      "808 [26, 27, 33]\n",
      "14 [28, 29, 36]\n",
      "595 [28, 29, 39]\n",
      "732 [30, 31, 32]\n",
      "71 [33, 34, 35]\n",
      "456 [36, 37, 38]\n",
      "390 [39, 40, 41]\n"
     ]
    }
   ],
   "source": [
    "add_fake_node_edge(G_bad, v_bad, node_list_bad, edge_list_bad)\n",
    "for nd in node_list_bad:\n",
    "    print(nd.vidx, G_bad.nodes[nd.vidx][\"edge_list\"])"
   ]
  },
  {
   "cell_type": "code",
   "execution_count": 97,
   "metadata": {
    "code_folding": []
   },
   "outputs": [
    {
     "name": "stdout",
     "output_type": "stream",
     "text": [
      "42\n"
     ]
    },
    {
     "data": {
      "application/vnd.jupyter.widget-view+json": {
       "model_id": "051049eb1fb24a889c9dc2b66c490968",
       "version_major": 2,
       "version_minor": 0
      },
      "text/plain": [
       "HBox(children=(Output(), Output()))"
      ]
     },
     "metadata": {},
     "output_type": "display_data"
    },
    {
     "data": {
      "application/vnd.jupyter.widget-view+json": {
       "model_id": "e7fb17db92b74f959f381bc20680b393",
       "version_major": 2,
       "version_minor": 0
      },
      "text/plain": [
       "HBox(children=(Output(), Output()))"
      ]
     },
     "metadata": {},
     "output_type": "display_data"
    }
   ],
   "source": [
    "print(len(edge_list_bad))\n",
    "node_bad = [nd.vidx for nd in node_list_bad]\n",
    "p_bad = mp.subplot(v_bad, f_bad,s= [2,2,0],shading={\"wireframe\":False})\n",
    "p_bad.rows[0][0].add_points(v_bad[node_bad], shading={\"point_size\": 3})\n",
    "for edg in edge_list_bad:\n",
    "    p_bad.rows[0][0].add_points(v_bad[edg.vertices_list],shading={\"point_size\": 1})"
   ]
  },
  {
   "cell_type": "code",
   "execution_count": 64,
   "metadata": {},
   "outputs": [
    {
     "name": "stdout",
     "output_type": "stream",
     "text": [
      "adjacency detcted\n",
      "{18: [23, 22, 25], 19: [20, 24, 21], 16: [21, 31, 19], 15: [22, 19, 18], 13: [23, 17, 16, 20], 12: [24, 16, 37, 15], 11: [17, 25, 13, 41], 9: [9, 8, 32], 10: [9, 15, 10], 8: [14, 11, 10, 38], 6: [4, 8, 5], 5: [6, 5, 11], 3: [35, 4, 2], 2: [1, 18, 34], 1: [1, 0, 13], 0: [12, 40, 0, 3], 4: [3, 2, 7], 7: [12, 7, 6, 14], 17: [26, 30, 27], 808: [27, 26, 33], 14: [28, 36, 29], 595: [29, 39, 28], 732: [32, 30, 31], 71: [34, 33, 35], 456: [38, 37, 36], 390: [41, 40, 39]}\n"
     ]
    }
   ],
   "source": [
    "node_bad=[nd.vidx for nd in node_list_bad]\n",
    "node_face_dict=pbcut.CC_faces_per_node(v_bad, f_bad, node_bad)\n",
    "node_outedge_dict = {}\n",
    "for key in node_face_dict:\n",
    "    node_outedge_dict[key]= []\n",
    "    for fidx in node_face_dict[key]:\n",
    "        pool = list(f_bad[fidx])\n",
    "        bench = -1\n",
    "        for i, v_f in enumerate(pool):\n",
    "            if v_f == key:\n",
    "                bench = i\n",
    "                break\n",
    "        outedge = [pool[i], pool[(i+1)%3]]\n",
    "        node_outedge_dict[key].append(outedge)\n",
    "\n",
    "node_CC_edge_dict = {}\n",
    "for key in node_outedge_dict:\n",
    "    node_CC_edge_dict[key]=[]\n",
    "    edge_pool = G_bad.nodes[key][\"edge_list\"].copy()\n",
    "    for outedge in node_outedge_dict[key]:\n",
    "        testv = outedge[1]\n",
    "        for i, edg_idx in enumerate(edge_pool):\n",
    "            edg = edge_list_bad[edg_idx]\n",
    "            if (testv in edg.vertices_list ) and edg_idx not in node_CC_edge_dict[key]:\n",
    "                node_CC_edge_dict[key].append(edg_idx)\n",
    "    G_bad.nodes[key][\"edge_list\"] = node_CC_edge_dict[key]\n",
    "print(node_CC_edge_dict)   \n",
    "                "
   ]
  },
  {
   "cell_type": "code",
   "execution_count": 81,
   "metadata": {},
   "outputs": [],
   "source": [
    "def arc_length_sample(v:np.array, edg:pbc.Edge, num:int):\n",
    "    \n",
    "    diffs=v[edg.vertices_list[1:]]-v[edg.vertices_list[:-1]]\n",
    "    norm_list = [np.linalg.norm(dx) for dx in diffs]\n",
    "    arc_list = []\n",
    "    ss = 0\n",
    "    res = np.zeros((num+1,3))\n",
    "    for nm in norm_list:\n",
    "        arc_list.append(ss)\n",
    "        ss += nm\n",
    "    for i in range(num+1):\n",
    "        bench = i*ss/num\n",
    "        count =0\n",
    "        lbda0 = 0\n",
    "        lbda1 = 1\n",
    "        for arc0, arc1 in zip(arc_list[:-1], arc_list[1:]):\n",
    "            if arc0 <= bench and arc1 >= 0:\n",
    "                lbda0 = (bench - arc0)/ norm_list[count]\n",
    "                lbda1 = (arc1 - bench)/ norm_list[count]\n",
    "                break\n",
    "            count += 1\n",
    "        \n",
    "        res[i]=v[edg.vertices_list[count]]* lbda0+ v[edg.vertices_list[count+1]]* lbda1\n",
    "    return res\n",
    "\n",
    "def rbf(radius:float, v_good:np.array, edg:pbc.Edge, num:int):\n",
    "    sample = arc_length_sample(v_bad, edg, num)\n",
    "    lambda x, y: int(np.linalg.norm(x-y)>radius) * np.linalg.norm(x-y)\n",
    "    \n",
    "def edge_weight(G_good:nx.Graph,v_bad:np.array, v_good:np.array, edg:pbc.Edge, num:int):\n",
    "#     weight = np.zeros((len(G_good.edges),0))\n",
    "    sample = arc_length_sample(v_bad, edg, num)\n",
    "    kdt_sample=KDTree(sample)\n",
    "    distances=kdt_sample.query(v_good)[0]\n",
    "    weight = np.array([max(distances[edg_good[0]], distances[edg_good[1]]) for edg_good in G_good.edges])\n",
    "    return weight\n",
    "\n",
    "def split_triangle_pair(G, v, f, uidx, vidx):\n",
    "    # handle v\n",
    "    new_v = (v[vidx]+ v[uidx])/2\n",
    "    new_v_idx = len(v)\n",
    "    # append to v\n",
    "    v = np.vstack([v, new_v])\n",
    "    \n",
    "    # handle f\n",
    "    vf, ni=igl.vertex_triangle_adjacency(f, len(v)-1)\n",
    "    nd_f_num_u = ni[uidx+1]-ni[uidx] # number of faces adjacent to nd\n",
    "    fnbu = [vf[ni[uidx]+j] for j in range(nd_f_num_u)]\n",
    "    nd_f_num_v = ni[vidx+1]-ni[vidx] # number of faces adjacent to nd\n",
    "    fnbv = [vf[ni[vidx]+j] for j in range(nd_f_num_v)]\n",
    "    finter = [val for val in fnbv if val in fnbu]\n",
    "    assert(len(finter) == 2)\n",
    "    \n",
    "    u_local_idx = -1\n",
    "    v_local_idx = -1\n",
    "    x  = -1\n",
    "    y = -1\n",
    "    fx = -1\n",
    "    fy = -1\n",
    "    for i, v_f in enumerate(f[finter[0]]):\n",
    "        if v_f == uidx:\n",
    "            u_local_idx = i\n",
    "        elif v_f == vidx:\n",
    "            v_local_idx = i\n",
    "    if((u_local_idx+1)% 3 == v_local_idx):\n",
    "        fx = finter[0]\n",
    "        fy = finter[1]\n",
    "    for v_f in f[fx]:\n",
    "        if v_f != uidx and v_f != vidx:\n",
    "            x = v_f\n",
    "    for v_f in f[fy]:\n",
    "        if v_f != uidx and v_f != vidx:\n",
    "            y = v_f\n",
    "    f=np.delete(f, [fx, fy], axis= 0)\n",
    "    f0 = np.array([x, uidx, new_v_idx])\n",
    "    f1 = np.array([uidx, y, new_v_idx])\n",
    "    f2 = np.array([y, vidx, new_v_idx])\n",
    "    f3 = np.array([vidx, x, new_v_idx])\n",
    "    f = np.vstack([f, f0, f1, f2, f3])\n",
    "#     print(\"add\",len(f))\n",
    "    # handle G\n",
    "    G.add_node(new_v_idx)\n",
    "    G.remove_edge(uidx, vidx)\n",
    "    G.add_edges_from([(x, new_v_idx), (uidx, new_v_idx), (vidx, new_v_idx), (y, new_v_idx)])\n",
    "    G.nodes[new_v_idx][\"position\"]= new_v\n",
    "    G.nodes[new_v_idx][\"edge_list\"] = [] \n",
    "    G.nodes[vidx][\"is_node\"] = False\n",
    "    return G, v, f\n",
    "\n",
    "def bridge_detect(G):\n",
    "    res = []\n",
    "    for u,v in G.edges():\n",
    "        if len(G.nodes[u][\"edge_list\"])==1 and len(G.nodes[v][\"edge_list\"])==1:\n",
    "            if G.nodes[u][\"edge_list\"][0]!= G.nodes[v][\"edge_list\"][0]:\n",
    "                res.append((u,v))\n",
    "                \n",
    "    return res\n",
    "\n",
    "def bridge_detect2(G):\n",
    "    res = []\n",
    "    for u,v in G.edges():\n",
    "        if len(G.nodes[u][\"edge_list\"])==1 and len(G.nodes[v][\"edge_list\"])==1:\n",
    "            if G.nodes[u][\"edge_list\"][0]!= G.nodes[v][\"edge_list\"][0]:\n",
    "                return u, v\n",
    "                \n",
    "    return -1, -1"
   ]
  },
  {
   "cell_type": "code",
   "execution_count": 66,
   "metadata": {},
   "outputs": [
    {
     "name": "stdout",
     "output_type": "stream",
     "text": [
      "{18: 229, 19: 56, 16: 139, 15: 117, 13: 78, 12: 1366, 11: 1127, 9: 144, 10: 157, 8: 1205, 6: 132, 5: 147, 3: 371, 2: 445, 1: 433, 0: 995, 4: 440, 7: 450, 17: 21, 808: 512, 14: 32, 595: 367, 732: 143, 71: 710, 456: 148, 390: 1128}\n"
     ]
    }
   ],
   "source": [
    "node_dict = {}\n",
    "kdt_good = KDTree(v_good)\n",
    "for nd in node_list_bad:\n",
    "    node_dict[nd.vidx] = kdt_good.query(v_bad[nd.vidx])[1]\n",
    "print(node_dict)"
   ]
  },
  {
   "cell_type": "code",
   "execution_count": 95,
   "metadata": {
    "scrolled": true
   },
   "outputs": [
    {
     "name": "stdout",
     "output_type": "stream",
     "text": [
      "1497\n"
     ]
    },
    {
     "data": {
      "application/vnd.jupyter.widget-view+json": {
       "model_id": "f001e957a9924f06a691ee93851f368c",
       "version_major": 2,
       "version_minor": 0
      },
      "text/plain": [
       "HBox(children=(Output(), Output()))"
      ]
     },
     "metadata": {},
     "output_type": "display_data"
    },
    {
     "data": {
      "application/vnd.jupyter.widget-view+json": {
       "model_id": "25604347b8634acda08440757e10802d",
       "version_major": 2,
       "version_minor": 0
      },
      "text/plain": [
       "HBox(children=(Output(), Output()))"
      ]
     },
     "metadata": {},
     "output_type": "display_data"
    },
    {
     "name": "stdout",
     "output_type": "stream",
     "text": [
      "for edg 0\n",
      "[]\n",
      "for edg 1\n",
      "[]\n",
      "for edg 2\n",
      "[]\n",
      "for edg 3\n",
      "[]\n",
      "for edg 4\n",
      "[]\n",
      "for edg 5\n",
      "[(871, 1366)]\n",
      "1498\n",
      "for edg 6\n",
      "[]\n",
      "for edg 7\n",
      "[]\n",
      "for edg 8\n"
     ]
    },
    {
     "name": "stderr",
     "output_type": "stream",
     "text": [
      "/Users/vector_cat/anaconda3/envs/bcclean_dev/lib/python3.7/site-packages/ipykernel_launcher.py:74: FutureWarning: in the future negative indices will not be ignored by `numpy.delete`.\n"
     ]
    },
    {
     "name": "stdout",
     "output_type": "stream",
     "text": [
      "[]\n",
      "for edg 9\n",
      "[]\n",
      "for edg 10\n",
      "[]\n",
      "for edg 11\n",
      "[]\n",
      "for edg 12\n",
      "[]\n",
      "for edg 13\n",
      "[]\n",
      "for edg 14\n",
      "[]\n",
      "for edg 15\n",
      "[]\n",
      "for edg 16\n",
      "[]\n",
      "for edg 17\n",
      "[]\n",
      "for edg 18\n",
      "[]\n",
      "for edg 19\n",
      "[]\n",
      "for edg 20\n",
      "[]\n",
      "for edg 21\n",
      "[]\n",
      "for edg 22\n",
      "[]\n",
      "for edg 23\n",
      "[]\n",
      "for edg 24\n",
      "[]\n",
      "for edg 25\n",
      "[]\n",
      "for edg 26\n",
      "[]\n",
      "for edg 27\n",
      "[]\n",
      "for edg 28\n",
      "[]\n",
      "for edg 29\n",
      "[]\n",
      "for edg 30\n",
      "[]\n",
      "for edg 31\n",
      "[]\n",
      "for edg 32\n",
      "[]\n",
      "for edg 33\n",
      "[]\n",
      "for edg 34\n",
      "[]\n",
      "for edg 35\n",
      "[]\n",
      "for edg 36\n",
      "[]\n",
      "for edg 37\n",
      "[]\n",
      "for edg 38\n",
      "[]\n",
      "for edg 39\n",
      "[]\n",
      "for edg 40\n",
      "[]\n",
      "for edg 41\n",
      "[]\n"
     ]
    }
   ],
   "source": [
    "sample_num = 1000\n",
    "v_good_copy = v_good.copy()\n",
    "f_good_copy = f_good.copy()\n",
    "G_good_copy = G_good.copy()\n",
    "# deep copy are necessary\n",
    "\n",
    "\n",
    "    \n",
    "initialize_attributes(G_good_copy, v_good_copy, [],[])\n",
    "print(len(v_good_copy))\n",
    "p = mp.subplot(v_good, f_good,s= [2,2,0],shading={\"wireframe\":False})\n",
    "for edg_idx, edg in enumerate(reversed(edge_list_bad)):\n",
    "    print(\"for edg\", edg_idx)\n",
    "    if (edg.head == -1 and edg.tail == -1):\n",
    "        print(\"minus\")\n",
    "        continue\n",
    "    head = node_dict[edg.head]\n",
    "    tail = node_dict[edg.tail]\n",
    "    sample = arc_length_sample(v_bad, edg, sample_num)\n",
    "    kdt_sample=KDTree(sample)\n",
    "    distances=kdt_sample.query(v_good_copy)[0]\n",
    "    def func(u,v, d): \n",
    "        return np.linalg.norm(v_good_copy[u]-v_good_copy[v])*pow(max(distances[u],distances[v],0.000001), 1)\n",
    "    path=nx.shortest_path(G_good_copy, source=head, target=tail, weight = func)\n",
    "#     print(path)\n",
    "    for v in path:\n",
    "        G_good_copy.nodes[v][\"edge_list\"].append(edg_idx)\n",
    "    bridges = bridge_detect(G_good_copy)\n",
    "    pathedge = [[x,y] for x, y in zip (path[1:],path[:-1])]\n",
    "    print(bridges)\n",
    "    for uidx, vidx in bridges:\n",
    "#         print(\"called\")\n",
    "        G_good_copy, v_good_copy, f_good_copy=split_triangle_pair(G_good_copy, v_good_copy, f_good_copy, uidx, vidx)\n",
    "        print(len(v_good_copy))\n",
    "    \n",
    "    p.rows[0][0].add_edges(v_good_copy,np.array(pathedge, dtype = 'int64'),shading={\"line_width\": 4.0,\"line_color\": \"red\"})\n",
    "#   \n",
    "    if parent_dir == \"../data/\"+str(2)+\"/\":\n",
    "        G_good_copy.remove_nodes_from(path[1:-1])\n",
    "#     print(v_good_copy[path])\n",
    "#     p.rows[0][0].add_points(v_good_copy[path],shading={\"point_size\": 1})\n",
    "        \n",
    "        # #     pathedge = [[x,y] for x, y in zip (path[1:],path[:-1])]\n",
    "    \n",
    "#     G_good_copy.remove_nodes_from(path[1:-1])\n",
    "# p = mp.subplot(v_good, f_good,np.array([2,3,4]) ,s= [2,2,0],shading={\"wireframe\":False})\n",
    "# p.rows[0][0].add_points(v_good[node_good], shading={\"point_size\": 3})\n",
    "# Gp = G_good.copy()\n",
    "# count = -1\n",
    "# for edg in edge_list_bad[:15]:\n",
    "#         head = node_dict[edg.head]\n",
    "#         tail = node_dict[edg.tail]\n",
    "#         sample = arc_length_sample(v_bad, edg, sample_num)\n",
    "#         kdt_sample=KDTree(sample)\n",
    "#         distances=kdt_sample.query(v_good)[0]\n",
    "#         func = lambda u,v, d: np.linalg.norm(v_good[u]-v_good[v])*pow(max(distances[u],distances[v],0.000001), 1)\n",
    "#         path=nx.shortest_path(Gp, source=head, target=tail, weight=func)\n",
    "#         pathedge = [[x,y] for x, y in zip (path[1:],path[:-1])]\n",
    "#         if count != 14:\n",
    "#             p.rows[0][0].add_edges(v_good,np.array(pathedge, dtype = 'int64'),shading={\"line_width\": 4.0,\"line_color\": \"red\"})\n",
    "#         else:\n",
    "#             p.rows[0][0].add_edges(v_good,np.array(pathedge, dtype = 'int64'),shading={\"line_width\": 4.0,\"line_color\": \"red\"})\n",
    "#         Gp.remove_nodes_from(path[1:-1])"
   ]
  },
  {
   "cell_type": "markdown",
   "metadata": {},
   "source": [
    "$$\n",
    "\\begin{align}\n",
    "\\sqrt{37} & = \\sqrt{\\frac{73^2-1}{12^2}} \\\\\n",
    " & = \\sqrt{\\frac{73^2}{12^2}\\cdot\\frac{73^2-1}{73^2}} \\\\ \n",
    " & = \\sqrt{\\frac{73^2}{12^2}}\\sqrt{\\frac{73^2-1}{73^2}} \\\\\n",
    " & = \\frac{73}{12}\\sqrt{1 - \\frac{1}{73^2}} \\\\ \n",
    " & \\approx \\frac{73}{12}\\left(1 - \\frac{1}{2\\cdot73^2}\\right)\n",
    "\\end{align}\n",
    "$$"
   ]
  },
  {
   "cell_type": "code",
   "execution_count": 6,
   "metadata": {
    "code_folding": []
   },
   "outputs": [],
   "source": [
    "def arc_length_sample(v:np.array, edg:pbc.Edge, num:int):\n",
    "    \n",
    "    diffs=v[edg.vertices_list[1:]]-v[edg.vertices_list[:-1]]\n",
    "    norm_list = [np.linalg.norm(dx) for dx in diffs]\n",
    "    arc_list = []\n",
    "    ss = 0\n",
    "    res = np.zeros((num+1,3))\n",
    "    for nm in norm_list:\n",
    "        arc_list.append(ss)\n",
    "        ss += nm\n",
    "    for i in range(num+1):\n",
    "        bench = i*ss/num\n",
    "        count =0\n",
    "        lbda0 = 0\n",
    "        lbda1 = 1\n",
    "        for arc0, arc1 in zip(arc_list[:-1], arc_list[1:]):\n",
    "            if arc0 <= bench and arc1 >= 0:\n",
    "                lbda0 = (bench - arc0)/ norm_list[count]\n",
    "                lbda1 = (arc1 - bench)/ norm_list[count]\n",
    "                break\n",
    "            count += 1\n",
    "        \n",
    "        res[i]=v[edg.vertices_list[count]]* lbda0+ v[edg.vertices_list[count+1]]* lbda1\n",
    "    return res\n",
    "                \n",
    "def edge_weight(G_good:nx.Graph,v_bad:np.array, v_good:np.array, edg:pbc.Edge, num:int):\n",
    "#     weight = np.zeros((len(G_good.edges),0))\n",
    "    sample = arc_length_sample(v_bad, edg, num)\n",
    "    kdt_sample=KDTree(sample)\n",
    "    distances=kdt_sample.query(v_good)[0]\n",
    "    weight = np.array([max(distances[edg_good[0]], distances[edg_good[1]]) for edg_good in G_good.edges])\n",
    "    return weight\n",
    "   \n",
    "    "
   ]
  },
  {
   "cell_type": "code",
   "execution_count": 31,
   "metadata": {},
   "outputs": [],
   "source": [
    "vf_bad, ni_bad = igl.vertex_triangle_adjacency(f_bad, len(v_bad))"
   ]
  },
  {
   "cell_type": "code",
   "execution_count": 203,
   "metadata": {},
   "outputs": [
    {
     "data": {
      "text/plain": [
       "array([1, 3, 3, 4, 5, 1, 1, 1])"
      ]
     },
     "execution_count": 203,
     "metadata": {},
     "output_type": "execute_result"
    }
   ],
   "source": [
    "x=np.vstack([[[1,2,3],[3,4,5]],[1,1,1]])\n",
    "np.delete(x, [1])\n"
   ]
  },
  {
   "cell_type": "markdown",
   "metadata": {},
   "source": []
  },
  {
   "cell_type": "code",
   "execution_count": 54,
   "metadata": {},
   "outputs": [],
   "source": [
    "for edg in edge_list_bad:\n",
    "    head = edg.head\n",
    "    tail = edg.tail\n",
    "    if (head !=-1 and tail != -1):\n",
    "        path=nx.shortest_path(G_bad, source=head, target=tail)\n",
    "        pathedge = [[x,y] for x, y in zip (path[1:],path[:-1])]\n",
    "\n",
    "        d.rows[0][0].add_edges(v_bad,np.array(pathedge, dtype = 'int64') )"
   ]
  },
  {
   "cell_type": "code",
   "execution_count": 88,
   "metadata": {},
   "outputs": [
    {
     "data": {
      "text/plain": [
       "3.7416573867739413"
      ]
     },
     "execution_count": 88,
     "metadata": {},
     "output_type": "execute_result"
    }
   ],
   "source": [
    "x = np.array([1,2,3])\n",
    "np.linalg.norm(x)"
   ]
  },
  {
   "cell_type": "code",
   "execution_count": 61,
   "metadata": {},
   "outputs": [],
   "source": [
    "G = nx.Graph()\n",
    "G.add_nodes_from([1,2,3,4,5])\n",
    "G.add_edges_from([(1,2),(2,3),(3,4),(4,1), (1,5),(2,5),(3,5),(4,5)])"
   ]
  },
  {
   "cell_type": "code",
   "execution_count": 62,
   "metadata": {},
   "outputs": [
    {
     "data": {
      "image/png": "[encoded data removed]",
      "text/plain": [
       "<Figure size 432x288 with 1 Axes>"
      ]
     },
     "metadata": {},
     "output_type": "display_data"
    }
   ],
   "source": [
    "import matplotlib.pyplot as plt\n",
    "# G.remove_nodes_from([5])\n",
    "nx.draw(G)"
   ]
  },
  {
   "cell_type": "code",
   "execution_count": 64,
   "metadata": {},
   "outputs": [],
   "source": [
    "G.remove_node(5)"
   ]
  },
  {
   "cell_type": "code",
   "execution_count": 65,
   "metadata": {},
   "outputs": [
    {
     "data": {
      "image/png": "[encoded data removed]",
      "text/plain": [
       "<Figure size 432x288 with 1 Axes>"
      ]
     },
     "metadata": {},
     "output_type": "display_data"
    }
   ],
   "source": [
    "nx.draw(G)"
   ]
  },
  {
   "cell_type": "code",
   "execution_count": 140,
   "metadata": {},
   "outputs": [],
   "source": [
    "?nx.dijkstra_path"
   ]
  },
  {
   "cell_type": "code",
   "execution_count": 38,
   "metadata": {},
   "outputs": [],
   "source": [
    "?igl.dihedral_angles_intrinsic"
   ]
  },
  {
   "cell_type": "code",
   "execution_count": 8,
   "metadata": {},
   "outputs": [],
   "source": [
    "import matplotlib.pyplot as plt"
   ]
  },
  {
   "cell_type": "code",
   "execution_count": 17,
   "metadata": {},
   "outputs": [
    {
     "data": {
      "text/plain": [
       "[<matplotlib.lines.Line2D at 0x12188c4e0>]"
      ]
     },
     "execution_count": 17,
     "metadata": {},
     "output_type": "execute_result"
    },
    {
     "data": {
      "image/png": "[encoded data removed]",
      "text/plain": [
       "<Figure size 432x288 with 1 Axes>"
      ]
     },
     "metadata": {
      "needs_background": "light"
     },
     "output_type": "display_data"
    }
   ],
   "source": [
    "x = np.arange(-1,10,0.001)\n",
    "def funcc(r, h):\n",
    "    return pow(1-r/h, 4) * (4 * (r/h) +1)\n",
    "h =10\n",
    "y = [funcc(xx, h) for xx in x]\n",
    "plt.plot(x, y)\n"
   ]
  },
  {
   "cell_type": "code",
   "execution_count": null,
   "metadata": {},
   "outputs": [],
   "source": []
  }
 ],
 "metadata": {
  "kernelspec": {
   "display_name": "Python 3",
   "language": "python",
   "name": "python3"
  },
  "language_info": {
   "codemirror_mode": {
    "name": "ipython",
    "version": 3
   },
   "file_extension": ".py",
   "mimetype": "text/x-python",
   "name": "python",
   "nbconvert_exporter": "python",
   "pygments_lexer": "ipython3",
   "version": "3.7.3"
  }
 },
 "nbformat": 4,
 "nbformat_minor": 2
}

{
 "cells": [
  {
   "cell_type": "code",
   "execution_count": 1,
   "metadata": {},
   "outputs": [],
   "source": [
    "import pybcclean as pbc\n",
    "import igl\n",
    "import numpy as np\n",
    "import shutil as shut\n",
    "import wildmeshing as wm\n",
    "import polyfempy as pf\n",
    "from scipy.spatial import cKDTree as KDTree\n",
    "import meshplot as mp\n",
    "import os\n",
    "import time\n",
    "import sys\n",
    "module_path = os.path.abspath(os.path.join('..'))\n",
    "if module_path not in sys.path:\n",
    "    sys.path.append(module_path)\n",
    "import pbc_utilities as pbcut"
   ]
  },
  {
   "cell_type": "code",
   "execution_count": 9,
   "metadata": {},
   "outputs": [
    {
     "name": "stdout",
     "output_type": "stream",
     "text": [
      "2\n",
      "1\n",
      "2\n",
      "4\n",
      "4\n",
      "5\n",
      "2\n",
      "0\n",
      "4\n",
      "2\n",
      "8\n",
      "3\n",
      "10\n",
      "3\n",
      "4\n",
      "4\n",
      "5\n",
      "7\n",
      "3\n",
      "4\n",
      "2\n",
      "4\n",
      "1\n",
      "3\n",
      "4\n",
      "6\n",
      "6\n",
      "6\n",
      "4\n",
      "5\n",
      "4\n",
      "4\n",
      "1\n",
      "4\n",
      "5\n",
      "5\n"
     ]
    }
   ],
   "source": [
    "obj_root =\"../../bcClean_back/data/ABC/obj/abc_0000_obj_v00/\"\n",
    "feat_root = \"../../bcClean_back/data/ABC/feat/abc_0000_feat_v00/\"\n",
    "name_offset = 15\n",
    "count = 0\n",
    "if not os.path.isdir(\"../data/test/\"):\n",
    "    os.mkdir(\"../data/test/\")\n",
    "for parent_suffix in os.listdir(obj_root) :\n",
    "    obj_parent_dir = obj_root + parent_suffix\n",
    "    yml_parent_dir = feat_root + parent_suffix\n",
    "    if (not os.path.isdir(obj_parent_dir)):\n",
    "        continue\n",
    "    target_dir = \"../data/\" + str(count+name_offset)+\"/\"\n",
    "    yml_file = pbcut.get_feat_file(yml_parent_dir)\n",
    "    obj_file = pbcut.get_bad_mesh(obj_parent_dir)\n",
    "    \n",
    "    if (yml_file and obj_file):\n",
    "        file_size = os.path.getsize(obj_file)>> 20 \n",
    "        # get file size in mb\n",
    "        if(file_size > 10):\n",
    "            continue\n",
    "        if not os.path.isdir(target_dir):\n",
    "            os.mkdir(target_dir)\n",
    "        shut.copy2(obj_file, target_dir)\n",
    "        shut.copy2(yml_file, target_dir)\n",
    "        print(file_size)\n",
    "        count +=1\n",
    "    if (count > 35):\n",
    "        break\n",
    "    "
   ]
  },
  {
   "cell_type": "code",
   "execution_count": 10,
   "metadata": {},
   "outputs": [
    {
     "name": "stdout",
     "output_type": "stream",
     "text": [
      "../data/15/feat.dmat\n",
      "../data/16/feat.dmat\n",
      "../data/17/feat.dmat\n",
      "../data/18/feat.dmat\n",
      "../data/19/feat.dmat\n",
      "../data/20/feat.dmat\n",
      "../data/21/feat.dmat\n",
      "../data/22/feat.dmat\n",
      "../data/23/feat.dmat\n",
      "../data/24/feat.dmat\n",
      "../data/25/feat.dmat\n",
      "../data/26/feat.dmat\n",
      "../data/27/feat.dmat\n",
      "../data/28/feat.dmat\n",
      "../data/29/feat.dmat\n",
      "../data/30/feat.dmat\n",
      "../data/31/feat.dmat\n",
      "../data/32/feat.dmat\n",
      "../data/33/feat.dmat\n",
      "../data/34/feat.dmat\n",
      "../data/35/feat.dmat\n",
      "../data/36/feat.dmat\n",
      "../data/37/feat.dmat\n",
      "../data/38/feat.dmat\n",
      "../data/39/feat.dmat\n",
      "../data/40/feat.dmat\n",
      "../data/41/feat.dmat\n",
      "../data/42/feat.dmat\n",
      "../data/43/feat.dmat\n",
      "../data/44/feat.dmat\n",
      "../data/45/feat.dmat\n",
      "../data/46/feat.dmat\n",
      "../data/47/feat.dmat\n",
      "../data/48/feat.dmat\n",
      "../data/49/feat.dmat\n"
     ]
    }
   ],
   "source": [
    "for j in range(27,50):\n",
    "    parent_dir = \"../data/\"+str(j)+\"/\"\n",
    "    obj_file = pbcut.get_bad_mesh(parent_dir)\n",
    "    yml_file = pbcut.get_feat_file(parent_dir)\n",
    "    dmat_file = pbcut.parse_feat(yml_file)\n",
    "    print(dmat_file)\n",
    "    "
   ]
  },
  {
   "cell_type": "code",
   "execution_count": null,
   "metadata": {},
   "outputs": [],
   "source": [
    "for j in range(28,50):\n",
    "    parent_dir = \"../data/\"+str(j)+\"/\"\n",
    "    bad_obj_file = pbcut.get_bad_mesh(parent_dir)\n",
    "    wm.tetrahedralize(bad_obj_file, parent_dir +\"good.mesh\", stop_quality=7,edge_length_r = 0.04)\n",
    "    "
   ]
  },
  {
   "cell_type": "code",
   "execution_count": 2,
   "metadata": {},
   "outputs": [],
   "source": [
    "?wm.tetrahedralize"
   ]
  },
  {
   "cell_type": "code",
   "execution_count": 2,
   "metadata": {},
   "outputs": [
    {
     "name": "stdout",
     "output_type": "stream",
     "text": [
      "read\n",
      "refine\n",
      "built\n",
      "{2: {'patch_diff': 0, 'euler_diff': 0}, 3: {'patch_diff': 0, 'euler_diff': 0}, 4: {'patch_diff': -129, 'euler_diff': -47}, 5: {'patch_diff': -19, 'euler_diff': 0}, 6: {'patch_diff': 0, 'euler_diff': 0}, 7: {'patch_diff': 0, 'euler_diff': 0}, 8: {'patch_diff': 0, 'euler_diff': 0}, 9: {'patch_diff': -37, 'euler_diff': -89}, 0: False, 1: False, 10: False, 20: False, 21: {'patch_diff': 0, 'euler_diff': 0}, 22: {'patch_diff': 0, 'euler_diff': 0}, 23: {'patch_diff': 0, 'euler_diff': -6}, 24: {'patch_diff': 0, 'euler_diff': 0}, 25: {'patch_diff': 0, 'euler_diff': -1}, 26: {'patch_diff': 0, 'euler_diff': 0}, 27: {'patch_diff': -27, 'euler_diff': -9}, 28: {'patch_diff': 0, 'euler_diff': -3}, 29: {'patch_diff': 0, 'euler_diff': 0}, 30: {'patch_diff': -1, 'euler_diff': -13}, 31: {'patch_diff': 0, 'euler_diff': 0}, 32: False, 11: {'patch_diff': 0, 'euler_diff': 0}, 12: {'patch_diff': 0, 'euler_diff': 0}, 13: {'patch_diff': 0, 'euler_diff': -8}, 14: {'patch_diff': 0, 'euler_diff': 0}, 15: {'patch_diff': 0, 'euler_diff': 0}, 16: {'patch_diff': 0, 'euler_diff': 0}, 17: {'patch_diff': 0, 'euler_diff': 0}, 18: {'patch_diff': 0, 'euler_diff': 0}, 19: {'patch_diff': 0, 'euler_diff': 0}}\n",
      "read\n",
      "refine\n",
      "built\n",
      "{2: {'patch_diff': 0, 'euler_diff': 0}, 3: {'patch_diff': 0, 'euler_diff': 0}, 4: {'patch_diff': -129, 'euler_diff': -47}, 5: {'patch_diff': -19, 'euler_diff': 0}, 6: {'patch_diff': 0, 'euler_diff': 0}, 7: {'patch_diff': 0, 'euler_diff': 0}, 8: {'patch_diff': 0, 'euler_diff': 0}, 9: {'patch_diff': -37, 'euler_diff': -89}, 0: False, 1: False, 10: False, 20: False, 21: {'patch_diff': 0, 'euler_diff': 0}, 22: {'patch_diff': 0, 'euler_diff': 0}, 23: {'patch_diff': 0, 'euler_diff': -6}, 24: {'patch_diff': 0, 'euler_diff': 0}, 25: {'patch_diff': 0, 'euler_diff': -1}, 26: {'patch_diff': 0, 'euler_diff': 0}, 27: {'patch_diff': -27, 'euler_diff': -9}, 28: {'patch_diff': 0, 'euler_diff': -3}, 29: {'patch_diff': 0, 'euler_diff': 0}, 30: {'patch_diff': -1, 'euler_diff': -13}, 31: {'patch_diff': 0, 'euler_diff': 0}, 32: False, 11: {'patch_diff': 0, 'euler_diff': 0}, 12: {'patch_diff': 0, 'euler_diff': 0}, 13: {'patch_diff': 0, 'euler_diff': -8}, 14: {'patch_diff': 0, 'euler_diff': 0}, 15: {'patch_diff': 0, 'euler_diff': 0}, 16: {'patch_diff': 0, 'euler_diff': 0}, 17: {'patch_diff': 0, 'euler_diff': 0}, 18: {'patch_diff': 0, 'euler_diff': 0}, 19: {'patch_diff': 0, 'euler_diff': 0}}\n",
      "read\n",
      "refine\n",
      "built\n",
      "{2: {'patch_diff': 0, 'euler_diff': 0}, 3: {'patch_diff': 0, 'euler_diff': 0}, 4: {'patch_diff': -129, 'euler_diff': -47}, 5: {'patch_diff': -19, 'euler_diff': 0}, 6: {'patch_diff': 0, 'euler_diff': 0}, 7: {'patch_diff': 0, 'euler_diff': 0}, 8: {'patch_diff': 0, 'euler_diff': 0}, 9: {'patch_diff': -37, 'euler_diff': -89}, 0: False, 1: False, 10: False, 20: False, 21: {'patch_diff': 0, 'euler_diff': 0}, 22: {'patch_diff': 0, 'euler_diff': 0}, 23: {'patch_diff': 0, 'euler_diff': -6}, 24: {'patch_diff': 0, 'euler_diff': 0}, 25: {'patch_diff': 0, 'euler_diff': -1}, 26: {'patch_diff': 0, 'euler_diff': 0}, 27: {'patch_diff': -27, 'euler_diff': -9}, 28: {'patch_diff': 0, 'euler_diff': -3}, 29: {'patch_diff': 0, 'euler_diff': 0}, 30: {'patch_diff': -1, 'euler_diff': -13}, 31: {'patch_diff': 0, 'euler_diff': 0}, 32: False, 11: {'patch_diff': 0, 'euler_diff': 0}, 12: {'patch_diff': 0, 'euler_diff': 0}, 13: {'patch_diff': 0, 'euler_diff': -8}, 14: {'patch_diff': 0, 'euler_diff': 0}, 15: {'patch_diff': 0, 'euler_diff': 0}, 16: {'patch_diff': 0, 'euler_diff': 0}, 17: {'patch_diff': 0, 'euler_diff': 0}, 18: {'patch_diff': 0, 'euler_diff': 0}, 19: {'patch_diff': 0, 'euler_diff': 0}}\n",
      "read\n",
      "refine\n",
      "built\n",
      "{2: {'patch_diff': 0, 'euler_diff': 0}, 3: {'patch_diff': 0, 'euler_diff': 0}, 4: {'patch_diff': -129, 'euler_diff': -47}, 5: {'patch_diff': -19, 'euler_diff': 0}, 6: {'patch_diff': 0, 'euler_diff': 0}, 7: {'patch_diff': 0, 'euler_diff': 0}, 8: {'patch_diff': 0, 'euler_diff': 0}, 9: {'patch_diff': -37, 'euler_diff': -89}, 0: False, 1: False, 10: False, 20: False, 21: {'patch_diff': 0, 'euler_diff': 0}, 22: {'patch_diff': 0, 'euler_diff': 0}, 23: {'patch_diff': 0, 'euler_diff': -6}, 24: {'patch_diff': 0, 'euler_diff': 0}, 25: {'patch_diff': 0, 'euler_diff': -1}, 26: {'patch_diff': 0, 'euler_diff': 0}, 27: {'patch_diff': -27, 'euler_diff': -9}, 28: {'patch_diff': 0, 'euler_diff': -3}, 29: {'patch_diff': 0, 'euler_diff': 0}, 30: {'patch_diff': -1, 'euler_diff': -13}, 31: {'patch_diff': 0, 'euler_diff': 0}, 32: False, 11: {'patch_diff': 0, 'euler_diff': 0}, 12: {'patch_diff': 0, 'euler_diff': 0}, 13: {'patch_diff': 0, 'euler_diff': -8}, 14: {'patch_diff': 0, 'euler_diff': 0}, 15: {'patch_diff': 0, 'euler_diff': 0}, 16: {'patch_diff': 0, 'euler_diff': 0}, 17: {'patch_diff': 0, 'euler_diff': 0}, 18: {'patch_diff': 0, 'euler_diff': 0}, 19: {'patch_diff': 0, 'euler_diff': 0}}\n",
      "read\n",
      "refine\n",
      "built\n",
      "{2: {'patch_diff': 0, 'euler_diff': 0}, 3: {'patch_diff': 0, 'euler_diff': 0}, 4: {'patch_diff': -129, 'euler_diff': -47}, 5: {'patch_diff': -19, 'euler_diff': 0}, 6: {'patch_diff': 0, 'euler_diff': 0}, 7: {'patch_diff': 0, 'euler_diff': 0}, 8: {'patch_diff': 0, 'euler_diff': 0}, 9: {'patch_diff': -37, 'euler_diff': -89}, 0: False, 1: False, 10: False, 20: False, 21: {'patch_diff': 0, 'euler_diff': 0}, 22: {'patch_diff': 0, 'euler_diff': 0}, 23: {'patch_diff': 0, 'euler_diff': -6}, 24: {'patch_diff': 0, 'euler_diff': 0}, 25: {'patch_diff': 0, 'euler_diff': -1}, 26: {'patch_diff': 0, 'euler_diff': 0}, 27: {'patch_diff': -27, 'euler_diff': -9}, 28: {'patch_diff': 0, 'euler_diff': -3}, 29: {'patch_diff': 0, 'euler_diff': 0}, 30: {'patch_diff': -1, 'euler_diff': -13}, 31: {'patch_diff': 0, 'euler_diff': 0}, 32: False, 11: {'patch_diff': 0, 'euler_diff': 0}, 12: {'patch_diff': 0, 'euler_diff': 0}, 13: {'patch_diff': 0, 'euler_diff': -8}, 14: {'patch_diff': 0, 'euler_diff': 0}, 15: {'patch_diff': 0, 'euler_diff': 0}, 16: {'patch_diff': 0, 'euler_diff': 0}, 17: {'patch_diff': 0, 'euler_diff': 0}, 18: {'patch_diff': 0, 'euler_diff': 0}, 19: {'patch_diff': 0, 'euler_diff': 0}}\n",
      "read\n",
      "refine\n",
      "built\n",
      "{2: {'patch_diff': 0, 'euler_diff': 0}, 3: {'patch_diff': 0, 'euler_diff': 0}, 4: {'patch_diff': -129, 'euler_diff': -47}, 5: {'patch_diff': -19, 'euler_diff': 0}, 6: {'patch_diff': 0, 'euler_diff': 0}, 7: {'patch_diff': 0, 'euler_diff': 0}, 8: {'patch_diff': 0, 'euler_diff': 0}, 9: {'patch_diff': -37, 'euler_diff': -89}, 0: False, 1: False, 10: False, 20: False, 21: {'patch_diff': 0, 'euler_diff': 0}, 22: {'patch_diff': 0, 'euler_diff': 0}, 23: {'patch_diff': 0, 'euler_diff': -6}, 24: {'patch_diff': 0, 'euler_diff': 0}, 25: {'patch_diff': 0, 'euler_diff': -1}, 26: {'patch_diff': 0, 'euler_diff': 0}, 27: {'patch_diff': -27, 'euler_diff': -9}, 28: {'patch_diff': 0, 'euler_diff': -3}, 29: {'patch_diff': 0, 'euler_diff': 0}, 30: {'patch_diff': -1, 'euler_diff': -13}, 31: {'patch_diff': 0, 'euler_diff': 0}, 32: False, 11: {'patch_diff': 0, 'euler_diff': 0}, 12: {'patch_diff': 0, 'euler_diff': 0}, 13: {'patch_diff': 0, 'euler_diff': -8}, 14: {'patch_diff': 0, 'euler_diff': 0}, 15: {'patch_diff': 0, 'euler_diff': 0}, 16: {'patch_diff': 0, 'euler_diff': 0}, 17: {'patch_diff': 0, 'euler_diff': 0}, 18: {'patch_diff': 0, 'euler_diff': 0}, 19: {'patch_diff': 0, 'euler_diff': 0}}\n",
      "read\n",
      "refine\n",
      "built\n",
      "{2: {'patch_diff': 0, 'euler_diff': 0}, 3: {'patch_diff': 0, 'euler_diff': 0}, 4: {'patch_diff': -129, 'euler_diff': -47}, 5: {'patch_diff': -19, 'euler_diff': 0}, 6: {'patch_diff': 0, 'euler_diff': 0}, 7: {'patch_diff': 0, 'euler_diff': 0}, 8: {'patch_diff': 0, 'euler_diff': 0}, 9: {'patch_diff': -37, 'euler_diff': -89}, 0: False, 1: False, 10: False, 20: False, 21: {'patch_diff': 0, 'euler_diff': 0}, 22: {'patch_diff': 0, 'euler_diff': 0}, 23: {'patch_diff': 0, 'euler_diff': -6}, 24: {'patch_diff': 0, 'euler_diff': 0}, 25: {'patch_diff': 0, 'euler_diff': -1}, 26: {'patch_diff': 0, 'euler_diff': 0}, 27: {'patch_diff': -27, 'euler_diff': -9}, 28: {'patch_diff': 0, 'euler_diff': -3}, 29: {'patch_diff': 0, 'euler_diff': 0}, 30: {'patch_diff': -1, 'euler_diff': -13}, 31: {'patch_diff': 0, 'euler_diff': 0}, 32: False, 11: {'patch_diff': 0, 'euler_diff': 0}, 12: {'patch_diff': 0, 'euler_diff': 0}, 13: {'patch_diff': 0, 'euler_diff': -8}, 14: {'patch_diff': 0, 'euler_diff': 0}, 15: {'patch_diff': 0, 'euler_diff': 0}, 16: {'patch_diff': 0, 'euler_diff': 0}, 17: {'patch_diff': 0, 'euler_diff': 0}, 18: {'patch_diff': 0, 'euler_diff': 0}, 19: {'patch_diff': 0, 'euler_diff': 0}}\n"
     ]
    },
    {
     "name": "stdout",
     "output_type": "stream",
     "text": [
      "read\n",
      "refine\n",
      "built\n",
      "{2: {'patch_diff': 0, 'euler_diff': 0}, 3: {'patch_diff': 0, 'euler_diff': 0}, 4: {'patch_diff': -129, 'euler_diff': -47}, 5: {'patch_diff': -19, 'euler_diff': 0}, 6: {'patch_diff': 0, 'euler_diff': 0}, 7: {'patch_diff': 0, 'euler_diff': 0}, 8: {'patch_diff': 0, 'euler_diff': 0}, 9: {'patch_diff': -37, 'euler_diff': -89}, 0: False, 1: False, 10: False, 20: False, 21: {'patch_diff': 0, 'euler_diff': 0}, 22: {'patch_diff': 0, 'euler_diff': 0}, 23: {'patch_diff': 0, 'euler_diff': -6}, 24: {'patch_diff': 0, 'euler_diff': 0}, 25: {'patch_diff': 0, 'euler_diff': -1}, 26: {'patch_diff': 0, 'euler_diff': 0}, 27: {'patch_diff': -27, 'euler_diff': -9}, 28: {'patch_diff': 0, 'euler_diff': -3}, 29: {'patch_diff': 0, 'euler_diff': 0}, 30: {'patch_diff': -1, 'euler_diff': -13}, 31: {'patch_diff': 0, 'euler_diff': 0}, 32: False, 11: {'patch_diff': 0, 'euler_diff': 0}, 12: {'patch_diff': 0, 'euler_diff': 0}, 13: {'patch_diff': 0, 'euler_diff': -8}, 14: {'patch_diff': 0, 'euler_diff': 0}, 15: {'patch_diff': 0, 'euler_diff': 0}, 16: {'patch_diff': 0, 'euler_diff': 0}, 17: {'patch_diff': 0, 'euler_diff': 0}, 18: {'patch_diff': 0, 'euler_diff': 0}, 19: {'patch_diff': 0, 'euler_diff': 0}}\n",
      "read\n",
      "refine\n",
      "built\n",
      "{2: {'patch_diff': 0, 'euler_diff': 0}, 3: {'patch_diff': 0, 'euler_diff': 0}, 4: {'patch_diff': -129, 'euler_diff': -47}, 5: {'patch_diff': -19, 'euler_diff': 0}, 6: {'patch_diff': 0, 'euler_diff': 0}, 7: {'patch_diff': 0, 'euler_diff': 0}, 8: {'patch_diff': 0, 'euler_diff': 0}, 9: {'patch_diff': -37, 'euler_diff': -89}, 0: False, 1: False, 10: False, 20: False, 21: {'patch_diff': 0, 'euler_diff': 0}, 22: {'patch_diff': 0, 'euler_diff': 0}, 23: {'patch_diff': 0, 'euler_diff': -6}, 24: {'patch_diff': 0, 'euler_diff': 0}, 25: {'patch_diff': 0, 'euler_diff': -1}, 26: {'patch_diff': 0, 'euler_diff': 0}, 27: {'patch_diff': -27, 'euler_diff': -9}, 28: {'patch_diff': 0, 'euler_diff': -3}, 29: {'patch_diff': 0, 'euler_diff': 0}, 30: {'patch_diff': -1, 'euler_diff': -13}, 31: {'patch_diff': 0, 'euler_diff': 0}, 32: False, 11: {'patch_diff': 0, 'euler_diff': 0}, 12: {'patch_diff': 0, 'euler_diff': 0}, 13: {'patch_diff': 0, 'euler_diff': -8}, 14: {'patch_diff': 0, 'euler_diff': 0}, 15: {'patch_diff': 0, 'euler_diff': 0}, 16: {'patch_diff': 0, 'euler_diff': 0}, 17: {'patch_diff': 0, 'euler_diff': 0}, 18: {'patch_diff': 0, 'euler_diff': 0}, 19: {'patch_diff': 0, 'euler_diff': 0}}\n"
     ]
    }
   ],
   "source": [
    "record_dict={2: {'patch_diff': 0, 'euler_diff': 0}, 3: {'patch_diff': 0, 'euler_diff': 0}, 4: {'patch_diff': -129, 'euler_diff': -47}, 5: {'patch_diff': -19, 'euler_diff': 0}, 6: {'patch_diff': 0, 'euler_diff': 0}, 7: {'patch_diff': 0, 'euler_diff': 0}, 8: {'patch_diff': 0, 'euler_diff': 0}, 9: {'patch_diff': -37, 'euler_diff': -89}, 0: False, 1: False, 10: False, 20: False, 21: {'patch_diff': 0, 'euler_diff': 0}, 22: {'patch_diff': 0, 'euler_diff': 0}, 23: {'patch_diff': 0, 'euler_diff': -6}, 24: {'patch_diff': 0, 'euler_diff': 0}, 25: {'patch_diff': 0, 'euler_diff': -1}, 26: {'patch_diff': 0, 'euler_diff': 0}, 27: {'patch_diff': -27, 'euler_diff': -9}, 28: {'patch_diff': 0, 'euler_diff': -3}, 29: {'patch_diff': 0, 'euler_diff': 0}, 30: {'patch_diff': -1, 'euler_diff': -13}, 31: {'patch_diff': 0, 'euler_diff': 0}, 32: False, 11: {'patch_diff': 0, 'euler_diff': 0}, 12: {'patch_diff': 0, 'euler_diff': 0}, 13: {'patch_diff': 0, 'euler_diff': -8}, 14: {'patch_diff': 0, 'euler_diff': 0}, 15: {'patch_diff': 0, 'euler_diff': 0}, 16: {'patch_diff': 0, 'euler_diff': 0}, 17: {'patch_diff': 0, 'euler_diff': 0}, 18: {'patch_diff': 0, 'euler_diff': 0}, 19: {'patch_diff': 0, 'euler_diff': 0}}\n",
    "record_dict[32]=False\n",
    "for j in range(11, 20):\n",
    "    parent_dir = \"../data/\"+str(j)+\"/\"\n",
    "    bad_obj_file = pbcut.get_bad_mesh(parent_dir)\n",
    "    dmat_file = parent_dir+\"feat.dmat\"\n",
    "    good_obj_file = parent_dir + \"good.mesh__sf.obj\"\n",
    "    v_bad, f_bad=igl.read_triangle_mesh(bad_obj_file)\n",
    "    fl_bad  = igl.read_dmat(dmat_file)\n",
    "    v_good, f_good = igl.read_triangle_mesh(good_obj_file)\n",
    "    print(\"read\")\n",
    "    fl_bad=fl_bad.astype('int32')\n",
    "    f_good = f_good.astype('int32')\n",
    "    f_bad = f_bad.astype('int32')\n",
    "    label_num = fl_bad.max()+1\n",
    "    prob_mat, fl_good = pbc.project_face_labels(v_bad, f_bad, fl_bad,label_num,2, v_good, f_good)\n",
    "    fl_refine = pbc.refine_labels(v_good, f_good, prob_mat, fl_good.astype('int32'),1)[:,0]\n",
    "    print(\"refine\")\n",
    "    edge_list_bad, patch_edge_list_bad = pbc.build_edge_list(v_bad, f_bad, fl_bad, label_num)\n",
    "    edge_list_good, patch_edge_list_good = pbc.build_edge_list(v_good, f_good, fl_refine, label_num)\n",
    "    node_list_bad = pbc.build_node_list(f_bad, fl_bad, label_num)\n",
    "    node_list_good = pbc.build_node_list(f_good, fl_refine, label_num)\n",
    "    patch_dict_good = pbcut.extract_patches(v_good, f_good, fl_refine)\n",
    "    patch_dict_bad = pbcut.extract_patches(v_bad, f_bad, fl_bad)\n",
    "    pair_edge_dict_bad, adj_matrix_bad = pbcut.build_adj_dict(edge_list_bad, label_num)\n",
    "    pair_edge_dict_good, adj_matrix_good = pbcut.build_adj_dict(edge_list_good, label_num)\n",
    "    print(\"built\")\n",
    "    record_entry = {}\n",
    "    record_entry[\"patch_diff\"] = len(patch_dict_good) - len(patch_dict_bad)\n",
    "    euler_good = len(node_list_good)+len(patch_dict_good)-len(edge_list_good)\n",
    "    euler_bad = len(node_list_bad)+ len(patch_dict_bad)-len(edge_list_bad)\n",
    "    record_entry[\"euler_diff\"] = euler_good -euler_bad\n",
    "    record_dict[j]= record_entry\n",
    "    print(record_dict)\n",
    "#     except:\n",
    "#         record_dict[j]= False\n",
    "            \n",
    "        "
   ]
  },
  {
   "cell_type": "code",
   "execution_count": 12,
   "metadata": {},
   "outputs": [
    {
     "name": "stdout",
     "output_type": "stream",
     "text": [
      "read\n",
      "refine\n"
     ]
    },
    {
     "data": {
      "application/vnd.jupyter.widget-view+json": {
       "model_id": "c6839d8c5217414bacd910cd55ff1403",
       "version_major": 2,
       "version_minor": 0
      },
      "text/plain": [
       "HBox(children=(Output(), Output()))"
      ]
     },
     "metadata": {},
     "output_type": "display_data"
    },
    {
     "data": {
      "application/vnd.jupyter.widget-view+json": {
       "model_id": "f53e1f38e1ce4613985311515eb4c06e",
       "version_major": 2,
       "version_minor": 0
      },
      "text/plain": [
       "HBox(children=(Output(), Output()))"
      ]
     },
     "metadata": {},
     "output_type": "display_data"
    },
    {
     "data": {
      "application/vnd.jupyter.widget-view+json": {
       "model_id": "255eb078a8c94bb698ecd1772d67d69a",
       "version_major": 2,
       "version_minor": 0
      },
      "text/plain": [
       "HBox(children=(Output(), Output()))"
      ]
     },
     "metadata": {},
     "output_type": "display_data"
    },
    {
     "data": {
      "application/vnd.jupyter.widget-view+json": {
       "model_id": "7912d46582cc4f2e8e8b7469920cbb04",
       "version_major": 2,
       "version_minor": 0
      },
      "text/plain": [
       "HBox(children=(Output(), Output()))"
      ]
     },
     "metadata": {},
     "output_type": "display_data"
    }
   ],
   "source": [
    "parent_dir = \"../data/\"+str(25)+\"/\"\n",
    "bad_obj_file = pbcut.get_bad_mesh(parent_dir)\n",
    "dmat_file = parent_dir+\"feat.dmat\"\n",
    "good_obj_file = parent_dir + \"good.mesh__sf.obj\"\n",
    "v_bad, f_bad=igl.read_triangle_mesh(bad_obj_file)\n",
    "fl_bad  = igl.read_dmat(dmat_file)\n",
    "v_good, f_good = igl.read_triangle_mesh(good_obj_file)\n",
    "print(\"read\")\n",
    "fl_bad=fl_bad.astype('int32')\n",
    "f_good = f_good.astype('int32')\n",
    "f_bad = f_bad.astype('int32')\n",
    "label_num = fl_bad.max()+1\n",
    "prob_mat, fl_good = pbc.project_face_labels(v_bad, f_bad, fl_bad,label_num,2, v_good, f_good)\n",
    "fl_refine = pbc.refine_labels(v_good, f_good, prob_mat, fl_good.astype('int32'),1)[:,0]\n",
    "print(\"refine\")\n",
    "edge_list_bad, patch_edge_list_bad = pbc.build_edge_list(v_bad, f_bad, fl_bad, label_num)\n",
    "edge_list_good, patch_edge_list_good = pbc.build_edge_list(v_good, f_good, fl_refine, label_num)\n",
    "node_list_bad = pbc.build_node_list(f_bad, fl_bad, label_num)\n",
    "node_list_good = pbc.build_node_list(f_good, fl_refine, label_num)\n",
    "patch_dict_good = pbcut.extract_patches(v_good, f_good, fl_refine)\n",
    "patch_dict_bad = pbcut.extract_patches(v_bad, f_bad, fl_bad)\n",
    "pair_edge_dict_bad, adj_matrix_bad = pbcut.build_adj_dict(edge_list_bad, label_num)\n",
    "pair_edge_dict_good, adj_matrix_good = pbcut.build_adj_dict(edge_list_good, label_num)\n",
    "d = mp.subplot(v_good, f_good, fl_refine, s=[2, 2, 0], shading={\"wireframe\":True})\n",
    "diff_mat = (adj_matrix_bad-adj_matrix_good)\n",
    "area = igl.doublearea(v_good, f_good)\n",
    "for edg in edge_list_good:\n",
    "#     if edge_list_good[q].head == -1:\n",
    "    if diff_mat[edg.label_pair]!=0:\n",
    "        d.rows[0][0].add_points(v_good[edg.vertices_list], shading={\"point_size\": 3})\n",
    "p = mp.subplot(v_bad, f_bad, fl_bad, s= [2,2,0],shading={\"wireframe\":True})\n",
    "for edg in edge_list_bad:\n",
    "#     if edge_list_good[q].head == -1:\n",
    "    if diff_mat[edg.label_pair]!=0:\n",
    "        p.rows[0][0].add_points(v_bad[edg.vertices_list], shading={\"point_size\": 3})\n"
   ]
  },
  {
   "cell_type": "code",
   "execution_count": 5,
   "metadata": {},
   "outputs": [],
   "source": [
    "dd={2: {'patch_diff': 0, 'euler_diff': 0}, 3: {'patch_diff': 0, 'euler_diff': 0}, 4: {'patch_diff': -129, 'euler_diff': -47}, 5: {'patch_diff': -19, 'euler_diff': 0}, 6: {'patch_diff': 0, 'euler_diff': 0}, 7: {'patch_diff': 0, 'euler_diff': 0}, 8: {'patch_diff': 0, 'euler_diff': 0}, 9: {'patch_diff': -37, 'euler_diff': -89}, 0: False, 1: False, 10: False, 20: False, 21: {'patch_diff': 0, 'euler_diff': 0}, 22: {'patch_diff': 0, 'euler_diff': 0}, 23: {'patch_diff': 0, 'euler_diff': -6}, 24: {'patch_diff': 0, 'euler_diff': 0}, 25: {'patch_diff': 0, 'euler_diff': -1}, 26: {'patch_diff': 0, 'euler_diff': 0}, 27: {'patch_diff': -27, 'euler_diff': -9}, 28: {'patch_diff': 0, 'euler_diff': -3}, 29: {'patch_diff': 0, 'euler_diff': 0}, 30: {'patch_diff': -1, 'euler_diff': -13}, 31: {'patch_diff': 0, 'euler_diff': 0}, 32: False, 11: {'patch_diff': 0, 'euler_diff': 0}, 12: {'patch_diff': 0, 'euler_diff': 0}, 13: {'patch_diff': 0, 'euler_diff': -8}, 14: {'patch_diff': 0, 'euler_diff': 0}, 15: {'patch_diff': 0, 'euler_diff': 0}, 16: {'patch_diff': 0, 'euler_diff': 0}, 17: {'patch_diff': 0, 'euler_diff': 0}, 18: {'patch_diff': 0, 'euler_diff': 0}, 19: {'patch_diff': 0, 'euler_diff': 0}}"
   ]
  },
  {
   "cell_type": "code",
   "execution_count": 6,
   "metadata": {},
   "outputs": [
    {
     "name": "stdout",
     "output_type": "stream",
     "text": [
      "0 False\n",
      "1 False\n",
      "2 {'patch_diff': 0, 'euler_diff': 0}\n",
      "3 {'patch_diff': 0, 'euler_diff': 0}\n",
      "4 {'patch_diff': -129, 'euler_diff': -47}\n",
      "5 {'patch_diff': -19, 'euler_diff': 0}\n",
      "6 {'patch_diff': 0, 'euler_diff': 0}\n",
      "7 {'patch_diff': 0, 'euler_diff': 0}\n",
      "8 {'patch_diff': 0, 'euler_diff': 0}\n",
      "9 {'patch_diff': -37, 'euler_diff': -89}\n",
      "10 False\n",
      "11 {'patch_diff': 0, 'euler_diff': 0}\n",
      "12 {'patch_diff': 0, 'euler_diff': 0}\n",
      "13 {'patch_diff': 0, 'euler_diff': -8}\n",
      "14 {'patch_diff': 0, 'euler_diff': 0}\n",
      "15 {'patch_diff': 0, 'euler_diff': 0}\n",
      "16 {'patch_diff': 0, 'euler_diff': 0}\n",
      "17 {'patch_diff': 0, 'euler_diff': 0}\n",
      "18 {'patch_diff': 0, 'euler_diff': 0}\n",
      "19 {'patch_diff': 0, 'euler_diff': 0}\n",
      "20 False\n",
      "21 {'patch_diff': 0, 'euler_diff': 0}\n",
      "22 {'patch_diff': 0, 'euler_diff': 0}\n",
      "23 {'patch_diff': 0, 'euler_diff': -6}\n",
      "24 {'patch_diff': 0, 'euler_diff': 0}\n",
      "25 {'patch_diff': 0, 'euler_diff': -1}\n",
      "26 {'patch_diff': 0, 'euler_diff': 0}\n",
      "27 {'patch_diff': -27, 'euler_diff': -9}\n",
      "28 {'patch_diff': 0, 'euler_diff': -3}\n",
      "29 {'patch_diff': 0, 'euler_diff': 0}\n",
      "30 {'patch_diff': -1, 'euler_diff': -13}\n",
      "31 {'patch_diff': 0, 'euler_diff': 0}\n",
      "32 False\n"
     ]
    }
   ],
   "source": [
    "for key in sorted(dd.keys()):\n",
    "    print(key, dd[key])\n",
    "    "
   ]
  },
  {
   "cell_type": "code",
   "execution_count": 53,
   "metadata": {},
   "outputs": [],
   "source": [
    "flag_bad,vv_bad,tv_bad,fv_bad =igl.tetrahedralize(v_bad, f_bad)"
   ]
  },
  {
   "cell_type": "code",
   "execution_count": 54,
   "metadata": {},
   "outputs": [
    {
     "name": "stdout",
     "output_type": "stream",
     "text": [
      "0\n"
     ]
    }
   ],
   "source": [
    "print(flag_bad)"
   ]
  },
  {
   "cell_type": "code",
   "execution_count": 55,
   "metadata": {},
   "outputs": [
    {
     "data": {
      "application/vnd.jupyter.widget-view+json": {
       "model_id": "95e3c847412342e5bd6d75968c7cac9e",
       "version_major": 2,
       "version_minor": 0
      },
      "text/plain": [
       "Renderer(camera=PerspectiveCamera(children=(DirectionalLight(color='white', intensity=0.6, position=(0.0, 0.0,…"
      ]
     },
     "metadata": {},
     "output_type": "display_data"
    }
   ],
   "source": [
    "igl."
   ]
  },
  {
   "cell_type": "code",
   "execution_count": 56,
   "metadata": {},
   "outputs": [],
   "source": [
    "\n",
    "def barycenters(v, f):\n",
    "    s = np.zeros((len(f),3),dtype='float64')\n",
    "    for i, r in enumerate(s):\n",
    "        s[i] = (v[f[i][0]]+v[f[i][1]]+v[f[i][2]])/3\n",
    "    return s\n",
    "bary_centers_good = barycenters(v_good, f_good)\n",
    "kdt_good = KDTree(bary_centers_good)\n",
    "\n",
    "bary_centers_bad = barycenters(v_bad, f_bad)\n",
    "kdt_bad = KDTree(bary_centers_bad)\n",
    "\n",
    "def sideset_good(p):\n",
    "    return fl_refine[kdt_good.query(p)[1]] + 1\n",
    "def sideset_bad(p):\n",
    "    res =fl_bad[kdt_bad.query(p)[1]]+ 1\n",
    "    return fl_bad[kdt_bad.query(p)[1]]+ 1\n",
    "\n"
   ]
  },
  {
   "cell_type": "code",
   "execution_count": 57,
   "metadata": {},
   "outputs": [
    {
     "name": "stdout",
     "output_type": "stream",
     "text": [
      "[2019-09-26 13:38:26.407] [polyfem] [info] Loading mesh...\n",
      "[2019-09-26 13:38:26.407] [polyfem] [info] mesh bb min [-60.9219, -60.9217, -67.31], max [60.9219, 60.9217, 0]\n",
      "[2019-09-26 13:38:26.411] [polyfem] [info]  took 0.00333186s\n",
      "[2019-09-26 13:38:29.914] [polyfem] [info] Loading mesh...\n",
      "[2019-09-26 13:38:29.914] [geogram] [info] Loading file ../data/13/good.mesh...\n",
      "[2019-09-26 13:38:29.952] [geogram] [info] (FP64) nb_v:2601 nb_e:0 nb_f:3678 nb_b:0 tri:1 dim:3\n",
      "[2019-09-26 13:38:29.952] [geogram] [info]  nb_tets:9540\n",
      "[2019-09-26 13:38:29.952] [geogram] [info] Attributes on vertices: point[3]\n",
      "[2019-09-26 13:38:30.069] [polyfem] [info] mesh bb min [-60.9184, -60.9205, -67.31], max [60.9009, 60.9201, 2.22045e-16]\n",
      "[2019-09-26 13:38:30.070] [polyfem] [info]  took 0.155292s\n"
     ]
    },
    {
     "data": {
      "application/vnd.jupyter.widget-view+json": {
       "model_id": "c76e37b616ec4818a1f5e538d177678e",
       "version_major": 2,
       "version_minor": 0
      },
      "text/plain": [
       "Renderer(camera=PerspectiveCamera(children=(DirectionalLight(color='white', intensity=0.6, position=(0.0, 0.0,…"
      ]
     },
     "metadata": {},
     "output_type": "display_data"
    },
    {
     "name": "stdout",
     "output_type": "stream",
     "text": [
      "15.0\n"
     ]
    }
   ],
   "source": [
    "settings = pf.Settings()\n",
    "problem = pf.Problem()\n",
    "solver_bad = pf.Solver()\n",
    "solver_good = pf.Solver()\n",
    "settings.normalize_mesh = False\n",
    "settings.set_pde(pf.PDEs.Laplacian)\n",
    "problem.add_dirichlet_value(6,1.0)\n",
    "problem.add_dirichlet_value(7,-1.0)\n",
    "settings.set_problem(problem)\n",
    "solver_bad.settings(settings)\n",
    "solver_good.settings(settings)\n",
    "solver_bad.set_mesh(vv_bad, tv_bad)\n",
    "solver_bad.set_boundary_side_set_from_bary(sideset_bad)\n",
    "solver_good.load_mesh_from_path(parent_dir+\"good.mesh\")\n",
    "solver_good.set_boundary_side_set_from_bary(sideset_good)\n",
    "b_bad, tt_bad, ss_bad = solver_bad.get_boundary_sidesets()\n",
    "mp.plot(b_bad, tt_bad, ss_bad, shading={\"wireframe\":True})\n",
    "print(ss_bad.max())"
   ]
  },
  {
   "cell_type": "code",
   "execution_count": 58,
   "metadata": {},
   "outputs": [
    {
     "name": "stdout",
     "output_type": "stream",
     "text": [
      "[2019-09-26 13:38:39.440] [polyfem] [info] simplex_count: \t51865\n",
      "[2019-09-26 13:38:39.440] [polyfem] [info] regular_count: \t0\n",
      "[2019-09-26 13:38:39.440] [polyfem] [info] regular_boundary_count: \t0\n",
      "[2019-09-26 13:38:39.440] [polyfem] [info] simple_singular_count: \t0\n",
      "[2019-09-26 13:38:39.440] [polyfem] [info] multi_singular_count: \t0\n",
      "[2019-09-26 13:38:39.440] [polyfem] [info] boundary_count: \t0\n",
      "[2019-09-26 13:38:39.440] [polyfem] [info] multi_singular_boundary_count: \t0\n",
      "[2019-09-26 13:38:39.440] [polyfem] [info] non_regular_count: \t0\n",
      "[2019-09-26 13:38:39.440] [polyfem] [info] non_regular_boundary_count: \t0\n",
      "[2019-09-26 13:38:39.440] [polyfem] [info] undefined_count: \t0\n",
      "[2019-09-26 13:38:39.440] [polyfem] [info] total count:\t 51865\n",
      "[2019-09-26 13:38:39.441] [polyfem] [info] Building isoparametric basis...\n",
      "[2019-09-26 13:38:39.684] [polyfem] [info] Computing polygonal basis...\n",
      "[2019-09-26 13:38:39.684] [polyfem] [info]  took 2.3871e-05s\n",
      "[2019-09-26 13:38:39.699] [polyfem] [info] hmin: 0.0657492\n",
      "[2019-09-26 13:38:39.699] [polyfem] [info] hmax: 14.5978\n",
      "[2019-09-26 13:38:39.699] [polyfem] [info] havg: 4.04354\n",
      "[2019-09-26 13:38:39.700] [polyfem] [info]  took 0.243385s\n",
      "[2019-09-26 13:38:39.700] [polyfem] [info] flipped elements 0\n",
      "[2019-09-26 13:38:39.700] [polyfem] [info] h: 14.5978\n",
      "[2019-09-26 13:38:39.700] [polyfem] [info] n bases: 16548\n",
      "[2019-09-26 13:38:39.700] [polyfem] [info] n pressure bases: 0\n",
      "[2019-09-26 13:38:39.700] [polyfem] [info] Assigning rhs...\n",
      "[2019-09-26 13:38:39.784] [polyfem] [info]  took 0.0841013s\n",
      "[2019-09-26 13:38:39.784] [polyfem] [info] Assembling stiffness mat...\n",
      "[2019-09-26 13:38:39.881] [polyfem] [info]  took 0.096444s\n",
      "[2019-09-26 13:38:39.881] [polyfem] [info] sparsity: 186470/273836304\n",
      "[2019-09-26 13:38:39.881] [polyfem] [info] Solving Laplacian with\n",
      "[2019-09-26 13:38:39.881] [polyfem] [info] Hypre...\n",
      "[2019-09-26 13:38:40.073] [polyfem] [info]  took 0.19219s\n",
      "[2019-09-26 13:38:40.077] [polyfem] [info] simplex_count: \t9540\n",
      "[2019-09-26 13:38:40.077] [polyfem] [info] regular_count: \t0\n",
      "[2019-09-26 13:38:40.077] [polyfem] [info] regular_boundary_count: \t0\n",
      "[2019-09-26 13:38:40.077] [polyfem] [info] simple_singular_count: \t0\n",
      "[2019-09-26 13:38:40.077] [polyfem] [info] multi_singular_count: \t0\n",
      "[2019-09-26 13:38:40.077] [polyfem] [info] boundary_count: \t0\n",
      "[2019-09-26 13:38:40.077] [polyfem] [info] multi_singular_boundary_count: \t0\n",
      "[2019-09-26 13:38:40.077] [polyfem] [info] non_regular_count: \t0\n",
      "[2019-09-26 13:38:40.077] [polyfem] [info] non_regular_boundary_count: \t0\n",
      "[2019-09-26 13:38:40.077] [polyfem] [info] undefined_count: \t0\n",
      "[2019-09-26 13:38:40.077] [polyfem] [info] total count:\t 9540\n",
      "[2019-09-26 13:38:40.077] [polyfem] [info] Building isoparametric basis...\n",
      "[2019-09-26 13:38:40.158] [polyfem] [info] Computing polygonal basis...\n",
      "[2019-09-26 13:38:40.158] [polyfem] [info]  took 1.8151e-05s\n",
      "[2019-09-26 13:38:40.160] [polyfem] [info] hmin: 0.543607\n",
      "[2019-09-26 13:38:40.160] [polyfem] [info] hmax: 13.4219\n",
      "[2019-09-26 13:38:40.160] [polyfem] [info] havg: 5.28921\n",
      "[2019-09-26 13:38:40.160] [polyfem] [info]  took 0.0805436s\n",
      "[2019-09-26 13:38:40.160] [polyfem] [info] flipped elements 0\n",
      "[2019-09-26 13:38:40.160] [polyfem] [info] h: 13.4219\n",
      "[2019-09-26 13:38:40.160] [polyfem] [info] n bases: 2601\n",
      "[2019-09-26 13:38:40.160] [polyfem] [info] n pressure bases: 0\n",
      "[2019-09-26 13:38:40.160] [polyfem] [info] Assigning rhs...\n",
      "[2019-09-26 13:38:40.166] [polyfem] [info]  took 0.00567854s\n",
      "[2019-09-26 13:38:40.166] [polyfem] [info] Assembling stiffness mat...\n",
      "[2019-09-26 13:38:40.184] [polyfem] [info]  took 0.0181399s\n",
      "[2019-09-26 13:38:40.184] [polyfem] [info] sparsity: 30561/6765201\n",
      "[2019-09-26 13:38:40.184] [polyfem] [info] Solving Laplacian with\n",
      "[2019-09-26 13:38:40.184] [polyfem] [info] Hypre...\n"
     ]
    }
   ],
   "source": [
    "\n",
    "solver_bad.solve()\n",
    "\n",
    "solver_good.solve()"
   ]
  },
  {
   "cell_type": "code",
   "execution_count": 59,
   "metadata": {},
   "outputs": [
    {
     "data": {
      "application/vnd.jupyter.widget-view+json": {
       "model_id": "1c939886eab941168f66f39dea32a50e",
       "version_major": 2,
       "version_minor": 0
      },
      "text/plain": [
       "Renderer(camera=PerspectiveCamera(children=(DirectionalLight(color='white', intensity=0.6, position=(0.0, 0.0,…"
      ]
     },
     "metadata": {},
     "output_type": "display_data"
    }
   ],
   "source": [
    "p_bad, t_bad, d_bad = solver_bad.get_sampled_solution(boundary_only=False)\n",
    "mp.plot(p_bad, t_bad, d_bad[:,0], shading={'flat':True})"
   ]
  },
  {
   "cell_type": "code",
   "execution_count": 60,
   "metadata": {},
   "outputs": [
    {
     "data": {
      "application/vnd.jupyter.widget-view+json": {
       "model_id": "e1d92a2f2fae49deb05531d796bbd513",
       "version_major": 2,
       "version_minor": 0
      },
      "text/plain": [
       "Renderer(camera=PerspectiveCamera(children=(DirectionalLight(color='white', intensity=0.6, position=(-0.008790…"
      ]
     },
     "metadata": {},
     "output_type": "display_data"
    }
   ],
   "source": [
    "p_good, t_good, d_good = solver_good.get_sampled_solution(boundary_only=True)\n",
    "mp.plot(p_good, t_good, d_good[:,0], shading={'flat':True})"
   ]
  },
  {
   "cell_type": "code",
   "execution_count": null,
   "metadata": {},
   "outputs": [],
   "source": []
  }
 ],
 "metadata": {
  "kernelspec": {
   "display_name": "Python 3",
   "language": "python",
   "name": "python3"
  },
  "language_info": {
   "codemirror_mode": {
    "name": "ipython",
    "version": 3
   },
   "file_extension": ".py",
   "mimetype": "text/x-python",
   "name": "python",
   "nbconvert_exporter": "python",
   "pygments_lexer": "ipython3",
   "version": "3.7.3"
  }
 },
 "nbformat": 4,
 "nbformat_minor": 2
}

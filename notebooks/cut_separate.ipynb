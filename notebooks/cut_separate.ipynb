{
 "cells": [
  {
   "cell_type": "code",
   "execution_count": 6,
   "metadata": {},
   "outputs": [],
   "source": [
    "import pybcclean as pbc\n",
    "import igl\n",
    "import meshplot as mp\n",
    "import numpy as np\n",
    "import networkx as nx\n",
    "import os\n",
    "import time\n",
    "import sys\n",
    "module_path = os.path.abspath(os.path.join('..'))\n",
    "if module_path not in sys.path:\n",
    "    sys.path.append(module_path)\n",
    "import pbc_utilities as pbcut\n",
    "def separate_surfaces(v, f, fl):\n",
    "    \"\"\"\n",
    "    :param v vertices\n",
    "    :param f faces\n",
    "    :param fl face labels\n",
    "    perturb the surfaces according to the face labels\n",
    "    :return v_dict, f_dict\n",
    "    \"\"\"\n",
    "    v_dict = {}\n",
    "    f_dict_temp = {}\n",
    "    f_dict = {}\n",
    "    count_dict = {}\n",
    "    for fidx, lb in enumerate(fl):\n",
    "        if lb not in f_dict_temp:\n",
    "            f_dict_temp[lb] = np.zeros_like(f)\n",
    "            f_dict_temp[lb][0,:]=f[fidx,:].copy()\n",
    "            count_dict[lb] = 1\n",
    "        else:\n",
    "            f_dict_temp[lb][count_dict[lb],:]=f[fidx,:].copy()\n",
    "            count_dict[lb] += 1\n",
    "    for lb in f_dict_temp:\n",
    "        f_dict_temp[lb] = f_dict_temp[lb][0:count_dict[lb],:]\n",
    "        v_dict[lb], f_dict[lb], _, _= igl.remove_unreferenced(v,f_dict_temp[lb])\n",
    "    return v_dict, f_dict\n",
    "\n",
    "def perturb_and_union(v_dict, f_dict, eps):\n",
    "    \"\"\"\n",
    "    :eps float to control the perturbation\n",
    "    return new_v, new_f, new_fl\n",
    "    \"\"\"\n",
    "    nv = 0 \n",
    "    nf = 0\n",
    "    for lb in f_dict:\n",
    "        nv += len(v_dict[lb])\n",
    "        nf += len(f_dict[lb])\n",
    "    new_v = np.zeros((nv,3),dtype=float)\n",
    "    new_f = np.zeros((nf,3), dtype=int)\n",
    "    new_fl = np.zeros((nf,1), dtype=int)\n",
    "    count_v = 0\n",
    "    count_f =0\n",
    "    for lb in f_dict:\n",
    "        f_temp = f_dict[lb].copy()\n",
    "        v_temp = v_dict[lb].copy()\n",
    "        new_v[count_v:count_v+len(v_temp)]= v_temp + np.ones_like(v_temp) * np.random.uniform(-eps, eps)\n",
    "        f_temp += np.ones_like(f_temp) * count_v\n",
    "        count_v += len(v_temp)\n",
    "        new_f[count_f:count_f+len(f_temp)]=f_temp\n",
    "        new_fl[count_f:count_f+len(f_temp)]= np.ones((len(f_temp),1), dtype=int) *lb\n",
    "        count_f += len(f_temp)\n",
    "    return new_v, new_f, new_fl"
   ]
  },
  {
   "cell_type": "code",
   "execution_count": 26,
   "metadata": {},
   "outputs": [
    {
     "data": {
      "application/vnd.jupyter.widget-view+json": {
       "model_id": "d24828f43a144ef8871c586d91efeb97",
       "version_major": 2,
       "version_minor": 0
      },
      "text/plain": [
       "Renderer(camera=PerspectiveCamera(children=(DirectionalLight(color='white', intensity=0.6, position=(12.603677…"
      ]
     },
     "metadata": {},
     "output_type": "display_data"
    }
   ],
   "source": [
    "parent_dir = \"../data/14\"\n",
    "bad_obj_file = pbcut.get_bad_mesh(parent_dir)\n",
    "dmat_file = parent_dir+\"/feat.dmat\"\n",
    "v_bad, f_bad=igl.read_triangle_mesh(bad_obj_file)\n",
    "fl_bad  = igl.read_dmat(dmat_file)\n",
    "eps = 1\n",
    "v_dict, f_dict = separate_surfaces(v_bad, f_bad, fl_bad)\n",
    "new_v, new_f, new_fl = perturb_and_union(v_dict, f_dict, eps )\n",
    "igl.write_obj(\"test\"+str(eps)+\".obj\",new_v, new_f)\n",
    "mp.plot(new_v, new_f)"
   ]
  },
  {
   "cell_type": "code",
   "execution_count": 17,
   "metadata": {},
   "outputs": [
    {
     "data": {
      "text/plain": [
       "True"
      ]
     },
     "execution_count": 17,
     "metadata": {},
     "output_type": "execute_result"
    }
   ],
   "source": []
  },
  {
   "cell_type": "code",
   "execution_count": 27,
   "metadata": {},
   "outputs": [],
   "source": [
    "plane_v, plane_f=igl.read_triangle_mesh(\"test_examplesairplane_0627_opt_HR.obj\")"
   ]
  },
  {
   "cell_type": "code",
   "execution_count": 28,
   "metadata": {},
   "outputs": [
    {
     "data": {
      "text/plain": [
       "True"
      ]
     },
     "execution_count": 28,
     "metadata": {},
     "output_type": "execute_result"
    }
   ],
   "source": [
    "igl.is_edge_manifold(plane_f)"
   ]
  },
  {
   "cell_type": "code",
   "execution_count": null,
   "metadata": {},
   "outputs": [],
   "source": [
    "igl."
   ]
  }
 ],
 "metadata": {
  "kernelspec": {
   "display_name": "Python 3",
   "language": "python",
   "name": "python3"
  },
  "language_info": {
   "codemirror_mode": {
    "name": "ipython",
    "version": 3
   },
   "file_extension": ".py",
   "mimetype": "text/x-python",
   "name": "python",
   "nbconvert_exporter": "python",
   "pygments_lexer": "ipython3",
   "version": "3.7.3"
  }
 },
 "nbformat": 4,
 "nbformat_minor": 2
}

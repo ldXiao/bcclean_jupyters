{
 "cells": [
  {
   "cell_type": "code",
   "execution_count": 1,
   "metadata": {},
   "outputs": [
    {
     "data": {
      "application/vnd.jupyter.widget-view+json": {
       "model_id": "85397ccc14ba471fba7052bbc8297dc5",
       "version_major": 2,
       "version_minor": 0
      },
      "text/plain": [
       "Renderer(camera=PerspectiveCamera(children=(DirectionalLight(color='white', intensity=0.6, position=(0.0, 0.0,…"
      ]
     },
     "metadata": {},
     "output_type": "display_data"
    },
    {
     "data": {
      "application/vnd.jupyter.widget-view+json": {
       "model_id": "15913d9e90d041b3a2c3f76f89fb9fc3",
       "version_major": 2,
       "version_minor": 0
      },
      "text/plain": [
       "Renderer(camera=PerspectiveCamera(children=(DirectionalLight(color='white', intensity=0.6, position=(0.0, 0.0,…"
      ]
     },
     "metadata": {},
     "output_type": "display_data"
    },
    {
     "name": "stdout",
     "output_type": "stream",
     "text": [
      "good mesh has 24 nodes, 15 patches, 38 edges, with Euler numer 1 \n",
      "bad mesh has 18 nodes, 15 patches, 32 edges, with Euler numer 1\n"
     ]
    }
   ],
   "source": [
    "import pybcclean as pbc\n",
    "import igl\n",
    "import meshplot as mp\n",
    "import numpy as np\n",
    "import networkx as nx\n",
    "import os\n",
    "import time\n",
    "import sys\n",
    "module_path = os.path.abspath(os.path.join('..'))\n",
    "if module_path not in sys.path:\n",
    "    sys.path.append(module_path)\n",
    "import pbc_utilities as pbcut\n",
    "parent_dir = \"../data/2\"\n",
    "bad_obj_file = pbcut.get_bad_mesh(parent_dir)\n",
    "dmat_file = parent_dir+\"/feat.dmat\"\n",
    "good_obj_file = parent_dir+\"/good.mesh__sf.obj\"\n",
    "v_bad, f_bad=igl.read_triangle_mesh(bad_obj_file)\n",
    "fl_bad  = igl.read_dmat(dmat_file)\n",
    "v_good, f_good = igl.read_triangle_mesh(good_obj_file)\n",
    "fl_bad=fl_bad.astype('int32')\n",
    "f_good = f_good.astype('int32')\n",
    "f_bad = f_bad.astype('int32')\n",
    "label_num = fl_bad.max()+1\n",
    "prob_mat, fl_good = pbc.project_face_labels(v_bad, f_bad, fl_bad,label_num,2, v_good, f_good)\n",
    "\n",
    "fl_refine = pbc.refine_labels(v_good, f_good, prob_mat, fl_good.astype('int32'),1)\n",
    "fl_refine = fl_refine[:,0]\n",
    "edge_list_bad, patch_edge_list_bad = pbc.build_edge_list(v_bad, f_bad, fl_bad, label_num)\n",
    "edge_list_good, patch_edge_list_good = pbc.build_edge_list(v_good, f_good, fl_refine, label_num)\n",
    "node_list_bad = pbc.build_node_list(f_bad, fl_bad, label_num)\n",
    "node_list_good = pbc.build_node_list(f_good, fl_refine, label_num)\n",
    "patch_dict_good = pbcut.extract_patches(v_good, f_good, fl_refine)\n",
    "patch_dict_bad = pbcut.extract_patches(v_bad, f_bad, fl_bad)\n",
    "pair_edge_dict_bad, adj_matrix_bad = pbcut.build_adj_dict(edge_list_bad, label_num)\n",
    "pair_edge_dict_good, adj_matrix_good = pbcut.build_adj_dict(edge_list_good, label_num)\n",
    "\n",
    "mp.plot(v_bad, f_bad, fl_bad)\n",
    "mp.plot(v_good, f_good, fl_refine, shading={\"wireframe\":True})\n",
    "print(\"good mesh has %d nodes, %d patches, %d edges, with Euler numer %d \" % (len(node_list_good), len(patch_dict_good), len(edge_list_good),len(node_list_good)+len(patch_dict_good)-len(edge_list_good)))\n",
    "print(\"bad mesh has %d nodes, %d patches, %d edges, with Euler numer %d\" % (len(node_list_bad), len(patch_dict_bad), len(edge_list_bad),len(node_list_bad)+ len(patch_dict_bad)-len(edge_list_bad)))\n"
   ]
  },
  {
   "cell_type": "code",
   "execution_count": 3,
   "metadata": {},
   "outputs": [
    {
     "name": "stdout",
     "output_type": "stream",
     "text": [
      "{14: [37, 24, 33], 13: [36, 34, 22], 12: [30, 1, 17, 25, 37, 32], 11: [26, 21, 15, 29, 35, 36], 10: [28, 27], 9: [31, 32, 33, 23, 34, 35], 8: [28, 29, 14, 10, 2, 30, 31], 7: [22, 23, 24, 25, 18, 5, 16, 8, 19, 12, 20, 26, 27], 6: [20, 11, 21], 5: [19, 7, 13], 4: [17, 0, 18], 3: [4, 9, 16], 2: [11, 12, 13, 6, 14, 15], 1: [6, 7, 8, 9, 3, 10], 0: [0, 1, 2, 3, 4, 5]}\n",
      "38\n"
     ]
    }
   ],
   "source": [
    "print(patch_edge_list_good)\n",
    "print(len(edge_list_good))"
   ]
  },
  {
   "cell_type": "code",
   "execution_count": 52,
   "metadata": {},
   "outputs": [
    {
     "data": {
      "application/vnd.jupyter.widget-view+json": {
       "model_id": "40ea2c2e651748868635af231ae2e67e",
       "version_major": 2,
       "version_minor": 0
      },
      "text/plain": [
       "HBox(children=(Output(), Output()))"
      ]
     },
     "metadata": {},
     "output_type": "display_data"
    },
    {
     "data": {
      "application/vnd.jupyter.widget-view+json": {
       "model_id": "e3778756adcb40f5b970010f949046d7",
       "version_major": 2,
       "version_minor": 0
      },
      "text/plain": [
       "HBox(children=(Output(), Output()))"
      ]
     },
     "metadata": {},
     "output_type": "display_data"
    },
    {
     "data": {
      "text/plain": [
       "2"
      ]
     },
     "execution_count": 52,
     "metadata": {},
     "output_type": "execute_result"
    }
   ],
   "source": [
    "p=mp.subplot(patch_dict_bad[11][0],patch_dict_bad[11][1],s=[2, 2, 0])\n",
    "p.rows[0][0].add_mesh(patch_dict_bad[12][0],patch_dict_bad[12][1])\n",
    "time.sleep(1)\n",
    "p.rows[0][0].add_points(v_bad[edge_list_bad[31].vertices_list], shading={\"point_size\": 0.3})"
   ]
  },
  {
   "cell_type": "code",
   "execution_count": null,
   "metadata": {},
   "outputs": [],
   "source": []
  }
 ],
 "metadata": {
  "kernelspec": {
   "display_name": "Python 3",
   "language": "python",
   "name": "python3"
  },
  "language_info": {
   "codemirror_mode": {
    "name": "ipython",
    "version": 3
   },
   "file_extension": ".py",
   "mimetype": "text/x-python",
   "name": "python",
   "nbconvert_exporter": "python",
   "pygments_lexer": "ipython3",
   "version": "3.7.3"
  }
 },
 "nbformat": 4,
 "nbformat_minor": 2
}

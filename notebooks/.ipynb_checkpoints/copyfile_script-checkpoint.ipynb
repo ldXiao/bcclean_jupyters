{
 "cells": [
  {
   "cell_type": "code",
   "execution_count": 1,
   "metadata": {},
   "outputs": [],
   "source": [
    "import pybcclean as pbc\n",
    "import igl\n",
    "import numpy as np\n",
    "import shutil as shut\n",
    "import wildmeshing as wm\n",
    "import polyfempy as pf\n",
    "from scipy.spatial import KDTree\n",
    "import meshplot as mp\n",
    "import os\n",
    "import time\n",
    "import sys\n",
    "module_path = os.path.abspath(os.path.join('..'))\n",
    "if module_path not in sys.path:\n",
    "    sys.path.append(module_path)\n",
    "import pbc_utilities as pbcut"
   ]
  },
  {
   "cell_type": "code",
   "execution_count": 9,
   "metadata": {},
   "outputs": [
    {
     "name": "stdout",
     "output_type": "stream",
     "text": [
      "2\n",
      "1\n",
      "2\n",
      "4\n",
      "4\n",
      "5\n",
      "2\n",
      "0\n",
      "4\n",
      "2\n",
      "8\n",
      "3\n",
      "10\n",
      "3\n",
      "4\n",
      "4\n",
      "5\n",
      "7\n",
      "3\n",
      "4\n",
      "2\n",
      "4\n",
      "1\n",
      "3\n",
      "4\n",
      "6\n",
      "6\n",
      "6\n",
      "4\n",
      "5\n",
      "4\n",
      "4\n",
      "1\n",
      "4\n",
      "5\n",
      "5\n"
     ]
    }
   ],
   "source": [
    "obj_root =\"../../bcClean_back/data/ABC/obj/abc_0000_obj_v00/\"\n",
    "feat_root = \"../../bcClean_back/data/ABC/feat/abc_0000_feat_v00/\"\n",
    "name_offset = 15\n",
    "count = 0\n",
    "if not os.path.isdir(\"../data/test/\"):\n",
    "    os.mkdir(\"../data/test/\")\n",
    "for parent_suffix in os.listdir(obj_root) :\n",
    "    obj_parent_dir = obj_root + parent_suffix\n",
    "    yml_parent_dir = feat_root + parent_suffix\n",
    "    if (not os.path.isdir(obj_parent_dir)):\n",
    "        continue\n",
    "    target_dir = \"../data/\" + str(count+name_offset)+\"/\"\n",
    "    yml_file = pbcut.get_feat_file(yml_parent_dir)\n",
    "    obj_file = pbcut.get_bad_mesh(obj_parent_dir)\n",
    "    \n",
    "    if (yml_file and obj_file):\n",
    "        file_size = os.path.getsize(obj_file)>> 20 \n",
    "        # get file size in mb\n",
    "        if(file_size > 10):\n",
    "            continue\n",
    "        if not os.path.isdir(target_dir):\n",
    "            os.mkdir(target_dir)\n",
    "        shut.copy2(obj_file, target_dir)\n",
    "        shut.copy2(yml_file, target_dir)\n",
    "        print(file_size)\n",
    "        count +=1\n",
    "    if (count > 35):\n",
    "        break\n",
    "    "
   ]
  },
  {
   "cell_type": "code",
   "execution_count": 10,
   "metadata": {},
   "outputs": [
    {
     "name": "stdout",
     "output_type": "stream",
     "text": [
      "../data/15/feat.dmat\n",
      "../data/16/feat.dmat\n",
      "../data/17/feat.dmat\n",
      "../data/18/feat.dmat\n",
      "../data/19/feat.dmat\n",
      "../data/20/feat.dmat\n",
      "../data/21/feat.dmat\n",
      "../data/22/feat.dmat\n",
      "../data/23/feat.dmat\n",
      "../data/24/feat.dmat\n",
      "../data/25/feat.dmat\n",
      "../data/26/feat.dmat\n",
      "../data/27/feat.dmat\n",
      "../data/28/feat.dmat\n",
      "../data/29/feat.dmat\n",
      "../data/30/feat.dmat\n",
      "../data/31/feat.dmat\n",
      "../data/32/feat.dmat\n",
      "../data/33/feat.dmat\n",
      "../data/34/feat.dmat\n",
      "../data/35/feat.dmat\n",
      "../data/36/feat.dmat\n",
      "../data/37/feat.dmat\n",
      "../data/38/feat.dmat\n",
      "../data/39/feat.dmat\n",
      "../data/40/feat.dmat\n",
      "../data/41/feat.dmat\n",
      "../data/42/feat.dmat\n",
      "../data/43/feat.dmat\n",
      "../data/44/feat.dmat\n",
      "../data/45/feat.dmat\n",
      "../data/46/feat.dmat\n",
      "../data/47/feat.dmat\n",
      "../data/48/feat.dmat\n",
      "../data/49/feat.dmat\n"
     ]
    }
   ],
   "source": [
    "for j in range(27,50):\n",
    "    parent_dir = \"../data/\"+str(j)+\"/\"\n",
    "    obj_file = pbcut.get_bad_mesh(parent_dir)\n",
    "    yml_file = pbcut.get_feat_file(parent_dir)\n",
    "    dmat_file = pbcut.parse_feat(yml_file)\n",
    "    print(dmat_file)\n",
    "    "
   ]
  },
  {
   "cell_type": "code",
   "execution_count": null,
   "metadata": {},
   "outputs": [],
   "source": [
    "for j in range(28,50):\n",
    "    parent_dir = \"../data/\"+str(j)+\"/\"\n",
    "    bad_obj_file = pbcut.get_bad_mesh(parent_dir)\n",
    "    wm.tetrahedralize(bad_obj_file, parent_dir +\"good.mesh\", stop_quality=7,edge_length_r = 0.04)\n",
    "    "
   ]
  },
  {
   "cell_type": "code",
   "execution_count": 2,
   "metadata": {},
   "outputs": [],
   "source": [
    "?wm.tetrahedralize"
   ]
  },
  {
   "cell_type": "code",
   "execution_count": 9,
   "metadata": {},
   "outputs": [
    {
     "name": "stdout",
     "output_type": "stream",
     "text": [
      "read\n",
      "refine\n",
      "built\n",
      "{2: {'patch_diff': 0, 'euler_diff': 0}, 3: {'patch_diff': 0, 'euler_diff': 0}, 4: {'patch_diff': -129, 'euler_diff': -47}, 5: {'patch_diff': -19, 'euler_diff': 0}, 6: {'patch_diff': 0, 'euler_diff': 0}, 7: {'patch_diff': 0, 'euler_diff': 0}, 8: {'patch_diff': 0, 'euler_diff': 0}, 9: {'patch_diff': -37, 'euler_diff': -89}, 0: False, 1: False, 10: False, 20: False, 21: {'patch_diff': 0, 'euler_diff': 0}, 22: {'patch_diff': 0, 'euler_diff': 0}, 23: {'patch_diff': 0, 'euler_diff': -6}, 24: {'patch_diff': 0, 'euler_diff': 0}, 25: {'patch_diff': 0, 'euler_diff': -1}, 26: {'patch_diff': 0, 'euler_diff': 0}, 27: {'patch_diff': -27, 'euler_diff': -9}, 28: {'patch_diff': 0, 'euler_diff': -3}, 29: {'patch_diff': 0, 'euler_diff': 0}, 30: {'patch_diff': -1, 'euler_diff': -13}, 31: {'patch_diff': 0, 'euler_diff': 0}, 32: False, 11: {'patch_diff': 0, 'euler_diff': 0}}\n",
      "read\n",
      "refine\n",
      "built\n",
      "{2: {'patch_diff': 0, 'euler_diff': 0}, 3: {'patch_diff': 0, 'euler_diff': 0}, 4: {'patch_diff': -129, 'euler_diff': -47}, 5: {'patch_diff': -19, 'euler_diff': 0}, 6: {'patch_diff': 0, 'euler_diff': 0}, 7: {'patch_diff': 0, 'euler_diff': 0}, 8: {'patch_diff': 0, 'euler_diff': 0}, 9: {'patch_diff': -37, 'euler_diff': -89}, 0: False, 1: False, 10: False, 20: False, 21: {'patch_diff': 0, 'euler_diff': 0}, 22: {'patch_diff': 0, 'euler_diff': 0}, 23: {'patch_diff': 0, 'euler_diff': -6}, 24: {'patch_diff': 0, 'euler_diff': 0}, 25: {'patch_diff': 0, 'euler_diff': -1}, 26: {'patch_diff': 0, 'euler_diff': 0}, 27: {'patch_diff': -27, 'euler_diff': -9}, 28: {'patch_diff': 0, 'euler_diff': -3}, 29: {'patch_diff': 0, 'euler_diff': 0}, 30: {'patch_diff': -1, 'euler_diff': -13}, 31: {'patch_diff': 0, 'euler_diff': 0}, 32: False, 11: {'patch_diff': 0, 'euler_diff': 0}, 12: {'patch_diff': 0, 'euler_diff': 0}}\n",
      "read\n",
      "refine\n",
      "built\n",
      "{2: {'patch_diff': 0, 'euler_diff': 0}, 3: {'patch_diff': 0, 'euler_diff': 0}, 4: {'patch_diff': -129, 'euler_diff': -47}, 5: {'patch_diff': -19, 'euler_diff': 0}, 6: {'patch_diff': 0, 'euler_diff': 0}, 7: {'patch_diff': 0, 'euler_diff': 0}, 8: {'patch_diff': 0, 'euler_diff': 0}, 9: {'patch_diff': -37, 'euler_diff': -89}, 0: False, 1: False, 10: False, 20: False, 21: {'patch_diff': 0, 'euler_diff': 0}, 22: {'patch_diff': 0, 'euler_diff': 0}, 23: {'patch_diff': 0, 'euler_diff': -6}, 24: {'patch_diff': 0, 'euler_diff': 0}, 25: {'patch_diff': 0, 'euler_diff': -1}, 26: {'patch_diff': 0, 'euler_diff': 0}, 27: {'patch_diff': -27, 'euler_diff': -9}, 28: {'patch_diff': 0, 'euler_diff': -3}, 29: {'patch_diff': 0, 'euler_diff': 0}, 30: {'patch_diff': -1, 'euler_diff': -13}, 31: {'patch_diff': 0, 'euler_diff': 0}, 32: False, 11: {'patch_diff': 0, 'euler_diff': 0}, 12: {'patch_diff': 0, 'euler_diff': 0}, 13: {'patch_diff': 0, 'euler_diff': -8}}\n",
      "read\n",
      "refine\n",
      "built\n",
      "{2: {'patch_diff': 0, 'euler_diff': 0}, 3: {'patch_diff': 0, 'euler_diff': 0}, 4: {'patch_diff': -129, 'euler_diff': -47}, 5: {'patch_diff': -19, 'euler_diff': 0}, 6: {'patch_diff': 0, 'euler_diff': 0}, 7: {'patch_diff': 0, 'euler_diff': 0}, 8: {'patch_diff': 0, 'euler_diff': 0}, 9: {'patch_diff': -37, 'euler_diff': -89}, 0: False, 1: False, 10: False, 20: False, 21: {'patch_diff': 0, 'euler_diff': 0}, 22: {'patch_diff': 0, 'euler_diff': 0}, 23: {'patch_diff': 0, 'euler_diff': -6}, 24: {'patch_diff': 0, 'euler_diff': 0}, 25: {'patch_diff': 0, 'euler_diff': -1}, 26: {'patch_diff': 0, 'euler_diff': 0}, 27: {'patch_diff': -27, 'euler_diff': -9}, 28: {'patch_diff': 0, 'euler_diff': -3}, 29: {'patch_diff': 0, 'euler_diff': 0}, 30: {'patch_diff': -1, 'euler_diff': -13}, 31: {'patch_diff': 0, 'euler_diff': 0}, 32: False, 11: {'patch_diff': 0, 'euler_diff': 0}, 12: {'patch_diff': 0, 'euler_diff': 0}, 13: {'patch_diff': 0, 'euler_diff': -8}, 14: {'patch_diff': 0, 'euler_diff': 0}}\n",
      "read\n",
      "refine\n",
      "built\n",
      "{2: {'patch_diff': 0, 'euler_diff': 0}, 3: {'patch_diff': 0, 'euler_diff': 0}, 4: {'patch_diff': -129, 'euler_diff': -47}, 5: {'patch_diff': -19, 'euler_diff': 0}, 6: {'patch_diff': 0, 'euler_diff': 0}, 7: {'patch_diff': 0, 'euler_diff': 0}, 8: {'patch_diff': 0, 'euler_diff': 0}, 9: {'patch_diff': -37, 'euler_diff': -89}, 0: False, 1: False, 10: False, 20: False, 21: {'patch_diff': 0, 'euler_diff': 0}, 22: {'patch_diff': 0, 'euler_diff': 0}, 23: {'patch_diff': 0, 'euler_diff': -6}, 24: {'patch_diff': 0, 'euler_diff': 0}, 25: {'patch_diff': 0, 'euler_diff': -1}, 26: {'patch_diff': 0, 'euler_diff': 0}, 27: {'patch_diff': -27, 'euler_diff': -9}, 28: {'patch_diff': 0, 'euler_diff': -3}, 29: {'patch_diff': 0, 'euler_diff': 0}, 30: {'patch_diff': -1, 'euler_diff': -13}, 31: {'patch_diff': 0, 'euler_diff': 0}, 32: False, 11: {'patch_diff': 0, 'euler_diff': 0}, 12: {'patch_diff': 0, 'euler_diff': 0}, 13: {'patch_diff': 0, 'euler_diff': -8}, 14: {'patch_diff': 0, 'euler_diff': 0}, 15: {'patch_diff': 0, 'euler_diff': 0}}\n",
      "read\n",
      "refine\n",
      "built\n",
      "{2: {'patch_diff': 0, 'euler_diff': 0}, 3: {'patch_diff': 0, 'euler_diff': 0}, 4: {'patch_diff': -129, 'euler_diff': -47}, 5: {'patch_diff': -19, 'euler_diff': 0}, 6: {'patch_diff': 0, 'euler_diff': 0}, 7: {'patch_diff': 0, 'euler_diff': 0}, 8: {'patch_diff': 0, 'euler_diff': 0}, 9: {'patch_diff': -37, 'euler_diff': -89}, 0: False, 1: False, 10: False, 20: False, 21: {'patch_diff': 0, 'euler_diff': 0}, 22: {'patch_diff': 0, 'euler_diff': 0}, 23: {'patch_diff': 0, 'euler_diff': -6}, 24: {'patch_diff': 0, 'euler_diff': 0}, 25: {'patch_diff': 0, 'euler_diff': -1}, 26: {'patch_diff': 0, 'euler_diff': 0}, 27: {'patch_diff': -27, 'euler_diff': -9}, 28: {'patch_diff': 0, 'euler_diff': -3}, 29: {'patch_diff': 0, 'euler_diff': 0}, 30: {'patch_diff': -1, 'euler_diff': -13}, 31: {'patch_diff': 0, 'euler_diff': 0}, 32: False, 11: {'patch_diff': 0, 'euler_diff': 0}, 12: {'patch_diff': 0, 'euler_diff': 0}, 13: {'patch_diff': 0, 'euler_diff': -8}, 14: {'patch_diff': 0, 'euler_diff': 0}, 15: {'patch_diff': 0, 'euler_diff': 0}, 16: {'patch_diff': 0, 'euler_diff': 0}}\n",
      "read\n",
      "refine\n",
      "built\n",
      "{2: {'patch_diff': 0, 'euler_diff': 0}, 3: {'patch_diff': 0, 'euler_diff': 0}, 4: {'patch_diff': -129, 'euler_diff': -47}, 5: {'patch_diff': -19, 'euler_diff': 0}, 6: {'patch_diff': 0, 'euler_diff': 0}, 7: {'patch_diff': 0, 'euler_diff': 0}, 8: {'patch_diff': 0, 'euler_diff': 0}, 9: {'patch_diff': -37, 'euler_diff': -89}, 0: False, 1: False, 10: False, 20: False, 21: {'patch_diff': 0, 'euler_diff': 0}, 22: {'patch_diff': 0, 'euler_diff': 0}, 23: {'patch_diff': 0, 'euler_diff': -6}, 24: {'patch_diff': 0, 'euler_diff': 0}, 25: {'patch_diff': 0, 'euler_diff': -1}, 26: {'patch_diff': 0, 'euler_diff': 0}, 27: {'patch_diff': -27, 'euler_diff': -9}, 28: {'patch_diff': 0, 'euler_diff': -3}, 29: {'patch_diff': 0, 'euler_diff': 0}, 30: {'patch_diff': -1, 'euler_diff': -13}, 31: {'patch_diff': 0, 'euler_diff': 0}, 32: False, 11: {'patch_diff': 0, 'euler_diff': 0}, 12: {'patch_diff': 0, 'euler_diff': 0}, 13: {'patch_diff': 0, 'euler_diff': -8}, 14: {'patch_diff': 0, 'euler_diff': 0}, 15: {'patch_diff': 0, 'euler_diff': 0}, 16: {'patch_diff': 0, 'euler_diff': 0}, 17: {'patch_diff': 0, 'euler_diff': 0}}\n",
      "read\n",
      "refine\n",
      "built\n",
      "{2: {'patch_diff': 0, 'euler_diff': 0}, 3: {'patch_diff': 0, 'euler_diff': 0}, 4: {'patch_diff': -129, 'euler_diff': -47}, 5: {'patch_diff': -19, 'euler_diff': 0}, 6: {'patch_diff': 0, 'euler_diff': 0}, 7: {'patch_diff': 0, 'euler_diff': 0}, 8: {'patch_diff': 0, 'euler_diff': 0}, 9: {'patch_diff': -37, 'euler_diff': -89}, 0: False, 1: False, 10: False, 20: False, 21: {'patch_diff': 0, 'euler_diff': 0}, 22: {'patch_diff': 0, 'euler_diff': 0}, 23: {'patch_diff': 0, 'euler_diff': -6}, 24: {'patch_diff': 0, 'euler_diff': 0}, 25: {'patch_diff': 0, 'euler_diff': -1}, 26: {'patch_diff': 0, 'euler_diff': 0}, 27: {'patch_diff': -27, 'euler_diff': -9}, 28: {'patch_diff': 0, 'euler_diff': -3}, 29: {'patch_diff': 0, 'euler_diff': 0}, 30: {'patch_diff': -1, 'euler_diff': -13}, 31: {'patch_diff': 0, 'euler_diff': 0}, 32: False, 11: {'patch_diff': 0, 'euler_diff': 0}, 12: {'patch_diff': 0, 'euler_diff': 0}, 13: {'patch_diff': 0, 'euler_diff': -8}, 14: {'patch_diff': 0, 'euler_diff': 0}, 15: {'patch_diff': 0, 'euler_diff': 0}, 16: {'patch_diff': 0, 'euler_diff': 0}, 17: {'patch_diff': 0, 'euler_diff': 0}, 18: {'patch_diff': 0, 'euler_diff': 0}}\n"
     ]
    },
    {
     "name": "stdout",
     "output_type": "stream",
     "text": [
      "read\n",
      "refine\n",
      "built\n",
      "{2: {'patch_diff': 0, 'euler_diff': 0}, 3: {'patch_diff': 0, 'euler_diff': 0}, 4: {'patch_diff': -129, 'euler_diff': -47}, 5: {'patch_diff': -19, 'euler_diff': 0}, 6: {'patch_diff': 0, 'euler_diff': 0}, 7: {'patch_diff': 0, 'euler_diff': 0}, 8: {'patch_diff': 0, 'euler_diff': 0}, 9: {'patch_diff': -37, 'euler_diff': -89}, 0: False, 1: False, 10: False, 20: False, 21: {'patch_diff': 0, 'euler_diff': 0}, 22: {'patch_diff': 0, 'euler_diff': 0}, 23: {'patch_diff': 0, 'euler_diff': -6}, 24: {'patch_diff': 0, 'euler_diff': 0}, 25: {'patch_diff': 0, 'euler_diff': -1}, 26: {'patch_diff': 0, 'euler_diff': 0}, 27: {'patch_diff': -27, 'euler_diff': -9}, 28: {'patch_diff': 0, 'euler_diff': -3}, 29: {'patch_diff': 0, 'euler_diff': 0}, 30: {'patch_diff': -1, 'euler_diff': -13}, 31: {'patch_diff': 0, 'euler_diff': 0}, 32: False, 11: {'patch_diff': 0, 'euler_diff': 0}, 12: {'patch_diff': 0, 'euler_diff': 0}, 13: {'patch_diff': 0, 'euler_diff': -8}, 14: {'patch_diff': 0, 'euler_diff': 0}, 15: {'patch_diff': 0, 'euler_diff': 0}, 16: {'patch_diff': 0, 'euler_diff': 0}, 17: {'patch_diff': 0, 'euler_diff': 0}, 18: {'patch_diff': 0, 'euler_diff': 0}, 19: {'patch_diff': 0, 'euler_diff': 0}}\n"
     ]
    }
   ],
   "source": [
    "record_dict={2: {'patch_diff': 0, 'euler_diff': 0}, 3: {'patch_diff': 0, 'euler_diff': 0}, 4: {'patch_diff': -129, 'euler_diff': -47}, 5: {'patch_diff': -19, 'euler_diff': 0}, 6: {'patch_diff': 0, 'euler_diff': 0}, 7: {'patch_diff': 0, 'euler_diff': 0}, 8: {'patch_diff': 0, 'euler_diff': 0}, 9: {'patch_diff': -37, 'euler_diff': -89}, 0: False, 1: False, 10: False, 20: False, 21: {'patch_diff': 0, 'euler_diff': 0}, 22: {'patch_diff': 0, 'euler_diff': 0}, 23: {'patch_diff': 0, 'euler_diff': -6}, 24: {'patch_diff': 0, 'euler_diff': 0}, 25: {'patch_diff': 0, 'euler_diff': -1}, 26: {'patch_diff': 0, 'euler_diff': 0}, 27: {'patch_diff': -27, 'euler_diff': -9}, 28: {'patch_diff': 0, 'euler_diff': -3}, 29: {'patch_diff': 0, 'euler_diff': 0}, 30: {'patch_diff': -1, 'euler_diff': -13}, 31: {'patch_diff': 0, 'euler_diff': 0}, 32: False, 11: {'patch_diff': 0, 'euler_diff': 0}, 12: {'patch_diff': 0, 'euler_diff': 0}, 13: {'patch_diff': 0, 'euler_diff': -8}, 14: {'patch_diff': 0, 'euler_diff': 0}, 15: {'patch_diff': 0, 'euler_diff': 0}, 16: {'patch_diff': 0, 'euler_diff': 0}, 17: {'patch_diff': 0, 'euler_diff': 0}, 18: {'patch_diff': 0, 'euler_diff': 0}, 19: {'patch_diff': 0, 'euler_diff': 0}}\n",
    "record_dict[32]=False\n",
    "for j in range(11, 20):\n",
    "    parent_dir = \"../data/\"+str(j)+\"/\"\n",
    "    bad_obj_file = pbcut.get_bad_mesh(parent_dir)\n",
    "    dmat_file = parent_dir+\"feat.dmat\"\n",
    "    good_obj_file = parent_dir + \"good.mesh__sf.obj\"\n",
    "    v_bad, f_bad=igl.read_triangle_mesh(bad_obj_file)\n",
    "    fl_bad  = igl.read_dmat(dmat_file)\n",
    "    v_good, f_good = igl.read_triangle_mesh(good_obj_file)\n",
    "    print(\"read\")\n",
    "    fl_bad=fl_bad.astype('int32')\n",
    "    f_good = f_good.astype('int32')\n",
    "    f_bad = f_bad.astype('int32')\n",
    "    label_num = fl_bad.max()+1\n",
    "    prob_mat, fl_good = pbc.project_face_labels(v_bad, f_bad, fl_bad,label_num,2, v_good, f_good)\n",
    "    fl_refine = pbc.refine_labels(v_good, f_good, prob_mat, fl_good.astype('int32'),1)[:,0]\n",
    "    print(\"refine\")\n",
    "    edge_list_bad, patch_edge_list_bad = pbc.build_edge_list(v_bad, f_bad, fl_bad, label_num)\n",
    "    edge_list_good, patch_edge_list_good = pbc.build_edge_list(v_good, f_good, fl_refine, label_num)\n",
    "    node_list_bad = pbc.build_node_list(f_bad, fl_bad, label_num)\n",
    "    node_list_good = pbc.build_node_list(f_good, fl_refine, label_num)\n",
    "    patch_dict_good = pbcut.extract_patches(v_good, f_good, fl_refine)\n",
    "    patch_dict_bad = pbcut.extract_patches(v_bad, f_bad, fl_bad)\n",
    "    pair_edge_dict_bad, adj_matrix_bad = pbcut.build_adj_dict(edge_list_bad, label_num)\n",
    "    pair_edge_dict_good, adj_matrix_good = pbcut.build_adj_dict(edge_list_good, label_num)\n",
    "    print(\"built\")\n",
    "    record_entry = {}\n",
    "    record_entry[\"patch_diff\"] = len(patch_dict_good) - len(patch_dict_bad)\n",
    "    euler_good = len(node_list_good)+len(patch_dict_good)-len(edge_list_good)\n",
    "    euler_bad = len(node_list_bad)+ len(patch_dict_bad)-len(edge_list_bad)\n",
    "    record_entry[\"euler_diff\"] = euler_good -euler_bad\n",
    "    record_dict[j]= record_entry\n",
    "    print(record_dict)\n",
    "#     except:\n",
    "#         record_dict[j]= False\n",
    "            \n",
    "        "
   ]
  },
  {
   "cell_type": "code",
   "execution_count": 2,
   "metadata": {},
   "outputs": [
    {
     "name": "stdout",
     "output_type": "stream",
     "text": [
      "read\n",
      "refine\n"
     ]
    },
    {
     "data": {
      "application/vnd.jupyter.widget-view+json": {
       "model_id": "7bef884cb7024f3690c0fc7c19895494",
       "version_major": 2,
       "version_minor": 0
      },
      "text/plain": [
       "HBox(children=(Output(), Output()))"
      ]
     },
     "metadata": {},
     "output_type": "display_data"
    },
    {
     "data": {
      "application/vnd.jupyter.widget-view+json": {
       "model_id": "fe216413fdef43ac8544e5d92153731c",
       "version_major": 2,
       "version_minor": 0
      },
      "text/plain": [
       "HBox(children=(Output(), Output()))"
      ]
     },
     "metadata": {},
     "output_type": "display_data"
    },
    {
     "data": {
      "application/vnd.jupyter.widget-view+json": {
       "model_id": "6988d60f3968494bb076e342f12f122e",
       "version_major": 2,
       "version_minor": 0
      },
      "text/plain": [
       "HBox(children=(Output(), Output()))"
      ]
     },
     "metadata": {},
     "output_type": "display_data"
    },
    {
     "data": {
      "application/vnd.jupyter.widget-view+json": {
       "model_id": "0f4b390925914a1b92e60fb2342e1cd7",
       "version_major": 2,
       "version_minor": 0
      },
      "text/plain": [
       "HBox(children=(Output(), Output()))"
      ]
     },
     "metadata": {},
     "output_type": "display_data"
    }
   ],
   "source": [
    "parent_dir = \"../data/\"+str(7)+\"/\"\n",
    "bad_obj_file = pbcut.get_bad_mesh(parent_dir)\n",
    "dmat_file = parent_dir+\"feat.dmat\"\n",
    "good_obj_file = parent_dir + \"good.mesh__sf.obj\"\n",
    "v_bad, f_bad=igl.read_triangle_mesh(bad_obj_file)\n",
    "fl_bad  = igl.read_dmat(dmat_file)\n",
    "v_good, f_good = igl.read_triangle_mesh(good_obj_file)\n",
    "print(\"read\")\n",
    "fl_bad=fl_bad.astype('int32')\n",
    "f_good = f_good.astype('int32')\n",
    "f_bad = f_bad.astype('int32')\n",
    "label_num = fl_bad.max()+1\n",
    "prob_mat, fl_good = pbc.project_face_labels(v_bad, f_bad, fl_bad,label_num,2, v_good, f_good)\n",
    "fl_refine = pbc.refine_labels(v_good, f_good, prob_mat, fl_good.astype('int32'),1)[:,0]\n",
    "print(\"refine\")\n",
    "edge_list_bad, patch_edge_list_bad = pbc.build_edge_list(v_bad, f_bad, fl_bad, label_num)\n",
    "edge_list_good, patch_edge_list_good = pbc.build_edge_list(v_good, f_good, fl_refine, label_num)\n",
    "node_list_bad = pbc.build_node_list(f_bad, fl_bad, label_num)\n",
    "node_list_good = pbc.build_node_list(f_good, fl_refine, label_num)\n",
    "patch_dict_good = pbcut.extract_patches(v_good, f_good, fl_refine)\n",
    "patch_dict_bad = pbcut.extract_patches(v_bad, f_bad, fl_bad)\n",
    "pair_edge_dict_bad, adj_matrix_bad = pbcut.build_adj_dict(edge_list_bad, label_num)\n",
    "pair_edge_dict_good, adj_matrix_good = pbcut.build_adj_dict(edge_list_good, label_num)\n",
    "d = mp.subplot(v_good, f_good, fl_refine, s=[2, 2, 0], shading={\"wireframe\":True})\n",
    "diff_mat = (adj_matrix_bad-adj_matrix_good)\n",
    "area = igl.doublearea(v_good, f_good)\n",
    "for edg in edge_list_good:\n",
    "#     if edge_list_good[q].head == -1:\n",
    "    if diff_mat[edg.label_pair]!=0:\n",
    "        d.rows[0][0].add_points(v_good[edg.vertices_list], shading={\"point_size\": 0.3})\n",
    "p = mp.subplot(v_bad, f_bad, fl_bad, s= [2,2,0],shading={\"wireframe\":True})\n",
    "for edg in edge_list_bad:\n",
    "#     if edge_list_good[q].head == -1:\n",
    "    if diff_mat[edg.label_pair]!=0:\n",
    "        p.rows[0][0].add_points(v_bad[edg.vertices_list], shading={\"point_size\": 0.3})\n"
   ]
  },
  {
   "cell_type": "code",
   "execution_count": 3,
   "metadata": {},
   "outputs": [],
   "source": [
    "dd={2: {'patch_diff': 0, 'euler_diff': 0}, 3: {'patch_diff': 0, 'euler_diff': 0}, 4: {'patch_diff': -129, 'euler_diff': -47}, 5: {'patch_diff': -19, 'euler_diff': 0}, 6: {'patch_diff': 0, 'euler_diff': 0}, 7: {'patch_diff': 0, 'euler_diff': 0}, 8: {'patch_diff': 0, 'euler_diff': 0}, 9: {'patch_diff': -37, 'euler_diff': -89}, 0: False, 1: False, 10: False, 20: False, 21: {'patch_diff': 0, 'euler_diff': 0}, 22: {'patch_diff': 0, 'euler_diff': 0}, 23: {'patch_diff': 0, 'euler_diff': -6}, 24: {'patch_diff': 0, 'euler_diff': 0}, 25: {'patch_diff': 0, 'euler_diff': -1}, 26: {'patch_diff': 0, 'euler_diff': 0}, 27: {'patch_diff': -27, 'euler_diff': -9}, 28: {'patch_diff': 0, 'euler_diff': -3}, 29: {'patch_diff': 0, 'euler_diff': 0}, 30: {'patch_diff': -1, 'euler_diff': -13}, 31: {'patch_diff': 0, 'euler_diff': 0}, 32: False, 11: {'patch_diff': 0, 'euler_diff': 0}, 12: {'patch_diff': 0, 'euler_diff': 0}, 13: {'patch_diff': 0, 'euler_diff': -8}, 14: {'patch_diff': 0, 'euler_diff': 0}, 15: {'patch_diff': 0, 'euler_diff': 0}, 16: {'patch_diff': 0, 'euler_diff': 0}, 17: {'patch_diff': 0, 'euler_diff': 0}, 18: {'patch_diff': 0, 'euler_diff': 0}, 19: {'patch_diff': 0, 'euler_diff': 0}}"
   ]
  },
  {
   "cell_type": "code",
   "execution_count": 4,
   "metadata": {},
   "outputs": [
    {
     "name": "stdout",
     "output_type": "stream",
     "text": [
      "0 False\n",
      "1 False\n",
      "2 {'patch_diff': 0, 'euler_diff': 0}\n",
      "3 {'patch_diff': 0, 'euler_diff': 0}\n",
      "4 {'patch_diff': -129, 'euler_diff': -47}\n",
      "5 {'patch_diff': -19, 'euler_diff': 0}\n",
      "6 {'patch_diff': 0, 'euler_diff': 0}\n",
      "7 {'patch_diff': 0, 'euler_diff': 0}\n",
      "8 {'patch_diff': 0, 'euler_diff': 0}\n",
      "9 {'patch_diff': -37, 'euler_diff': -89}\n",
      "10 False\n",
      "11 {'patch_diff': 0, 'euler_diff': 0}\n",
      "12 {'patch_diff': 0, 'euler_diff': 0}\n",
      "13 {'patch_diff': 0, 'euler_diff': -8}\n",
      "14 {'patch_diff': 0, 'euler_diff': 0}\n",
      "15 {'patch_diff': 0, 'euler_diff': 0}\n",
      "16 {'patch_diff': 0, 'euler_diff': 0}\n",
      "17 {'patch_diff': 0, 'euler_diff': 0}\n",
      "18 {'patch_diff': 0, 'euler_diff': 0}\n",
      "19 {'patch_diff': 0, 'euler_diff': 0}\n",
      "20 False\n",
      "21 {'patch_diff': 0, 'euler_diff': 0}\n",
      "22 {'patch_diff': 0, 'euler_diff': 0}\n",
      "23 {'patch_diff': 0, 'euler_diff': -6}\n",
      "24 {'patch_diff': 0, 'euler_diff': 0}\n",
      "25 {'patch_diff': 0, 'euler_diff': -1}\n",
      "26 {'patch_diff': 0, 'euler_diff': 0}\n",
      "27 {'patch_diff': -27, 'euler_diff': -9}\n",
      "28 {'patch_diff': 0, 'euler_diff': -3}\n",
      "29 {'patch_diff': 0, 'euler_diff': 0}\n",
      "30 {'patch_diff': -1, 'euler_diff': -13}\n",
      "31 {'patch_diff': 0, 'euler_diff': 0}\n",
      "32 False\n"
     ]
    }
   ],
   "source": [
    "for key in sorted(dd.keys()):\n",
    "    print(key, dd[key])\n",
    "    "
   ]
  },
  {
   "cell_type": "code",
   "execution_count": null,
   "metadata": {},
   "outputs": [],
   "source": [
    "7, 8, 25"
   ]
  },
  {
   "cell_type": "code",
   "execution_count": 5,
   "metadata": {},
   "outputs": [],
   "source": [
    "flag_bad,vv_bad,tv_bad,fv_bad =igl.tetrahedralize(v_bad, f_bad)"
   ]
  },
  {
   "cell_type": "code",
   "execution_count": 6,
   "metadata": {},
   "outputs": [
    {
     "name": "stdout",
     "output_type": "stream",
     "text": [
      "0\n"
     ]
    }
   ],
   "source": [
    "print(flag_bad)"
   ]
  },
  {
   "cell_type": "code",
   "execution_count": 7,
   "metadata": {},
   "outputs": [
    {
     "data": {
      "application/vnd.jupyter.widget-view+json": {
       "model_id": "db18e9bdaffb4cf49ad366a38433d0b1",
       "version_major": 2,
       "version_minor": 0
      },
      "text/plain": [
       "Renderer(camera=PerspectiveCamera(children=(DirectionalLight(color='white', intensity=0.6, position=(0.0, 0.0,…"
      ]
     },
     "metadata": {},
     "output_type": "display_data"
    }
   ],
   "source": [
    "mp.plot(vv_bad, tv_bad)"
   ]
  },
  {
   "cell_type": "code",
   "execution_count": 33,
   "metadata": {},
   "outputs": [
    {
     "ename": "TypeError",
     "evalue": "'numpy.ndarray' object is not callable",
     "output_type": "error",
     "traceback": [
      "\u001b[0;31m---------------------------------------------------------------------------\u001b[0m",
      "\u001b[0;31mTypeError\u001b[0m                                 Traceback (most recent call last)",
      "\u001b[0;32m<ipython-input-33-62a8acbfc1b7>\u001b[0m in \u001b[0;36m<module>\u001b[0;34m\u001b[0m\n\u001b[0;32m----> 1\u001b[0;31m \u001b[0mfl_bad\u001b[0m\u001b[0;34m(\u001b[0m\u001b[0mkdt_bad\u001b[0m\u001b[0;34m.\u001b[0m\u001b[0mquery\u001b[0m\u001b[0;34m(\u001b[0m\u001b[0mbary_centers_bad\u001b[0m\u001b[0;34m)\u001b[0m\u001b[0;34m[\u001b[0m\u001b[0;36m0\u001b[0m\u001b[0;34m]\u001b[0m\u001b[0;34m)\u001b[0m\u001b[0;34m\u001b[0m\u001b[0;34m\u001b[0m\u001b[0m\n\u001b[0m",
      "\u001b[0;31mTypeError\u001b[0m: 'numpy.ndarray' object is not callable"
     ]
    }
   ],
   "source": [
    "ada=fl_bad(kdt_bad.query(bary_centers_bad)[1])"
   ]
  },
  {
   "cell_type": "code",
   "execution_count": 29,
   "metadata": {},
   "outputs": [
    {
     "name": "stdout",
     "output_type": "stream",
     "text": [
      "[ 7.512932   13.30229333 39.725084  ]\n"
     ]
    },
    {
     "ename": "IndexError",
     "evalue": "tuple index out of range",
     "output_type": "error",
     "traceback": [
      "\u001b[0;31m---------------------------------------------------------------------------\u001b[0m",
      "\u001b[0;31mIndexError\u001b[0m                                Traceback (most recent call last)",
      "\u001b[0;32m<ipython-input-29-1262bbd18ed3>\u001b[0m in \u001b[0;36m<module>\u001b[0;34m\u001b[0m\n\u001b[1;32m     18\u001b[0m \u001b[0;32mfor\u001b[0m \u001b[0mbc\u001b[0m \u001b[0;32min\u001b[0m \u001b[0mbary_centers_bad\u001b[0m\u001b[0;34m:\u001b[0m\u001b[0;34m\u001b[0m\u001b[0;34m\u001b[0m\u001b[0m\n\u001b[1;32m     19\u001b[0m     \u001b[0mprint\u001b[0m\u001b[0;34m(\u001b[0m\u001b[0mbc\u001b[0m\u001b[0;34m)\u001b[0m\u001b[0;34m\u001b[0m\u001b[0;34m\u001b[0m\u001b[0m\n\u001b[0;32m---> 20\u001b[0;31m     \u001b[0mprint\u001b[0m\u001b[0;34m(\u001b[0m\u001b[0msideset_bad\u001b[0m\u001b[0;34m(\u001b[0m\u001b[0mp\u001b[0m\u001b[0;34m)\u001b[0m\u001b[0;34m)\u001b[0m\u001b[0;34m\u001b[0m\u001b[0;34m\u001b[0m\u001b[0m\n\u001b[0m",
      "\u001b[0;32m<ipython-input-29-1262bbd18ed3>\u001b[0m in \u001b[0;36msideset_bad\u001b[0;34m(p)\u001b[0m\n\u001b[1;32m     13\u001b[0m     \u001b[0;32mreturn\u001b[0m \u001b[0mfl_refine\u001b[0m\u001b[0;34m[\u001b[0m\u001b[0mkdt_good\u001b[0m\u001b[0;34m.\u001b[0m\u001b[0mquery\u001b[0m\u001b[0;34m(\u001b[0m\u001b[0mp\u001b[0m\u001b[0;34m)\u001b[0m\u001b[0;34m[\u001b[0m\u001b[0;36m1\u001b[0m\u001b[0;34m]\u001b[0m\u001b[0;34m]\u001b[0m \u001b[0;34m+\u001b[0m \u001b[0;36m1\u001b[0m\u001b[0;34m\u001b[0m\u001b[0;34m\u001b[0m\u001b[0m\n\u001b[1;32m     14\u001b[0m \u001b[0;32mdef\u001b[0m \u001b[0msideset_bad\u001b[0m\u001b[0;34m(\u001b[0m\u001b[0mp\u001b[0m\u001b[0;34m)\u001b[0m\u001b[0;34m:\u001b[0m\u001b[0;34m\u001b[0m\u001b[0;34m\u001b[0m\u001b[0m\n\u001b[0;32m---> 15\u001b[0;31m     \u001b[0mres\u001b[0m \u001b[0;34m=\u001b[0m\u001b[0mfl_bad\u001b[0m\u001b[0;34m[\u001b[0m\u001b[0mkdt_bad\u001b[0m\u001b[0;34m.\u001b[0m\u001b[0mquery\u001b[0m\u001b[0;34m(\u001b[0m\u001b[0mp\u001b[0m\u001b[0;34m)\u001b[0m\u001b[0;34m[\u001b[0m\u001b[0;36m1\u001b[0m\u001b[0;34m]\u001b[0m\u001b[0;34m]\u001b[0m\u001b[0;34m+\u001b[0m \u001b[0;36m1\u001b[0m\u001b[0;34m\u001b[0m\u001b[0;34m\u001b[0m\u001b[0m\n\u001b[0m\u001b[1;32m     16\u001b[0m     \u001b[0;32mreturn\u001b[0m \u001b[0mfl_bad\u001b[0m\u001b[0;34m[\u001b[0m\u001b[0mkdt_bad\u001b[0m\u001b[0;34m.\u001b[0m\u001b[0mquery\u001b[0m\u001b[0;34m(\u001b[0m\u001b[0mp\u001b[0m\u001b[0;34m)\u001b[0m\u001b[0;34m[\u001b[0m\u001b[0;36m1\u001b[0m\u001b[0;34m]\u001b[0m\u001b[0;34m]\u001b[0m\u001b[0;34m+\u001b[0m \u001b[0;36m1\u001b[0m\u001b[0;34m\u001b[0m\u001b[0;34m\u001b[0m\u001b[0m\n\u001b[1;32m     17\u001b[0m \u001b[0;34m\u001b[0m\u001b[0m\n",
      "\u001b[0;32m~/anaconda3/envs/bcclean_dev/lib/python3.7/site-packages/scipy/spatial/kdtree.py\u001b[0m in \u001b[0;36mquery\u001b[0;34m(self, x, k, eps, p, distance_upper_bound)\u001b[0m\n\u001b[1;32m    482\u001b[0m         \"\"\"\n\u001b[1;32m    483\u001b[0m         \u001b[0mx\u001b[0m \u001b[0;34m=\u001b[0m \u001b[0mnp\u001b[0m\u001b[0;34m.\u001b[0m\u001b[0masarray\u001b[0m\u001b[0;34m(\u001b[0m\u001b[0mx\u001b[0m\u001b[0;34m)\u001b[0m\u001b[0;34m\u001b[0m\u001b[0;34m\u001b[0m\u001b[0m\n\u001b[0;32m--> 484\u001b[0;31m         \u001b[0;32mif\u001b[0m \u001b[0mnp\u001b[0m\u001b[0;34m.\u001b[0m\u001b[0mshape\u001b[0m\u001b[0;34m(\u001b[0m\u001b[0mx\u001b[0m\u001b[0;34m)\u001b[0m\u001b[0;34m[\u001b[0m\u001b[0;34m-\u001b[0m\u001b[0;36m1\u001b[0m\u001b[0;34m]\u001b[0m \u001b[0;34m!=\u001b[0m \u001b[0mself\u001b[0m\u001b[0;34m.\u001b[0m\u001b[0mm\u001b[0m\u001b[0;34m:\u001b[0m\u001b[0;34m\u001b[0m\u001b[0;34m\u001b[0m\u001b[0m\n\u001b[0m\u001b[1;32m    485\u001b[0m             \u001b[0;32mraise\u001b[0m \u001b[0mValueError\u001b[0m\u001b[0;34m(\u001b[0m\u001b[0;34m\"x must consist of vectors of length %d but has shape %s\"\u001b[0m \u001b[0;34m%\u001b[0m \u001b[0;34m(\u001b[0m\u001b[0mself\u001b[0m\u001b[0;34m.\u001b[0m\u001b[0mm\u001b[0m\u001b[0;34m,\u001b[0m \u001b[0mnp\u001b[0m\u001b[0;34m.\u001b[0m\u001b[0mshape\u001b[0m\u001b[0;34m(\u001b[0m\u001b[0mx\u001b[0m\u001b[0;34m)\u001b[0m\u001b[0;34m)\u001b[0m\u001b[0;34m)\u001b[0m\u001b[0;34m\u001b[0m\u001b[0;34m\u001b[0m\u001b[0m\n\u001b[1;32m    486\u001b[0m         \u001b[0;32mif\u001b[0m \u001b[0mp\u001b[0m \u001b[0;34m<\u001b[0m \u001b[0;36m1\u001b[0m\u001b[0;34m:\u001b[0m\u001b[0;34m\u001b[0m\u001b[0;34m\u001b[0m\u001b[0m\n",
      "\u001b[0;31mIndexError\u001b[0m: tuple index out of range"
     ]
    }
   ],
   "source": [
    "\n",
    "def barycenters(v, f):\n",
    "    s = np.zeros((len(f),3),dtype='float64')\n",
    "    for i, r in enumerate(s):\n",
    "        s[i] = (v[f[i][0]]+v[f[i][1]]+v[f[i][2]])/3\n",
    "    return s\n",
    "bary_centers_good = barycenters(v_good, f_good)\n",
    "kdt_good = KDTree(bary_centers_good)\n",
    "\n",
    "bary_centers_bad = barycenters(v_bad, f_bad)\n",
    "kdt_bad = KDTree(bary_centers_bad)\n",
    "\n",
    "def sideset_good(p):\n",
    "    return fl_refine[kdt_good.query(p)[1]] + 1\n",
    "def sideset_bad(p):\n",
    "    res =fl_bad[kdt_bad.query(p)[1]]+ 1\n",
    "    return fl_bad[kdt_bad.query(p)[1]]+ 1\n",
    "\n",
    "for bc in bary_centers_bad:\n",
    "    kdt_bad\n"
   ]
  },
  {
   "cell_type": "code",
   "execution_count": 28,
   "metadata": {},
   "outputs": [
    {
     "name": "stdout",
     "output_type": "stream",
     "text": [
      "[ 0  0  0 ... 75 75 75]\n",
      "[[1.]\n",
      " [1.]\n",
      " [1.]\n",
      " ...\n",
      " [7.]\n",
      " [7.]\n",
      " [7.]]\n"
     ]
    }
   ],
   "source": [
    "print(fl_bad)\n",
    "print(ss_bad)\n"
   ]
  },
  {
   "cell_type": "code",
   "execution_count": 26,
   "metadata": {},
   "outputs": [
    {
     "name": "stdout",
     "output_type": "stream",
     "text": [
      "[2019-09-26 13:00:24.040] [polyfem] [info] Loading mesh...\n",
      "[2019-09-26 13:00:24.052] [polyfem] [info] mesh bb min [0, 0, 0], max [1, 0.985915, 0.888732]\n",
      "[2019-09-26 13:00:24.057] [polyfem] [info]  took 0.0175847s\n",
      "[2019-09-26 13:00:24.059] [polyfem] [info] Loading mesh...\n",
      "[2019-09-26 13:00:24.059] [geogram] [info] Loading file ../data/7/good.mesh...\n",
      "[2019-09-26 13:00:24.195] [geogram] [info] (FP64) nb_v:8136 nb_e:0 nb_f:8856 nb_b:0 tri:1 dim:3\n",
      "[2019-09-26 13:00:24.195] [geogram] [info]  nb_tets:33267\n",
      "[2019-09-26 13:00:24.195] [geogram] [info] Attributes on vertices: point[3]\n",
      "[2019-09-26 13:00:24.660] [polyfem] [info] mesh bb min [-22.5425, -22.225, -2.4785e-16], max [22.5425, 22.225, 40.0685]\n",
      "[2019-09-26 13:00:24.661] [polyfem] [info]  took 0.602768s\n"
     ]
    },
    {
     "data": {
      "application/vnd.jupyter.widget-view+json": {
       "model_id": "f7738b74f9474e1f874097f2f4ef77c4",
       "version_major": 2,
       "version_minor": 0
      },
      "text/plain": [
       "Renderer(camera=PerspectiveCamera(children=(DirectionalLight(color='white', intensity=0.6, position=(0.5, 0.49…"
      ]
     },
     "metadata": {},
     "output_type": "display_data"
    },
    {
     "name": "stdout",
     "output_type": "stream",
     "text": [
      "7.0\n"
     ]
    }
   ],
   "source": [
    "settings = pf.Settings()\n",
    "problem = pf.Problem()\n",
    "solver_bad = pf.Solver()\n",
    "solver_good = pf.Solver()\n",
    "solver_bad.set_mesh(vv_bad, tv_bad)\n",
    "\n",
    "solver_good.load_mesh_from_path(parent_dir+\"good.mesh\")\n",
    "\n",
    "settings.normalize_mesh = False\n",
    "settings.set_pde(pf.PDEs.Laplacian)\n",
    "problem.add_dirichlet_value(6,1.0)\n",
    "problem.add_dirichlet_value(7,-1.0)\n",
    "settings.set_problem(problem)\n",
    "solver_bad.settings(settings)\n",
    "solver_good.settings(settings)\n",
    "b_bad, tt_bad, ss_bad = solver_bad.get_boundary_sidesets()\n",
    "mp.plot(b_bad, tt_bad, ss_bad, shading={\"wireframe\":True})\n",
    "print(ss_bad.max())"
   ]
  },
  {
   "cell_type": "code",
   "execution_count": 18,
   "metadata": {},
   "outputs": [
    {
     "name": "stdout",
     "output_type": "stream",
     "text": [
      "[2019-09-26 12:58:11.186] [polyfem] [info] simplex_count: \t77727\n",
      "[2019-09-26 12:58:11.186] [polyfem] [info] regular_count: \t0\n",
      "[2019-09-26 12:58:11.186] [polyfem] [info] regular_boundary_count: \t0\n",
      "[2019-09-26 12:58:11.186] [polyfem] [info] simple_singular_count: \t0\n",
      "[2019-09-26 12:58:11.186] [polyfem] [info] multi_singular_count: \t0\n",
      "[2019-09-26 12:58:11.186] [polyfem] [info] boundary_count: \t0\n",
      "[2019-09-26 12:58:11.186] [polyfem] [info] multi_singular_boundary_count: \t0\n",
      "[2019-09-26 12:58:11.186] [polyfem] [info] non_regular_count: \t0\n",
      "[2019-09-26 12:58:11.186] [polyfem] [info] non_regular_boundary_count: \t0\n",
      "[2019-09-26 12:58:11.186] [polyfem] [info] undefined_count: \t0\n",
      "[2019-09-26 12:58:11.186] [polyfem] [info] total count:\t 77727\n",
      "[2019-09-26 12:58:11.186] [polyfem] [info] Building isoparametric basis...\n",
      "[2019-09-26 12:58:11.583] [polyfem] [info] Computing polygonal basis...\n",
      "[2019-09-26 12:58:11.583] [polyfem] [info]  took 2.4034e-05s\n",
      "[2019-09-26 12:58:11.670] [polyfem] [info] hmin: 0.0011789\n",
      "[2019-09-26 12:58:11.670] [polyfem] [info] hmax: 0.193111\n",
      "[2019-09-26 12:58:11.670] [polyfem] [info] havg: 0.0428922\n",
      "[2019-09-26 12:58:11.671] [polyfem] [info]  took 0.396907s\n",
      "[2019-09-26 12:58:11.671] [polyfem] [info] flipped elements 0\n",
      "[2019-09-26 12:58:11.671] [polyfem] [info] h: 0.193111\n",
      "[2019-09-26 12:58:11.671] [polyfem] [info] n bases: 25202\n",
      "[2019-09-26 12:58:11.671] [polyfem] [info] n pressure bases: 0\n",
      "[2019-09-26 12:58:11.671] [polyfem] [info] Assigning rhs...\n",
      "[2019-09-26 12:58:12.782] [polyfem] [info]  took 1.1112s\n",
      "[2019-09-26 12:58:12.782] [polyfem] [info] Assembling stiffness mat...\n",
      "[2019-09-26 12:58:12.936] [polyfem] [info]  took 0.154445s\n",
      "[2019-09-26 12:58:12.936] [polyfem] [info] sparsity: 281476/635140804\n",
      "[2019-09-26 12:58:12.936] [polyfem] [info] Solving Laplacian with\n",
      "[2019-09-26 12:58:12.936] [polyfem] [info] Hypre...\n",
      "[2019-09-26 12:58:14.603] [polyfem] [info] simplex_count: \t33267\n",
      "[2019-09-26 12:58:14.603] [polyfem] [info] regular_count: \t0\n",
      "[2019-09-26 12:58:14.603] [polyfem] [info] regular_boundary_count: \t0\n",
      "[2019-09-26 12:58:14.603] [polyfem] [info] simple_singular_count: \t0\n",
      "[2019-09-26 12:58:14.603] [polyfem] [info] multi_singular_count: \t0\n",
      "[2019-09-26 12:58:14.603] [polyfem] [info] boundary_count: \t0\n",
      "[2019-09-26 12:58:14.603] [polyfem] [info] multi_singular_boundary_count: \t0\n",
      "[2019-09-26 12:58:14.603] [polyfem] [info] non_regular_count: \t0\n",
      "[2019-09-26 12:58:14.603] [polyfem] [info] non_regular_boundary_count: \t0\n",
      "[2019-09-26 12:58:14.603] [polyfem] [info] undefined_count: \t0\n",
      "[2019-09-26 12:58:14.603] [polyfem] [info] total count:\t 33267\n",
      "[2019-09-26 12:58:14.603] [polyfem] [info] Building isoparametric basis...\n",
      "[2019-09-26 12:58:14.721] [polyfem] [info] Computing polygonal basis...\n",
      "[2019-09-26 12:58:14.721] [polyfem] [info]  took 2.3469e-05s\n",
      "[2019-09-26 12:58:14.726] [polyfem] [info] hmin: 0.126378\n",
      "[2019-09-26 12:58:14.726] [polyfem] [info] hmax: 5.80845\n",
      "[2019-09-26 12:58:14.726] [polyfem] [info] havg: 1.61873\n",
      "[2019-09-26 12:58:14.726] [polyfem] [info]  took 0.118011s\n",
      "[2019-09-26 12:58:14.726] [polyfem] [info] flipped elements 0\n",
      "[2019-09-26 12:58:14.726] [polyfem] [info] h: 5.80845\n",
      "[2019-09-26 12:58:14.726] [polyfem] [info] n bases: 8136\n",
      "[2019-09-26 12:58:14.726] [polyfem] [info] n pressure bases: 0\n",
      "[2019-09-26 12:58:14.726] [polyfem] [info] Assigning rhs...\n",
      "[2019-09-26 12:58:14.754] [polyfem] [info]  took 0.0279602s\n",
      "[2019-09-26 12:58:14.754] [polyfem] [info] Assembling stiffness mat...\n",
      "[2019-09-26 12:58:14.854] [polyfem] [info]  took 0.0999201s\n",
      "[2019-09-26 12:58:14.854] [polyfem] [info] sparsity: 99802/66194496\n",
      "[2019-09-26 12:58:14.854] [polyfem] [info] Solving Laplacian with\n",
      "[2019-09-26 12:58:14.854] [polyfem] [info] Hypre...\n"
     ]
    }
   ],
   "source": [
    "solver_bad.set_boundary_side_set_from_bary(sideset_bad)\n",
    "solver_bad.solve()\n",
    "solver_good.set_boundary_side_set_from_bary(sideset_good)\n",
    "solver_good.solve()"
   ]
  },
  {
   "cell_type": "code",
   "execution_count": 20,
   "metadata": {},
   "outputs": [
    {
     "data": {
      "application/vnd.jupyter.widget-view+json": {
       "model_id": "01f76715294c41a3b75a819e2f38add5",
       "version_major": 2,
       "version_minor": 0
      },
      "text/plain": [
       "Renderer(camera=PerspectiveCamera(children=(DirectionalLight(color='white', intensity=0.6, position=(0.5, 0.49…"
      ]
     },
     "metadata": {},
     "output_type": "display_data"
    }
   ],
   "source": [
    "p_bad, t_bad, d_bad = solver_bad.get_sampled_solution(boundary_only=True)\n",
    "mp.plot(p_bad, t_bad, d_bad[:,0], shading={'flat':True})"
   ]
  },
  {
   "cell_type": "code",
   "execution_count": 22,
   "metadata": {},
   "outputs": [
    {
     "name": "stdout",
     "output_type": "stream",
     "text": [
      "7.0\n"
     ]
    }
   ],
   "source": [
    "# c_bad = np.zeros_like(ss_bad)\n",
    "# c_bad[ss_bad==6]=1\n",
    "# c_bad[ss_bad==1]=2\n",
    "# mp.plot(b_bad, tt_bad, c_bad)\n",
    "print()"
   ]
  },
  {
   "cell_type": "code",
   "execution_count": 11,
   "metadata": {},
   "outputs": [
    {
     "data": {
      "application/vnd.jupyter.widget-view+json": {
       "model_id": "ea6115fa329345a3a4393b83311ddbdc",
       "version_major": 2,
       "version_minor": 0
      },
      "text/plain": [
       "Renderer(camera=PerspectiveCamera(children=(DirectionalLight(color='white', intensity=0.6, position=(0.5, 0.49…"
      ]
     },
     "metadata": {},
     "output_type": "display_data"
    }
   ],
   "source": []
  },
  {
   "cell_type": "code",
   "execution_count": 69,
   "metadata": {},
   "outputs": [
    {
     "data": {
      "text/plain": [
       "(array([[-2.38125 , -1.374815,  0.      ],\n",
       "        [-2.38125 , -1.374815,  0.071713],\n",
       "        [-2.38125 , -1.374815,  0.143426],\n",
       "        ...,\n",
       "        [ 2.38125 ,  1.374815,  1.075694],\n",
       "        [ 2.38125 ,  1.374815,  1.147406],\n",
       "        [ 2.38125 ,  1.374815,  1.219119]]),\n",
       " array([ 39789,  39791,  41303, ..., 151726, 141127,  17241]))"
      ]
     },
     "execution_count": 69,
     "metadata": {},
     "output_type": "execute_result"
    }
   ],
   "source": [
    "np.unique(p_bad,axis=0,return_index=True)"
   ]
  },
  {
   "cell_type": "code",
   "execution_count": 13,
   "metadata": {},
   "outputs": [
    {
     "data": {
      "application/vnd.jupyter.widget-view+json": {
       "model_id": "58f286d13b1f4a9aaa3e726a957ef581",
       "version_major": 2,
       "version_minor": 0
      },
      "text/plain": [
       "Renderer(camera=PerspectiveCamera(children=(DirectionalLight(color='white', intensity=0.6, position=(0.0, 0.0,…"
      ]
     },
     "metadata": {},
     "output_type": "display_data"
    }
   ],
   "source": [
    "p_good, t_good, d_good = solver_good.get_sampled_solution(boundary_only=True)\n",
    "mp.plot(p_good, t_good, d_good[:,0], shading={'flat':True})"
   ]
  },
  {
   "cell_type": "code",
   "execution_count": 41,
   "metadata": {},
   "outputs": [],
   "source": [
    "?solver_bad.set_mesh"
   ]
  },
  {
   "cell_type": "code",
   "execution_count": 101,
   "metadata": {},
   "outputs": [
    {
     "data": {
      "text/plain": [
       "(310908, 1)"
      ]
     },
     "execution_count": 101,
     "metadata": {},
     "output_type": "execute_result"
    }
   ],
   "source": [
    "d_bad.shape"
   ]
  },
  {
   "cell_type": "code",
   "execution_count": 73,
   "metadata": {},
   "outputs": [
    {
     "data": {
      "text/plain": [
       "201796"
      ]
     },
     "execution_count": 73,
     "metadata": {},
     "output_type": "execute_result"
    }
   ],
   "source": [
    "tv_bad.shape[0] * 4"
   ]
  },
  {
   "cell_type": "code",
   "execution_count": null,
   "metadata": {},
   "outputs": [],
   "source": []
  }
 ],
 "metadata": {
  "kernelspec": {
   "display_name": "Python 3",
   "language": "python",
   "name": "python3"
  },
  "language_info": {
   "codemirror_mode": {
    "name": "ipython",
    "version": 3
   },
   "file_extension": ".py",
   "mimetype": "text/x-python",
   "name": "python",
   "nbconvert_exporter": "python",
   "pygments_lexer": "ipython3",
   "version": "3.7.3"
  }
 },
 "nbformat": 4,
 "nbformat_minor": 2
}

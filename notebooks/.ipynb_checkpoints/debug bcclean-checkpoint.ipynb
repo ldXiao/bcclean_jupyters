{
 "cells": [
  {
   "cell_type": "code",
   "execution_count": 1,
   "metadata": {},
   "outputs": [],
   "source": [
    "import igl\n",
    "import meshplot as mp\n",
    "import json\n",
    "import numpy as np\n",
    "from collections import OrderedDict"
   ]
  },
  {
   "cell_type": "code",
   "execution_count": 2,
   "metadata": {},
   "outputs": [
    {
     "data": {
      "application/vnd.jupyter.widget-view+json": {
       "model_id": "6b47a6f83ffc428c92337d0a376b3f11",
       "version_major": 2,
       "version_minor": 0
      },
      "text/plain": [
       "Renderer(camera=PerspectiveCamera(children=(DirectionalLight(color='white', intensity=0.6, position=(-0.000253…"
      ]
     },
     "metadata": {},
     "output_type": "display_data"
    }
   ],
   "source": [
    "v, f = igl.read_triangle_mesh(\"../data/6/00000058_666139e3bff64d4e8a6ce183_trimesh_007.obj\")\n",
    "fl = igl.read_dmat(\"../data/6/feat.dmat\")\n",
    "p = mp.plot(v, f, fl, return_plot=True, shading={\"wireframe\":False, \"width\":1000, \"height\":1000})\n"
   ]
  },
  {
   "cell_type": "code",
   "execution_count": 3,
   "metadata": {},
   "outputs": [
    {
     "data": {
      "application/vnd.jupyter.widget-view+json": {
       "model_id": "5a9591c5e1e44a78972b45c00dce6b2a",
       "version_major": 2,
       "version_minor": 0
      },
      "text/plain": [
       "Renderer(camera=PerspectiveCamera(children=(DirectionalLight(color='white', intensity=0.6, position=(0.0001883…"
      ]
     },
     "metadata": {},
     "output_type": "display_data"
    }
   ],
   "source": [
    "with open(\"../../bcClean/debug_paths2.json\") as jsfile:\n",
    "    paths = json.load(jsfile,object_pairs_hook=OrderedDict)\n",
    "v, f  = igl.read_triangle_mesh(\"../../bcClean/debug_mesh2.obj\")\n",
    "p = mp.plot(v, f, return_plot=True,shading={\"wireframe\":False,\"width\":1000,\"height\":1000})\n",
    "for key in paths:\n",
    "    path = paths[key]\n",
    "#     print(path)\n",
    "    pathedge = [[x,y] for x, y in zip (path[1:],path[:-1])]\n",
    "    p.add_edges(v,np.array(pathedge, dtype = 'int64'),shading={\"line_width\": 4.0,\"line_color\": \"red\"})\n"
   ]
  },
  {
   "cell_type": "code",
   "execution_count": 14,
   "metadata": {},
   "outputs": [
    {
     "data": {
      "application/vnd.jupyter.widget-view+json": {
       "model_id": "b046421844f1492e830baaa346521e80",
       "version_major": 2,
       "version_minor": 0
      },
      "text/plain": [
       "HBox(children=(Output(), Output()))"
      ]
     },
     "metadata": {},
     "output_type": "display_data"
    },
    {
     "data": {
      "application/vnd.jupyter.widget-view+json": {
       "model_id": "7250ca162ef843c08d4a9b9439d8e561",
       "version_major": 2,
       "version_minor": 0
      },
      "text/plain": [
       "HBox(children=(Output(), Output()))"
      ]
     },
     "metadata": {},
     "output_type": "display_data"
    }
   ],
   "source": [
    "with open(\"../../bcClean/debug_paths3.json\") as jsfile:\n",
    "    paths = json.load(jsfile,object_pairs_hook=OrderedDict)\n",
    "v, f  = igl.read_triangle_mesh(\"../../bcClean/debug_mesh3.obj\")\n",
    "p = mp.subplot(v, f, s= [2,2,0],shading={\"wireframe\":False})\n",
    "for key in paths:\n",
    "    path = paths[key]\n",
    "#     print(path)\n",
    "    pathedge = [[x,y] for x, y in zip (path[1:],path[:-1])]\n",
    "    p.rows[0][0].add_edges(v,np.array(pathedge, dtype = 'int64'),shading={\"line_width\": 4.0,\"line_color\": \"red\"})\n"
   ]
  },
  {
   "cell_type": "code",
   "execution_count": 15,
   "metadata": {},
   "outputs": [
    {
     "data": {
      "application/vnd.jupyter.widget-view+json": {
       "model_id": "4a4bf90513c84131865de36a1566426d",
       "version_major": 2,
       "version_minor": 0
      },
      "text/plain": [
       "HBox(children=(Output(), Output()))"
      ]
     },
     "metadata": {},
     "output_type": "display_data"
    },
    {
     "data": {
      "application/vnd.jupyter.widget-view+json": {
       "model_id": "bc4efe3dbc324d26bd1eddbc0befe7d9",
       "version_major": 2,
       "version_minor": 0
      },
      "text/plain": [
       "HBox(children=(Output(), Output()))"
      ]
     },
     "metadata": {},
     "output_type": "display_data"
    }
   ],
   "source": [
    "with open(\"../../bcClean/debug_paths1.json\") as jsfile:\n",
    "    paths = json.load(jsfile,object_pairs_hook=OrderedDict)\n",
    "v, f  = igl.read_triangle_mesh(\"../../bcClean/debug_mesh1.obj\")\n",
    "p = mp.subplot(v, f, s= [2,2,0],shading={\"wireframe\":False})\n",
    "for key in paths:\n",
    "    path = paths[key]\n",
    "#     print(path)\n",
    "    pathedge = [[x,y] for x, y in zip (path[1:],path[:-1])]\n",
    "    p.rows[0][0].add_edges(v,np.array(pathedge, dtype = 'int64'),shading={\"line_width\": 4.0,\"line_color\": \"red\"})\n"
   ]
  },
  {
   "cell_type": "code",
   "execution_count": 22,
   "metadata": {},
   "outputs": [
    {
     "data": {
      "application/vnd.jupyter.widget-view+json": {
       "model_id": "1ba75f93f6884ebe8950f9bad6f9c468",
       "version_major": 2,
       "version_minor": 0
      },
      "text/plain": [
       "Renderer(camera=PerspectiveCamera(children=(DirectionalLight(color='white', intensity=0.6, position=(0.0001883…"
      ]
     },
     "metadata": {},
     "output_type": "display_data"
    }
   ],
   "source": [
    "with open(\"../../bcClean/debug_paths.json\") as jsfile:\n",
    "    paths = json.load(jsfile,object_pairs_hook=OrderedDict)\n",
    "v, f  = igl.read_triangle_mesh(\"../../bcClean/debug_mesh.obj\")\n",
    "fl = igl.read_dmat(\"../../bcClean/FL_final.dmat\")\n",
    "p = mp.plot(v, f, return_plot=True,shading={\"wireframe\":False,\"width\":1000,\"height\":1000})\n",
    "for key in paths:\n",
    "    path = paths[key]\n",
    "#     print(path)\n",
    "    pathedge = [[x,y] for x, y in zip (path[1:],path[:-1])]\n",
    "    p.add_edges(v,np.array(pathedge, dtype = 'int64'),shading={\"line_width\": 4.0,\"line_color\": \"red\"})"
   ]
  },
  {
   "cell_type": "code",
   "execution_count": 7,
   "metadata": {},
   "outputs": [],
   "source": [
    "def square(n):\n",
    "    for i in range(n):\n",
    "        yield i * i"
   ]
  },
  {
   "cell_type": "code",
   "execution_count": 8,
   "metadata": {},
   "outputs": [],
   "source": [
    "a = square(10)"
   ]
  },
  {
   "cell_type": "code",
   "execution_count": 9,
   "metadata": {},
   "outputs": [
    {
     "name": "stdout",
     "output_type": "stream",
     "text": [
      "0\n",
      "1\n",
      "4\n",
      "9\n",
      "16\n",
      "25\n",
      "36\n",
      "49\n",
      "64\n",
      "81\n"
     ]
    }
   ],
   "source": [
    "for x in a:\n",
    "    print(x)"
   ]
  },
  {
   "cell_type": "code",
   "execution_count": 10,
   "metadata": {},
   "outputs": [
    {
     "data": {
      "text/plain": [
       "<generator object square at 0x111db1570>"
      ]
     },
     "execution_count": 10,
     "metadata": {},
     "output_type": "execute_result"
    }
   ],
   "source": [
    "a"
   ]
  },
  {
   "cell_type": "code",
   "execution_count": 12,
   "metadata": {},
   "outputs": [],
   "source": [
    "b = [1,2,3]\n",
    "b[0]=2"
   ]
  },
  {
   "cell_type": "code",
   "execution_count": 15,
   "metadata": {},
   "outputs": [],
   "source": [
    "b =[1, 1.5, 3,\"a\"]"
   ]
  },
  {
   "cell_type": "code",
   "execution_count": null,
   "metadata": {},
   "outputs": [],
   "source": []
  }
 ],
 "metadata": {
  "kernelspec": {
   "display_name": "Python 3",
   "language": "python",
   "name": "python3"
  },
  "language_info": {
   "codemirror_mode": {
    "name": "ipython",
    "version": 3
   },
   "file_extension": ".py",
   "mimetype": "text/x-python",
   "name": "python",
   "nbconvert_exporter": "python",
   "pygments_lexer": "ipython3",
   "version": "3.7.3"
  }
 },
 "nbformat": 4,
 "nbformat_minor": 2
}

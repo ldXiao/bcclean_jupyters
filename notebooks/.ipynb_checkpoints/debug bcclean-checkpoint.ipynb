{
 "cells": [
  {
   "cell_type": "code",
   "execution_count": 28,
   "metadata": {},
   "outputs": [],
   "source": [
    "import igl\n",
    "import meshplot as mp\n",
    "import wildmeshing as wm\n",
    "import json\n",
    "import numpy as np\n",
    "from collections import OrderedDict\n",
    "import os\n",
    "import time\n",
    "import sys\n",
    "module_path = os.path.abspath(os.path.join('..'))\n",
    "if module_path not in sys.path:\n",
    "    sys.path.append(module_path)\n",
    "import pbc_utilities as pbcut\n",
    "import matplotlib.pyplot as plt"
   ]
  },
  {
   "cell_type": "code",
   "execution_count": 21,
   "metadata": {},
   "outputs": [
    {
     "data": {
      "image/png": "[encoded data removed]",
      "text/plain": [
       "<Figure size 432x288 with 1 Axes>"
      ]
     },
     "metadata": {
      "needs_background": "light"
     },
     "output_type": "display_data"
    }
   ],
   "source": [
    "plt.plot([100,50,20,7],[13.4/100,0.08,3.53/100,2.63/100],'-x', label=\"Spanning Tree \")\n",
    "plt.plot([100,50,20,7],[5.4/100,0.043,3.13/100,2.13/100],'-o',label=\"Cellular\")\n",
    "plt.legend()\n",
    "plt.xlabel(\"stop_energy\")\n",
    "plt.ylabel(\"rel_err, hausdorff/total_length\")\n",
    "plt.show()"
   ]
  },
  {
   "cell_type": "code",
   "execution_count": 24,
   "metadata": {},
   "outputs": [
    {
     "ename": "TypeError",
     "evalue": "tetrahedralize(): incompatible function arguments. The following argument types are supported:\n    1. (input: str, output: str = '', stop_quality: float = 10, max_its: int = 80, stage: int = 2, stop_p: int = -1, epsilon: float = 0.001, edge_length_r: float = 0.05, mute_log: bool = False, skip_simplify: bool = False) -> None\n\nInvoked with: '../data/8/00000065_767e4372b5f94a88a7a17d90_trimesh_006.obj', '../data/8/good1.mesh'; kwargs: stop_quality=7, edge_length_r=0.001, manifold_surface=True",
     "output_type": "error",
     "traceback": [
      "\u001b[0;31m---------------------------------------------------------------------------\u001b[0m",
      "\u001b[0;31mTypeError\u001b[0m                                 Traceback (most recent call last)",
      "\u001b[0;32m<ipython-input-24-8f9d08b0bf52>\u001b[0m in \u001b[0;36m<module>\u001b[0;34m\u001b[0m\n\u001b[1;32m      2\u001b[0m     \u001b[0mparent_dir\u001b[0m \u001b[0;34m=\u001b[0m \u001b[0;34m\"../data/\"\u001b[0m\u001b[0;34m+\u001b[0m\u001b[0mstr\u001b[0m\u001b[0;34m(\u001b[0m\u001b[0mj\u001b[0m\u001b[0;34m)\u001b[0m\u001b[0;34m+\u001b[0m\u001b[0;34m\"/\"\u001b[0m\u001b[0;34m\u001b[0m\u001b[0;34m\u001b[0m\u001b[0m\n\u001b[1;32m      3\u001b[0m     \u001b[0mbad_obj_file\u001b[0m \u001b[0;34m=\u001b[0m \u001b[0mpbcut\u001b[0m\u001b[0;34m.\u001b[0m\u001b[0mget_bad_mesh\u001b[0m\u001b[0;34m(\u001b[0m\u001b[0mparent_dir\u001b[0m\u001b[0;34m)\u001b[0m\u001b[0;34m\u001b[0m\u001b[0;34m\u001b[0m\u001b[0m\n\u001b[0;32m----> 4\u001b[0;31m     \u001b[0mwm\u001b[0m\u001b[0;34m.\u001b[0m\u001b[0mtetrahedralize\u001b[0m\u001b[0;34m(\u001b[0m\u001b[0mbad_obj_file\u001b[0m\u001b[0;34m,\u001b[0m \u001b[0mparent_dir\u001b[0m \u001b[0;34m+\u001b[0m\u001b[0;34m\"good1.mesh\"\u001b[0m\u001b[0;34m,\u001b[0m \u001b[0mstop_quality\u001b[0m\u001b[0;34m=\u001b[0m\u001b[0;36m7\u001b[0m\u001b[0;34m,\u001b[0m\u001b[0medge_length_r\u001b[0m \u001b[0;34m=\u001b[0m \u001b[0;36m0.001\u001b[0m\u001b[0;34m,\u001b[0m \u001b[0mmanifold_surface\u001b[0m\u001b[0;34m=\u001b[0m \u001b[0;32mTrue\u001b[0m\u001b[0;34m)\u001b[0m\u001b[0;34m\u001b[0m\u001b[0;34m\u001b[0m\u001b[0m\n\u001b[0m\u001b[1;32m      5\u001b[0m \u001b[0;34m\u001b[0m\u001b[0m\n",
      "\u001b[0;31mTypeError\u001b[0m: tetrahedralize(): incompatible function arguments. The following argument types are supported:\n    1. (input: str, output: str = '', stop_quality: float = 10, max_its: int = 80, stage: int = 2, stop_p: int = -1, epsilon: float = 0.001, edge_length_r: float = 0.05, mute_log: bool = False, skip_simplify: bool = False) -> None\n\nInvoked with: '../data/8/00000065_767e4372b5f94a88a7a17d90_trimesh_006.obj', '../data/8/good1.mesh'; kwargs: stop_quality=7, edge_length_r=0.001, manifold_surface=True"
     ]
    }
   ],
   "source": [
    "for j in range(8,9):\n",
    "    parent_dir = \"../data/\"+str(j)+\"/\"\n",
    "    bad_obj_file = pbcut.get_bad_mesh(parent_dir)\n",
    "    wm.tetrahedralize(bad_obj_file, parent_dir +\"good1.mesh\", stop_quality=7,edge_length_r = 0.001, manifold_surface= True)\n",
    "\n"
   ]
  },
  {
   "cell_type": "code",
   "execution_count": 5,
   "metadata": {},
   "outputs": [],
   "source": [
    "?time.perf_counter"
   ]
  },
  {
   "cell_type": "code",
   "execution_count": 9,
   "metadata": {},
   "outputs": [
    {
     "name": "stdout",
     "output_type": "stream",
     "text": [
      "0.06432580947875977\n"
     ]
    }
   ],
   "source": [
    "\n",
    "v,f = igl.read_triangle_mesh(\"../data/9/00000645_761a451dfea94bfa93e23cfe_trimesh_001.obj\")\n",
    "tic=time.time()\n",
    "TT, TTi=igl.triangle_triangle_adjacency(f)\n",
    "tac = time.time()\n",
    "print(tac-tic)"
   ]
  },
  {
   "cell_type": "code",
   "execution_count": 33,
   "metadata": {},
   "outputs": [
    {
     "data": {
      "application/vnd.jupyter.widget-view+json": {
       "model_id": "9a00db3a351e4550b973c65475d7c89c",
       "version_major": 2,
       "version_minor": 0
      },
      "text/plain": [
       "Renderer(camera=PerspectiveCamera(children=(DirectionalLight(color='white', intensity=0.6, position=(0.0, -3.7…"
      ]
     },
     "metadata": {},
     "output_type": "display_data"
    },
    {
     "data": {
      "text/plain": [
       "True"
      ]
     },
     "execution_count": 33,
     "metadata": {},
     "output_type": "execute_result"
    }
   ],
   "source": [
    "f=igl.boundary_facets(T)\n",
    "mp.plot(V,f)\n",
    "igl.write_obj(\"../surfac.obj\", V,f)\n",
    "igl.remove_unreferenced"
   ]
  },
  {
   "cell_type": "code",
   "execution_count": 27,
   "metadata": {},
   "outputs": [
    {
     "ename": "AttributeError",
     "evalue": "module 'wildmeshing' has no attribute 'Tetrahedralizer'",
     "output_type": "error",
     "traceback": [
      "\u001b[0;31m---------------------------------------------------------------------------\u001b[0m",
      "\u001b[0;31mAttributeError\u001b[0m                            Traceback (most recent call last)",
      "\u001b[0;32m<ipython-input-27-6254134ab109>\u001b[0m in \u001b[0;36m<module>\u001b[0;34m\u001b[0m\n\u001b[0;32m----> 1\u001b[0;31m \u001b[0mtetra\u001b[0m \u001b[0;34m=\u001b[0m \u001b[0mwm\u001b[0m\u001b[0;34m.\u001b[0m\u001b[0mTetrahedralizer\u001b[0m\u001b[0;34m(\u001b[0m\u001b[0mstop_quality\u001b[0m\u001b[0;34m=\u001b[0m\u001b[0;36m100\u001b[0m\u001b[0;34m)\u001b[0m\u001b[0;34m\u001b[0m\u001b[0;34m\u001b[0m\u001b[0m\n\u001b[0m\u001b[1;32m      2\u001b[0m \u001b[0mparent_dir\u001b[0m \u001b[0;34m=\u001b[0m \u001b[0;34m\"../data/\"\u001b[0m\u001b[0;34m+\u001b[0m\u001b[0mstr\u001b[0m\u001b[0;34m(\u001b[0m\u001b[0;36m8\u001b[0m\u001b[0;34m)\u001b[0m\u001b[0;34m+\u001b[0m\u001b[0;34m\"/\"\u001b[0m\u001b[0;34m\u001b[0m\u001b[0;34m\u001b[0m\u001b[0m\n\u001b[1;32m      3\u001b[0m \u001b[0mbad_obj_file\u001b[0m \u001b[0;34m=\u001b[0m \u001b[0mpbcut\u001b[0m\u001b[0;34m.\u001b[0m\u001b[0mget_bad_mesh\u001b[0m\u001b[0;34m(\u001b[0m\u001b[0mparent_dir\u001b[0m\u001b[0;34m)\u001b[0m\u001b[0;34m\u001b[0m\u001b[0;34m\u001b[0m\u001b[0m\n\u001b[1;32m      4\u001b[0m \u001b[0mtetra\u001b[0m\u001b[0;34m.\u001b[0m\u001b[0mload_mesh\u001b[0m\u001b[0;34m(\u001b[0m\u001b[0mbad_obj_file\u001b[0m\u001b[0;34m)\u001b[0m\u001b[0;34m\u001b[0m\u001b[0;34m\u001b[0m\u001b[0m\n\u001b[1;32m      5\u001b[0m \u001b[0mtetra\u001b[0m\u001b[0;34m.\u001b[0m\u001b[0mtetrahedralize\u001b[0m\u001b[0;34m(\u001b[0m\u001b[0;34m)\u001b[0m\u001b[0;34m\u001b[0m\u001b[0;34m\u001b[0m\u001b[0m\n",
      "\u001b[0;31mAttributeError\u001b[0m: module 'wildmeshing' has no attribute 'Tetrahedralizer'"
     ]
    }
   ],
   "source": [
    "tetra = wm.Tetrahedralizer(stop_quality=100)\n",
    "parent_dir = \"../data/\"+str(8)+\"/\"\n",
    "bad_obj_file = pbcut.get_bad_mesh(parent_dir)\n",
    "tetra.load_mesh(bad_obj_file)\n",
    "tetra.tetrahedralize()\n",
    "V, T = tetra.get_tet_mesh()\n",
    "\n"
   ]
  },
  {
   "cell_type": "code",
   "execution_count": 5,
   "metadata": {},
   "outputs": [
    {
     "data": {
      "application/vnd.jupyter.widget-view+json": {
       "model_id": "a33a8fc560a24a3a8e83813dec0886bd",
       "version_major": 2,
       "version_minor": 0
      },
      "text/plain": [
       "Renderer(camera=PerspectiveCamera(children=(DirectionalLight(color='white', intensity=0.6, position=(0.0, -3.7…"
      ]
     },
     "metadata": {},
     "output_type": "display_data"
    }
   ],
   "source": [
    "mp.plot(V,T)"
   ]
  },
  {
   "cell_type": "code",
   "execution_count": null,
   "metadata": {},
   "outputs": [],
   "source": [
    "v, f, _ = igl.read_mesh(\"../data/8/good1.mesh\")\n",
    "# fl = igl.read_dmat(\"../data/9/feat.dmat\")\n",
    "p = mp.plot(v, f, return_plot=True, shading={\"wireframe\":True, \"width\":1000, \"height\":1000})\n"
   ]
  },
  {
   "cell_type": "code",
   "execution_count": 16,
   "metadata": {},
   "outputs": [
    {
     "data": {
      "application/vnd.jupyter.widget-view+json": {
       "model_id": "10cf42af2c394fb39a72a16235affdee",
       "version_major": 2,
       "version_minor": 0
      },
      "text/plain": [
       "Renderer(camera=PerspectiveCamera(children=(DirectionalLight(color='white', intensity=0.6, position=(-0.000253…"
      ]
     },
     "metadata": {},
     "output_type": "display_data"
    }
   ],
   "source": [
    "with open(\"../../bcClean/debug_mst.json\") as jsfile:\n",
    "    edgs = json.load(jsfile,object_pairs_hook=OrderedDict)\n",
    "v, f = igl.read_triangle_mesh(\"../data/6/00000058_666139e3bff64d4e8a6ce183_trimesh_007.obj\")\n",
    "p = mp.plot(v, f, return_plot=True,shading={\"wireframe\":False,\"width\":1000,\"height\":1000})\n",
    "for key in edgs:\n",
    "    edg = edgs[key]\n",
    "    pathedge = [[x,y] for x, y in zip(edg[1:], edg[:-1])]\n",
    "    p.add_edges(v,np.array(pathedge, dtype = 'int64'),shading={\"line_width\": 4.0,\"line_color\": \"red\"})"
   ]
  },
  {
   "cell_type": "code",
   "execution_count": 6,
   "metadata": {},
   "outputs": [
    {
     "data": {
      "application/vnd.jupyter.widget-view+json": {
       "model_id": "efe2221d77844639939004633fb863ca",
       "version_major": 2,
       "version_minor": 0
      },
      "text/plain": [
       "Renderer(camera=PerspectiveCamera(children=(DirectionalLight(color='white', intensity=0.6, position=(0.0001883…"
      ]
     },
     "metadata": {},
     "output_type": "display_data"
    }
   ],
   "source": [
    "with open(\"../../bcClean/debug_paths2.json\") as jsfile:\n",
    "    paths = json.load(jsfile,object_pairs_hook=OrderedDict)\n",
    "v, f  = igl.read_triangle_mesh(\"../../bcClean/debug_mesh2.obj\")\n",
    "p = mp.plot(v, f, return_plot=True,shading={\"wireframe\":False,\"width\":1000,\"height\":1000})\n",
    "for key in paths:\n",
    "    path = paths[key]\n",
    "#     print(path)\n",
    "    pathedge = [[x,y] for x, y in zip (path[1:],path[:-1])]\n",
    "    p.add_edges(v,np.array(pathedge, dtype = 'int64'),shading={\"line_width\": 4.0,\"line_color\": \"red\"})\n"
   ]
  },
  {
   "cell_type": "code",
   "execution_count": 7,
   "metadata": {},
   "outputs": [
    {
     "data": {
      "application/vnd.jupyter.widget-view+json": {
       "model_id": "51608301eb36409daccef29a12309773",
       "version_major": 2,
       "version_minor": 0
      },
      "text/plain": [
       "HBox(children=(Output(), Output()))"
      ]
     },
     "metadata": {},
     "output_type": "display_data"
    },
    {
     "data": {
      "application/vnd.jupyter.widget-view+json": {
       "model_id": "76f1263392b948d9b74ad48877faa7be",
       "version_major": 2,
       "version_minor": 0
      },
      "text/plain": [
       "HBox(children=(Output(), Output()))"
      ]
     },
     "metadata": {},
     "output_type": "display_data"
    }
   ],
   "source": [
    "with open(\"../../bcClean/debug_paths3.json\") as jsfile:\n",
    "    paths = json.load(jsfile,object_pairs_hook=OrderedDict)\n",
    "v, f  = igl.read_triangle_mesh(\"../../bcClean/debug_mesh3.obj\")\n",
    "p = mp.subplot(v, f, s= [2,2,0],shading={\"wireframe\":False})\n",
    "for key in paths:\n",
    "    path = paths[key]\n",
    "#     print(path)\n",
    "    pathedge = [[x,y] for x, y in zip (path[1:],path[:-1])]\n",
    "    p.rows[0][0].add_edges(v,np.array(pathedge, dtype = 'int64'),shading={\"line_width\": 4.0,\"line_color\": \"red\"})\n"
   ]
  },
  {
   "cell_type": "code",
   "execution_count": 8,
   "metadata": {},
   "outputs": [
    {
     "data": {
      "application/vnd.jupyter.widget-view+json": {
       "model_id": "07409d7db6134d6daeddb953b5299b0c",
       "version_major": 2,
       "version_minor": 0
      },
      "text/plain": [
       "HBox(children=(Output(), Output()))"
      ]
     },
     "metadata": {},
     "output_type": "display_data"
    },
    {
     "data": {
      "application/vnd.jupyter.widget-view+json": {
       "model_id": "c1eb104168ef44efaba8fd087ec8706f",
       "version_major": 2,
       "version_minor": 0
      },
      "text/plain": [
       "HBox(children=(Output(), Output()))"
      ]
     },
     "metadata": {},
     "output_type": "display_data"
    }
   ],
   "source": [
    "with open(\"../../bcClean/debug_paths1.json\") as jsfile:\n",
    "    paths = json.load(jsfile,object_pairs_hook=OrderedDict)\n",
    "v, f  = igl.read_triangle_mesh(\"../../bcClean/debug_mesh1.obj\")\n",
    "p = mp.subplot(v, f, s= [2,2,0],shading={\"wireframe\":False})\n",
    "for key in paths:\n",
    "    path = paths[key]\n",
    "#     print(path)\n",
    "    pathedge = [[x,y] for x, y in zip (path[1:],path[:-1])]\n",
    "    p.rows[0][0].add_edges(v,np.array(pathedge, dtype = 'int64'),shading={\"line_width\": 4.0,\"line_color\": \"red\"})\n"
   ]
  },
  {
   "cell_type": "code",
   "execution_count": 125,
   "metadata": {},
   "outputs": [
    {
     "name": "stdout",
     "output_type": "stream",
     "text": [
      "0.0\n"
     ]
    },
    {
     "data": {
      "application/vnd.jupyter.widget-view+json": {
       "model_id": "9db796b80c534ac9ac766b72e52574da",
       "version_major": 2,
       "version_minor": 0
      },
      "text/plain": [
       "Renderer(camera=PerspectiveCamera(children=(DirectionalLight(color='white', intensity=0.6, position=(0.0001883…"
      ]
     },
     "metadata": {},
     "output_type": "display_data"
    },
    {
     "name": "stdout",
     "output_type": "stream",
     "text": [
      "49.0 0.0\n"
     ]
    }
   ],
   "source": [
    "with open(\"../../bcClean/debug_paths4.json\") as jsfile:\n",
    "    paths = json.load(jsfile,object_pairs_hook=OrderedDict)\n",
    "v, f  = igl.read_triangle_mesh(\"../../bcClean/debug_mesh4.obj\")\n",
    "fl = igl.read_dmat(\"../../bcClean/FL_final4.dmat\")\n",
    "fln = np.where(fl==-1 , 0, fl)\n",
    "print(np.linalg.norm(fln - fl))\n",
    "p = mp.plot(v, f,fln, return_plot=True,shading={\"wireframe\":False,\"width\":1000,\"height\":1000})\n",
    "print(fl.max(), fl.min())\n",
    "\n",
    "for key in paths:\n",
    "    path = paths[key]\n",
    "#     print(path)\n",
    "    pathedge = [[x,y] for x, y in zip (path[1:],path[:-1])]\n",
    "    p.add_edges(v,np.array(pathedge, dtype = 'int64'),shading={\"line_width\": 4.0,\"line_color\": \"red\"})"
   ]
  },
  {
   "cell_type": "code",
   "execution_count": 212,
   "metadata": {
    "scrolled": false
   },
   "outputs": [
    {
     "name": "stdout",
     "output_type": "stream",
     "text": [
      "[-11.88105287   8.41813708   6.        ] [-9.606003 14.13866   6.      ]\n",
      "72.0 0.0\n"
     ]
    },
    {
     "data": {
      "application/vnd.jupyter.widget-view+json": {
       "model_id": "98b5db1226174b468f1e94f8dedb4ef0",
       "version_major": 2,
       "version_minor": 0
      },
      "text/plain": [
       "Renderer(camera=PerspectiveCamera(children=(DirectionalLight(color='white', intensity=0.6, position=(0.0, -3.7…"
      ]
     },
     "metadata": {},
     "output_type": "display_data"
    },
    {
     "name": "stdout",
     "output_type": "stream",
     "text": [
      "72.0 0.0\n"
     ]
    }
   ],
   "source": [
    "with open(\"../../bcClean/debug_paths.json\") as jsfile:\n",
    "    paths = json.load(jsfile,object_pairs_hook=OrderedDict)\n",
    "v, f  = igl.read_triangle_mesh(\"../../bcClean/debug_mesh.obj\")\n",
    "fl = igl.read_dmat(\"../../bcClean/FL_final.dmat\")\n",
    "source_target = igl.read_dmat(\"../../bcClean/source_target.dmat\")\n",
    "source = source_target[0:3]\n",
    "target = source_target[3:]\n",
    "print(target, source)\n",
    "vv = np.array([source,target])\n",
    "fln = np.where(fl==-1 , 0, fl)\n",
    "print(fl.max(),fl.min())\n",
    "p = mp.plot(v, f,fl, return_plot=True,shading={\"wireframe\":True,\"width\":1000,\"height\":1000})\n",
    "print(fl.max(), fl.min())\n",
    "p.add_points(vv, shading={\"point_color\": \"blue\", \"point_size\": 1})\n",
    "# p.add_points(np.array(v[[11011,13569,13570,13571,13572,13601,13600,\n",
    "#                          13599,13607,11018,3237,8975,829,8977,2583,4941,13593,\n",
    "#                          13592,13594,13598,13595,13596,13625,13597,13619,13620,\n",
    "#                         13621,13627,13609,13610,13626,13608,13602,13605,13606\n",
    "#                         ]]),shading={\"point_color\": \"green\", \"point_size\": 1})\n",
    "\n",
    "for key in paths:\n",
    "    path = paths[key]\n",
    "#     print(path)\n",
    "    pathedge = [[x,y] for x, y in zip (path[1:],path[:-1])]\n",
    "    p.add_edges(v,np.array(pathedge, dtype = 'int64'),shading={\"line_width\": 4.0,\"line_color\": \"red\"})\n",
    "\n"
   ]
  },
  {
   "cell_type": "code",
   "execution_count": 144,
   "metadata": {},
   "outputs": [
    {
     "ename": "NameError",
     "evalue": "name 'square' is not defined",
     "output_type": "error",
     "traceback": [
      "\u001b[0;31m---------------------------------------------------------------------------\u001b[0m",
      "\u001b[0;31mNameError\u001b[0m                                 Traceback (most recent call last)",
      "\u001b[0;32m<ipython-input-144-6f0429ad701a>\u001b[0m in \u001b[0;36m<module>\u001b[0;34m\u001b[0m\n\u001b[0;32m----> 1\u001b[0;31m \u001b[0ma\u001b[0m \u001b[0;34m=\u001b[0m \u001b[0msquare\u001b[0m\u001b[0;34m(\u001b[0m\u001b[0;36m10\u001b[0m\u001b[0;34m)\u001b[0m\u001b[0;34m\u001b[0m\u001b[0;34m\u001b[0m\u001b[0m\n\u001b[0m",
      "\u001b[0;31mNameError\u001b[0m: name 'square' is not defined"
     ]
    }
   ],
   "source": [
    "a = square(10)"
   ]
  },
  {
   "cell_type": "code",
   "execution_count": 9,
   "metadata": {},
   "outputs": [
    {
     "name": "stdout",
     "output_type": "stream",
     "text": [
      "0\n",
      "1\n",
      "4\n",
      "9\n",
      "16\n",
      "25\n",
      "36\n",
      "49\n",
      "64\n",
      "81\n"
     ]
    }
   ],
   "source": [
    "for x in a:\n",
    "    print(x)"
   ]
  },
  {
   "cell_type": "code",
   "execution_count": 10,
   "metadata": {},
   "outputs": [
    {
     "data": {
      "text/plain": [
       "<generator object square at 0x111db1570>"
      ]
     },
     "execution_count": 10,
     "metadata": {},
     "output_type": "execute_result"
    }
   ],
   "source": [
    "a"
   ]
  },
  {
   "cell_type": "code",
   "execution_count": 12,
   "metadata": {},
   "outputs": [],
   "source": [
    "b = [1,2,3]\n",
    "b[0]=2"
   ]
  },
  {
   "cell_type": "code",
   "execution_count": 15,
   "metadata": {},
   "outputs": [],
   "source": [
    "b =[1, 1.5, 3,\"a\"]"
   ]
  },
  {
   "cell_type": "code",
   "execution_count": null,
   "metadata": {},
   "outputs": [],
   "source": []
  }
 ],
 "metadata": {
  "kernelspec": {
   "display_name": "Python 3",
   "language": "python",
   "name": "python3"
  },
  "language_info": {
   "codemirror_mode": {
    "name": "ipython",
    "version": 3
   },
   "file_extension": ".py",
   "mimetype": "text/x-python",
   "name": "python",
   "nbconvert_exporter": "python",
   "pygments_lexer": "ipython3",
   "version": "3.7.3"
  }
 },
 "nbformat": 4,
 "nbformat_minor": 2
}

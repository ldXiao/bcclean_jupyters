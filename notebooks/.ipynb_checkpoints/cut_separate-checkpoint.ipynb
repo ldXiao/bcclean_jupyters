{
 "cells": [
  {
   "cell_type": "code",
   "execution_count": 1,
   "metadata": {},
   "outputs": [],
   "source": [
    "import igl\n",
    "import pybcclean as pbc\n",
    "import polyfempy as pf\n",
    "import wildmeshing as wm\n",
    "import meshplot as mp\n",
    "import os\n",
    "import numpy as np\n",
    "from scipy.spatial import KDTree\n",
    "import yaml\n",
    "def separate_surfaces(v, f, fl):\n",
    "    \"\"\"\n",
    "    :param v vertices\n",
    "    :param f faces\n",
    "    :param fl face labels\n",
    "    perturb the surfaces according to the face labels\n",
    "    :return v_dict, f_dict\n",
    "    \"\"\"\n",
    "    v_dict = {}\n",
    "    f_dict_temp = {}\n",
    "    f_dict = {}\n",
    "    count_dict = {}\n",
    "    for fidx, lb in enumerate(fl):\n",
    "        if lb not in f_dict_temp:\n",
    "            f_dict_temp[lb] = np.zeros_like(f)\n",
    "            f_dict_temp[lb][0,:]=f[fidx,:].copy()\n",
    "            count_dict[lb] = 1\n",
    "        else:\n",
    "            f_dict_temp[lb][count_dict[lb],:]=f[fidx,:].copy()\n",
    "            count_dict[lb] += 1\n",
    "    for lb in f_dict_temp:\n",
    "        f_dict_temp[lb] = f_dict_temp[lb][0:count_dict[lb],:]\n",
    "        v_dict[lb], f_dict[lb], _, _= igl.remove_unreferenced(v,f_dict_temp[lb])\n",
    "    return v_dict, f_dict\n",
    "\n",
    "def perturb_and_union(v_dict, f_dict, eps):\n",
    "    \"\"\"\n",
    "    :eps float to control the perturbation\n",
    "    return new_v, new_f, new_fl\n",
    "    \"\"\"\n",
    "    nv = 0 \n",
    "    nf = 0\n",
    "    for lb in f_dict:\n",
    "        nv += len(v_dict[lb])\n",
    "        nf += len(f_dict[lb])\n",
    "    new_v = np.zeros((nv,3),dtype=float)\n",
    "    new_f = np.zeros((nf,3), dtype=int)\n",
    "    new_fl = np.zeros((nf,1), dtype=int)\n",
    "    count_v = 0\n",
    "    count_f =0\n",
    "    for lb in f_dict:\n",
    "        f_temp = f_dict[lb].copy()\n",
    "        v_temp = v_dict[lb].copy()\n",
    "        new_v[count_v:count_v+len(v_temp)]= v_temp + np.ones_like(v_temp) * np.random.uniform(-eps, eps)\n",
    "        f_temp += np.ones_like(f_temp) * count_v\n",
    "        count_v += len(v_temp)\n",
    "        new_f[count_f:count_f+len(f_temp)]=f_temp\n",
    "        new_fl[count_f:count_f+len(f_temp)]= np.ones((len(f_temp),1), dtype=int) *lb\n",
    "        count_f += len(f_temp)\n",
    "    return new_v, new_f, new_fl"
   ]
  },
  {
   "cell_type": "code",
   "execution_count": null,
   "metadata": {},
   "outputs": [],
   "source": [
    "parent_dir = \"../data/2\"\n",
    "bad_obj_file = pbcut.get_bad_mesh(parent_dir)\n",
    "dmat_file = parent_dir+\"/feat.dmat\"\n",
    "v_bad, f_bad=igl.read_triangle_mesh(bad_obj_file)\n",
    "fl_bad  = igl.read_dmat(dmat_file)"
   ]
  }
 ],
 "metadata": {
  "kernelspec": {
   "display_name": "Python 3",
   "language": "python",
   "name": "python3"
  },
  "language_info": {
   "codemirror_mode": {
    "name": "ipython",
    "version": 3
   },
   "file_extension": ".py",
   "mimetype": "text/x-python",
   "name": "python",
   "nbconvert_exporter": "python",
   "pygments_lexer": "ipython3",
   "version": "3.7.3"
  }
 },
 "nbformat": 4,
 "nbformat_minor": 2
}

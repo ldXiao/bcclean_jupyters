{
 "cells": [
  {
   "cell_type": "code",
   "execution_count": 6,
   "metadata": {},
   "outputs": [],
   "source": [
    "import pybcclean as pbc\n",
    "import igl\n",
    "import numpy as np\n",
    "import shutil as shut\n",
    "import wildmeshing as wm\n",
    "import polyfempy as pf\n",
    "from scipy.spatial import cKDTree as KDTree\n",
    "import meshplot as mp\n",
    "import os\n",
    "import time\n",
    "import sys\n",
    "module_path = os.path.abspath(os.path.join('..'))\n",
    "if module_path not in sys.path:\n",
    "    sys.path.append(module_path)\n",
    "import pbc_utilities as pbcut"
   ]
  },
  {
   "cell_type": "code",
   "execution_count": 12,
   "metadata": {},
   "outputs": [
    {
     "ename": "NotADirectoryError",
     "evalue": "[Errno 20] Not a directory: '../../bcClean_back/data/ABC/obj/abc_0000_obj_v00/.DS_Store'",
     "output_type": "error",
     "traceback": [
      "\u001b[0;31m---------------------------------------------------------------------------\u001b[0m",
      "\u001b[0;31mNotADirectoryError\u001b[0m                        Traceback (most recent call last)",
      "\u001b[0;32m<ipython-input-12-8e6b9d164814>\u001b[0m in \u001b[0;36m<module>\u001b[0;34m\u001b[0m\n\u001b[1;32m      5\u001b[0m     \u001b[0mobj_parent_dir\u001b[0m \u001b[0;34m=\u001b[0m \u001b[0mobj_root\u001b[0m \u001b[0;34m+\u001b[0m \u001b[0mparent_suffix\u001b[0m\u001b[0;34m\u001b[0m\u001b[0;34m\u001b[0m\u001b[0m\n\u001b[1;32m      6\u001b[0m \u001b[0;31m#     print(obj_parent_dir)\u001b[0m\u001b[0;34m\u001b[0m\u001b[0;34m\u001b[0m\u001b[0;34m\u001b[0m\u001b[0m\n\u001b[0;32m----> 7\u001b[0;31m     \u001b[0mobj_file\u001b[0m \u001b[0;34m=\u001b[0m \u001b[0mpbcut\u001b[0m\u001b[0;34m.\u001b[0m\u001b[0mget_bad_mesh\u001b[0m\u001b[0;34m(\u001b[0m\u001b[0mobj_parent_dir\u001b[0m\u001b[0;34m)\u001b[0m\u001b[0;34m\u001b[0m\u001b[0;34m\u001b[0m\u001b[0m\n\u001b[0m\u001b[1;32m      8\u001b[0m \u001b[0;31m#     print(obj_file)\u001b[0m\u001b[0;34m\u001b[0m\u001b[0;34m\u001b[0m\u001b[0;34m\u001b[0m\u001b[0m\n\u001b[1;32m      9\u001b[0m     \u001b[0mabc_dict\u001b[0m\u001b[0;34m[\u001b[0m\u001b[0mcount\u001b[0m\u001b[0;34m]\u001b[0m\u001b[0;34m=\u001b[0m\u001b[0;34m{\u001b[0m\u001b[0;34m}\u001b[0m\u001b[0;34m\u001b[0m\u001b[0;34m\u001b[0m\u001b[0m\n",
      "\u001b[0;32m~/gits/bcclean_jupyters/pbc_utilities/plot_failure.py\u001b[0m in \u001b[0;36mget_bad_mesh\u001b[0;34m(parent_dir)\u001b[0m\n\u001b[1;32m     80\u001b[0m \u001b[0;34m\u001b[0m\u001b[0m\n\u001b[1;32m     81\u001b[0m \u001b[0;32mdef\u001b[0m \u001b[0mget_bad_mesh\u001b[0m\u001b[0;34m(\u001b[0m\u001b[0mparent_dir\u001b[0m\u001b[0;34m)\u001b[0m\u001b[0;34m:\u001b[0m\u001b[0;34m\u001b[0m\u001b[0;34m\u001b[0m\u001b[0m\n\u001b[0;32m---> 82\u001b[0;31m     \u001b[0;32mfor\u001b[0m \u001b[0mfile\u001b[0m \u001b[0;32min\u001b[0m \u001b[0mos\u001b[0m\u001b[0;34m.\u001b[0m\u001b[0mlistdir\u001b[0m\u001b[0;34m(\u001b[0m\u001b[0mparent_dir\u001b[0m\u001b[0;34m)\u001b[0m\u001b[0;34m:\u001b[0m\u001b[0;34m\u001b[0m\u001b[0;34m\u001b[0m\u001b[0m\n\u001b[0m\u001b[1;32m     83\u001b[0m         \u001b[0;32mif\u001b[0m \u001b[0;34m(\u001b[0m\u001b[0mfile\u001b[0m\u001b[0;34m[\u001b[0m\u001b[0;34m-\u001b[0m\u001b[0;36m4\u001b[0m\u001b[0;34m:\u001b[0m\u001b[0;34m]\u001b[0m\u001b[0;34m==\u001b[0m\u001b[0;34m\".obj\"\u001b[0m\u001b[0;34m)\u001b[0m\u001b[0;34m:\u001b[0m\u001b[0;34m\u001b[0m\u001b[0;34m\u001b[0m\u001b[0m\n\u001b[1;32m     84\u001b[0m             \u001b[0;32mif\u001b[0m \u001b[0mfile\u001b[0m\u001b[0;34m[\u001b[0m\u001b[0;34m-\u001b[0m\u001b[0;36m8\u001b[0m\u001b[0;34m:\u001b[0m\u001b[0;34m]\u001b[0m\u001b[0;34m==\u001b[0m\u001b[0;34m\"__sf.obj\"\u001b[0m \u001b[0;32mor\u001b[0m \u001b[0mfile\u001b[0m\u001b[0;34m==\u001b[0m\u001b[0;34m\"good_mesh.obj\"\u001b[0m\u001b[0;34m:\u001b[0m\u001b[0;34m\u001b[0m\u001b[0;34m\u001b[0m\u001b[0m\n",
      "\u001b[0;31mNotADirectoryError\u001b[0m: [Errno 20] Not a directory: '../../bcClean_back/data/ABC/obj/abc_0000_obj_v00/.DS_Store'"
     ]
    }
   ],
   "source": [
    "obj_root =\"../../bcClean_back/data/ABC/obj/abc_0000_obj_v00/\"\n",
    "abc_dict = {}\n",
    "count = 0\n",
    "for parent_suffix in os.listdir(obj_root) :\n",
    "    obj_parent_dir = obj_root + parent_suffix\n",
    "    if(not os.path.isdir(obj_parent_dir)):\n",
    "        continue\n",
    "#     print(obj_parent_dir)\n",
    "    obj_file = pbcut.get_bad_mesh(obj_parent_dir)\n",
    "#     print(obj_file)\n",
    "    abc_dict[count]={}\n",
    "    if(not obj_file):\n",
    "        continue\n",
    "    \n",
    "    v, f =igl.read_triangle_mesh(obj_file)\n",
    "    if(igl.is_edge_manifold(f)):\n",
    "        abc_dict[count][\"manifold\"]=True\n",
    "    else:\n",
    "        abc_dict[count][\"manifold\"]=False\n",
    "    loops = igl.boundary_loop(f)\n",
    "    if(len(loops)>0):\n",
    "        abc_dict[count][\"water_tight\"]=False\n",
    "    else:\n",
    "        abc_dict[count][\"water_tight\"]=True\n",
    "    count +=1\n",
    "    if count == 1000:\n",
    "        break"
   ]
  },
  {
   "cell_type": "code",
   "execution_count": 13,
   "metadata": {},
   "outputs": [
    {
     "ename": "SyntaxError",
     "evalue": "EOL while scanning string literal (<ipython-input-13-8820730af9a6>, line 14)",
     "output_type": "error",
     "traceback": [
      "\u001b[0;36m  File \u001b[0;32m\"<ipython-input-13-8820730af9a6>\"\u001b[0;36m, line \u001b[0;32m14\u001b[0m\n\u001b[0;31m    {} of them are watertight,\\\u001b[0m\n\u001b[0m                                \n^\u001b[0m\n\u001b[0;31mSyntaxError\u001b[0m\u001b[0;31m:\u001b[0m EOL while scanning string literal\n"
     ]
    }
   ],
   "source": [
    "mcount = 0\n",
    "wcount = 0\n",
    "ecount = 0;\n",
    "for key in abc_dict:\n",
    "    if abc_dict[key][\"water_tight\"]:\n",
    "        wcount +=1\n",
    "        if abc_dict[key][\"manifold\"]:\n",
    "            mcount +=1\n",
    "            ecount +=1\n",
    "    elif abc_dict[key][\"manifold\"]:\n",
    "        mcount +=1\n",
    "print(\"in the first chunk of ABC data set, \\\n",
    "        {} of them are manifold, \\\n",
    "        {} of them are watertight,\\ \n",
    "        {} of them are eligible\".format(mcount/len(abc_dict), wcount/len(abc_dict), ecount/len(abc_dict)))\n"
   ]
  },
  {
   "cell_type": "code",
   "execution_count": 8,
   "metadata": {},
   "outputs": [],
   "source": []
  },
  {
   "cell_type": "code",
   "execution_count": null,
   "metadata": {},
   "outputs": [],
   "source": []
  }
 ],
 "metadata": {
  "kernelspec": {
   "display_name": "Python 3",
   "language": "python",
   "name": "python3"
  },
  "language_info": {
   "codemirror_mode": {
    "name": "ipython",
    "version": 3
   },
   "file_extension": ".py",
   "mimetype": "text/x-python",
   "name": "python",
   "nbconvert_exporter": "python",
   "pygments_lexer": "ipython3",
   "version": "3.7.3"
  }
 },
 "nbformat": 4,
 "nbformat_minor": 2
}

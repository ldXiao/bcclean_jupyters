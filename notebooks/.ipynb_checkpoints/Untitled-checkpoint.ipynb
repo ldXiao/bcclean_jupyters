{
 "cells": [
  {
   "cell_type": "code",
   "execution_count": 23,
   "metadata": {},
   "outputs": [],
   "source": [
    "import pybcclean as pbc\n",
    "import igl\n",
    "import meshplot as mp\n",
    "import numpy as np\n",
    "import networkx as nx\n",
    "\n",
    "import os\n",
    "import sys\n",
    "module_path = os.path.abspath(os.path.join('..'))\n",
    "if module_path not in sys.path:\n",
    "    sys.path.append(module_path)\n",
    "import pbc_utilities as pbcut"
   ]
  },
  {
   "cell_type": "code",
   "execution_count": 40,
   "metadata": {},
   "outputs": [
    {
     "data": {
      "application/vnd.jupyter.widget-view+json": {
       "model_id": "15656dd376b94b3da2333a36935b5030",
       "version_major": 2,
       "version_minor": 0
      },
      "text/plain": [
       "Renderer(camera=PerspectiveCamera(children=(DirectionalLight(color='white', intensity=0.6, position=(-0.000253…"
      ]
     },
     "metadata": {},
     "output_type": "display_data"
    },
    {
     "data": {
      "application/vnd.jupyter.widget-view+json": {
       "model_id": "700fbb4098d84cd6be6595e1955d146d",
       "version_major": 2,
       "version_minor": 0
      },
      "text/plain": [
       "Renderer(camera=PerspectiveCamera(children=(DirectionalLight(color='white', intensity=0.6, position=(0.0001883…"
      ]
     },
     "metadata": {},
     "output_type": "display_data"
    },
    {
     "name": "stdout",
     "output_type": "stream",
     "text": [
      "good mesh has 36 nodes, 35 patches, 69 edges, with Euler numer 2 \n",
      "bad mesh has 24 nodes, 35 patches, 57 edges, with Euler numer 2\n"
     ]
    }
   ],
   "source": [
    "parent_dir = \"../data/6\"\n",
    "bad_obj_file = pbcut.get_bad_mesh(parent_dir)\n",
    "dmat_file = parent_dir+\"/feat.dmat\"\n",
    "good_obj_file = parent_dir+\"/good.mesh__sf.obj\"\n",
    "v_bad, f_bad=igl.read_triangle_mesh(bad_obj_file)\n",
    "fl_bad  = igl.read_dmat(dmat_file)\n",
    "v_good, f_good = igl.read_triangle_mesh(good_obj_file)\n",
    "fl_bad=fl_bad.astype('int32')\n",
    "f_good = f_good.astype('int32')\n",
    "f_bad = f_bad.astype('int32')\n",
    "label_num = fl_bad.max()+1\n",
    "prob_mat, fl_good = pbc.project_face_labels(v_bad, f_bad, fl_bad,label_num,2, v_good, f_good)\n",
    "\n",
    "fl_refine = pbc.refine_labels(v_good, f_good, prob_mat, fl_good.astype('int32'),1)\n",
    "fl_refine = fl_refine[:,0]\n",
    "edge_list_bad, patch_edge_list_bad = pbc.build_edge_list(v_bad, f_bad, fl_bad, label_num)\n",
    "edge_list_good, patch_edge_list_good = pbc.build_edge_list(v_good, f_good, fl_refine, label_num)\n",
    "node_list_bad = pbc.build_node_list(f_bad, fl_bad, label_num)\n",
    "node_list_good = pbc.build_node_list(f_good, fl_refine, label_num)\n",
    "patch_dict_good = pbcut.extract_patches(v_good, f_good, fl_refine)\n",
    "patch_dict_bad = pbcut.extract_patches(v_bad, f_bad, fl_bad)\n",
    "pair_edge_dict_bad, adj_matrix_bad = pbcut.build_adj_dict(edge_list_bad, label_num)\n",
    "pair_edge_dict_good, adj_matrix_good = pbcut.build_adj_dict(edge_list_good, label_num)\n",
    "\n",
    "mp.plot(v_bad, f_bad, fl_bad)\n",
    "mp.plot(v_good, f_good, fl_refine, shading={\"wireframe\":True})\n",
    "print(\"good mesh has %d nodes, %d patches, %d edges, with Euler numer %d \" % (len(node_list_good), len(patch_dict_good), len(edge_list_good),len(node_list_good)+len(patch_dict_good)-len(edge_list_good)))\n",
    "print(\"bad mesh has %d nodes, %d patches, %d edges, with Euler numer %d\" % (len(node_list_bad), len(patch_dict_bad), len(edge_list_bad),len(node_list_bad)+ len(patch_dict_bad)-len(edge_list_bad)))\n"
   ]
  },
  {
   "cell_type": "markdown",
   "metadata": {},
   "source": [
    "We will focus on only the cases where the patch num and patch topology is preserved."
   ]
  },
  {
   "cell_type": "code",
   "execution_count": 29,
   "metadata": {},
   "outputs": [
    {
     "data": {
      "text/plain": [
       "False"
      ]
     },
     "execution_count": 29,
     "metadata": {},
     "output_type": "execute_result"
    }
   ],
   "source": [
    "for key in patch_dict_bad:\n",
    "    if key in patch_dict_good:\n",
    "        vk, fk,_,_ = patch_dict_good[key]\n",
    "        fc = igl.face_components(fk)\n",
    "        print(fc.max(),key)\n",
    "    else:\n",
    "        print(key ,\"not found\")"
   ]
  },
  {
   "cell_type": "code",
   "execution_count": 38,
   "metadata": {},
   "outputs": [
    {
     "data": {
      "application/vnd.jupyter.widget-view+json": {
       "model_id": "dbb9b40a0dcc41a0b3ae1627e53bc77d",
       "version_major": 2,
       "version_minor": 0
      },
      "text/plain": [
       "HBox(children=(Output(), Output()))"
      ]
     },
     "metadata": {},
     "output_type": "display_data"
    },
    {
     "data": {
      "application/vnd.jupyter.widget-view+json": {
       "model_id": "8d17ab87f7294af9946c5e09fd2f0007",
       "version_major": 2,
       "version_minor": 0
      },
      "text/plain": [
       "HBox(children=(Output(), Output()))"
      ]
     },
     "metadata": {},
     "output_type": "display_data"
    },
    {
     "name": "stdout",
     "output_type": "stream",
     "text": [
      "(0, 23)\n",
      "(0, 10)\n",
      "(1, 10)\n",
      "(1, 23)\n",
      "(2, 10)\n",
      "(2, 23)\n",
      "(3, 10)\n",
      "(3, 23)\n",
      "(10, 28)\n",
      "(10, 13)\n",
      "(13, 23)\n",
      "(23, 28)\n"
     ]
    }
   ],
   "source": [
    "# p=mp.plot(v_good, f_good, fl_refine[:,0])\n",
    "\n",
    "d = mp.subplot(v_good, f_good, fl_refine, s=[2, 2, 0])\n",
    "diff_mat = (adj_matrix_bad-adj_matrix_good)\n",
    "area = igl.doublearea(v_good, f_good)\n",
    "for edg in edge_list_good:\n",
    "#     if edge_list_good[q].head == -1:\n",
    "    if diff_mat[edg.label_pair]!=0:\n",
    "        print(edg.label_pair)\n",
    "        d.rows[0][0].add_points(v_good[edg.vertices_list], shading={\"point_size\": 0.3})"
   ]
  },
  {
   "cell_type": "code",
   "execution_count": 21,
   "metadata": {},
   "outputs": [
    {
     "name": "stdout",
     "output_type": "stream",
     "text": [
      "0 0\n",
      "0 1\n",
      "0 2\n",
      "0 3\n",
      "0 4\n",
      "5 not found\n",
      "6 not found\n",
      "0 7\n",
      "0 8\n",
      "9 not found\n",
      "0 10\n",
      "0 11\n",
      "12 not found\n",
      "0 13\n",
      "0 14\n",
      "15 not found\n",
      "0 16\n",
      "0 17\n",
      "18 not found\n",
      "0 19\n",
      "0 20\n",
      "21 not found\n",
      "0 22\n",
      "0 23\n",
      "24 not found\n",
      "0 25\n",
      "0 26\n",
      "27 not found\n",
      "0 28\n",
      "0 29\n",
      "30 not found\n",
      "0 31\n",
      "0 32\n",
      "33 not found\n",
      "0 34\n",
      "0 35\n",
      "36 not found\n",
      "0 37\n",
      "0 38\n",
      "39 not found\n",
      "0 40\n",
      "0 41\n",
      "42 not found\n",
      "0 43\n",
      "0 44\n",
      "45 not found\n",
      "0 46\n",
      "0 47\n",
      "48 not found\n",
      "0 49\n",
      "0 50\n",
      "51 not found\n",
      "0 52\n",
      "0 53\n",
      "54 not found\n",
      "0 55\n",
      "0 56\n",
      "57 not found\n",
      "0 58\n",
      "0 59\n",
      "0 60\n",
      "0 61\n",
      "0 62\n",
      "0 63\n",
      "0 64\n",
      "0 65\n",
      "0 66\n",
      "0 67\n",
      "0 68\n",
      "0 69\n",
      "0 70\n",
      "0 71\n",
      "0 72\n",
      "0 73\n",
      "0 74\n",
      "0 75\n"
     ]
    }
   ],
   "source": [
    "\n",
    "        "
   ]
  },
  {
   "cell_type": "code",
   "execution_count": 15,
   "metadata": {},
   "outputs": [
    {
     "data": {
      "text/plain": [
       "0"
      ]
     },
     "execution_count": 15,
     "metadata": {},
     "output_type": "execute_result"
    }
   ],
   "source": [
    "igl.face_components(patch_dict_bad[7][1]).max()"
   ]
  },
  {
   "cell_type": "code",
   "execution_count": 9,
   "metadata": {},
   "outputs": [
    {
     "data": {
      "application/vnd.jupyter.widget-view+json": {
       "model_id": "aa4ee66a9c964cebb5b243a43cb7b719",
       "version_major": 2,
       "version_minor": 0
      },
      "text/plain": [
       "HBox(children=(Output(), Output()))"
      ]
     },
     "metadata": {},
     "output_type": "display_data"
    },
    {
     "data": {
      "application/vnd.jupyter.widget-view+json": {
       "model_id": "4790c2b80c064ff29574b9e5870d21ef",
       "version_major": 2,
       "version_minor": 0
      },
      "text/plain": [
       "HBox(children=(Output(), Output()))"
      ]
     },
     "metadata": {},
     "output_type": "display_data"
    },
    {
     "name": "stdout",
     "output_type": "stream",
     "text": [
      "1\n",
      "2\n",
      "3\n",
      "4\n",
      "5\n",
      "6\n",
      "7\n",
      "8\n",
      "9\n",
      "10\n",
      "11\n",
      "12\n",
      "13\n",
      "14\n",
      "15\n",
      "16\n",
      "17\n",
      "18\n",
      "19\n",
      "20\n",
      "21\n",
      "22\n",
      "23\n",
      "24\n",
      "25\n",
      "26\n",
      "27\n",
      "28\n",
      "29\n",
      "30\n",
      "31\n",
      "32\n",
      "33\n",
      "34\n",
      "35\n",
      "36\n",
      "37\n",
      "38\n",
      "39\n",
      "40\n",
      "41\n",
      "42\n",
      "43\n",
      "44\n",
      "45\n",
      "46\n",
      "47\n",
      "48\n",
      "49\n",
      "50\n",
      "51\n",
      "52\n",
      "53\n",
      "54\n",
      "55\n",
      "56\n",
      "57\n",
      "58\n",
      "59\n",
      "60\n",
      "61\n",
      "62\n",
      "63\n",
      "64\n",
      "65\n",
      "66\n",
      "67\n",
      "68\n",
      "69\n",
      "70\n",
      "71\n",
      "72\n",
      "73\n",
      "74\n",
      "75\n",
      "76\n",
      "77\n",
      "78\n",
      "79\n",
      "80\n",
      "81\n",
      "82\n",
      "83\n",
      "84\n",
      "85\n",
      "86\n",
      "87\n",
      "88\n",
      "89\n",
      "90\n",
      "91\n",
      "92\n",
      "93\n",
      "94\n",
      "95\n",
      "96\n",
      "97\n",
      "98\n",
      "99\n",
      "100\n",
      "101\n",
      "102\n",
      "103\n",
      "104\n",
      "105\n",
      "106\n",
      "107\n",
      "108\n",
      "109\n",
      "110\n",
      "111\n",
      "112\n",
      "113\n",
      "114\n",
      "115\n",
      "116\n",
      "117\n",
      "118\n",
      "119\n",
      "120\n",
      "121\n",
      "122\n",
      "123\n",
      "124\n",
      "125\n",
      "126\n",
      "127\n",
      "128\n",
      "129\n",
      "130\n",
      "131\n",
      "132\n",
      "133\n",
      "134\n",
      "135\n",
      "136\n",
      "137\n",
      "138\n",
      "139\n",
      "140\n",
      "141\n",
      "142\n",
      "143\n",
      "144\n",
      "145\n",
      "146\n",
      "147\n"
     ]
    }
   ],
   "source": [
    "d1 = mp.subplot(v_bad, f_bad, fl_bad, s=[2, 2, 0])\n",
    "count = 0\n",
    "for edg in edge_list_bad:\n",
    "#     if edge_list_good[q].head == -1:\n",
    "    if diff_mat[edg.label_pair]!=0:\n",
    "        count += 1\n",
    "        print(count)\n",
    "        d1.rows[0][0].add_points(v_bad[edg.vertices_list], shading={\"point_size\": 15})"
   ]
  },
  {
   "cell_type": "code",
   "execution_count": 6,
   "metadata": {},
   "outputs": [
    {
     "data": {
      "text/plain": [
       "[901,\n",
       " 1224,\n",
       " 323,\n",
       " 1109,\n",
       " 1057,\n",
       " 1211,\n",
       " 321,\n",
       " 456,\n",
       " 437,\n",
       " 454,\n",
       " 515,\n",
       " 426,\n",
       " 359,\n",
       " 1172,\n",
       " 1303,\n",
       " 319,\n",
       " 1265,\n",
       " 1085,\n",
       " 1249]"
      ]
     },
     "execution_count": 6,
     "metadata": {},
     "output_type": "execute_result"
    }
   ],
   "source": [
    "edge_list_good[16].vertices_list"
   ]
  },
  {
   "cell_type": "code",
   "execution_count": 7,
   "metadata": {},
   "outputs": [
    {
     "name": "stdout",
     "output_type": "stream",
     "text": [
      "433\n",
      "[2, 6, 7] 1136\n",
      "[1, 3, 7] 901\n",
      "[4, 7, 12] 1104\n",
      "[7, 12, 14] 1411\n",
      "[0, 8, 12] 445\n",
      "[0, 4, 12] 433\n",
      "[0, 3, 7] 1249\n",
      "[1, 5, 7] 1466\n",
      "[0, 1, 8] 371\n",
      "[0, 4, 7] 1434\n",
      "[0, 1, 3] 440\n",
      "[2, 5, 7] 1190\n",
      "[6, 7, 11] 1307\n",
      "[1, 2, 5] 147\n",
      "[1, 2, 8] 132\n",
      "[7, 9, 14] 77\n",
      "[9, 11, 13] 56\n",
      "[7, 9, 13] 53\n",
      "[9, 12, 14] 229\n",
      "[8, 9, 12] 117\n",
      "[8, 9, 11] 139\n",
      "[2, 8, 11] 144\n",
      "[2, 6, 11] 157\n",
      "[7, 11, 13] 11\n"
     ]
    }
   ],
   "source": [
    "# d.rows[0][0].add_points(v_bad, shading={\"point_size\": 0.1});\n",
    "print(edge_list_good[0].tail)\n",
    "for nd in node_list_good:\n",
    "    print(nd.labels, nd.vidx)"
   ]
  },
  {
   "cell_type": "code",
   "execution_count": 62,
   "metadata": {},
   "outputs": [],
   "source": [
    "?igl.boundary_"
   ]
  },
  {
   "cell_type": "code",
   "execution_count": 13,
   "metadata": {},
   "outputs": [],
   "source": [
    "node_list = pbc.build_node_list(f_bad, fl_bad, label_num)"
   ]
  },
  {
   "cell_type": "code",
   "execution_count": 16,
   "metadata": {},
   "outputs": [],
   "source": [
    "?igl.face_components\n"
   ]
  },
  {
   "cell_type": "code",
   "execution_count": 69,
   "metadata": {},
   "outputs": [
    {
     "name": "stdout",
     "output_type": "stream",
     "text": [
      "(0, 7) 361 1434 2\n",
      "(0, 4) 1434 433 9\n",
      "(0, 12) 433 445 5\n",
      "(0, 8) 445 371 9\n",
      "(0, 1) 371 440 5\n",
      "(0, 3) 440 1249 11\n",
      "(1, 2) 132 147 5\n",
      "(1, 5) 147 1466 9\n",
      "(1, 7) 1466 901 5\n",
      "(1, 3) 901 440 13\n",
      "(1, 8) 371 132 8\n",
      "(2, 11) 16 157 3\n",
      "(2, 6) 157 1136 9\n",
      "(2, 7) 1136 1190 7\n",
      "(2, 5) 1190 147 8\n",
      "(2, 8) 132 144 8\n",
      "(3, 7) 319 1249 4\n",
      "(4, 7) 360 1104 12\n",
      "(4, 12) 1104 433 8\n",
      "(2, 5) 29 1190 6\n",
      "(5, 7) 1190 1466 15\n",
      "(6, 11) 25 1307 7\n",
      "(6, 7) 1307 1136 18\n",
      "(7, 13) 11 53 14\n",
      "(7, 9) 53 77 8\n",
      "(7, 14) 77 1411 16\n",
      "(7, 12) 1411 1104 6\n",
      "(4, 7) 1104 1434 17\n",
      "(0, 7) 1434 1249 6\n",
      "(3, 7) 1249 901 19\n",
      "(7, 11) 1307 11 7\n",
      "(7, 10) -1 -1 48\n",
      "(8, 10) -1 -1 49\n",
      "(8, 9) 58 139 5\n",
      "(8, 11) 139 144 9\n",
      "(8, 12) 445 117 8\n",
      "(9, 11) 19 139 2\n",
      "(8, 9) 139 117 9\n",
      "(9, 12) 117 229 5\n",
      "(9, 14) 229 77 9\n",
      "(9, 13) 53 56 7\n",
      "(6, 11) 1307 157 10\n",
      "(2, 11) 157 144 4\n",
      "(9, 11) 139 56 4\n",
      "(11, 13) 56 11 10\n",
      "(9, 12) 34 117 2\n",
      "(12, 14) 1411 229 10\n",
      "(9, 14) 49 229 2\n"
     ]
    }
   ],
   "source": [
    "for edg in edge_list_good:\n",
    "    print(edg.label_pair,edg.head, edg.tail, len(edg.vertices_list))"
   ]
  },
  {
   "cell_type": "code",
   "execution_count": 27,
   "metadata": {},
   "outputs": [
    {
     "data": {
      "text/plain": [
       "{14: [47, 46, 25],\n",
       " 13: [44, 40, 23],\n",
       " 12: [45, 35, 2, 18, 26, 50],\n",
       " 11: [30, 42, 43, 34, 45, 46],\n",
       " 10: [32, 31],\n",
       " 9: [36, 37, 38, 39, 24, 41],\n",
       " 8: [32, 33, 34, 15, 10, 3, 38],\n",
       " 7: [23, 24, 25, 26, 27, 28, 29, 8, 20, 13, 22, 34, 31],\n",
       " 6: [21, 22, 12],\n",
       " 5: [19, 20, 7],\n",
       " 4: [17, 18, 1],\n",
       " 3: [16, 5, 9],\n",
       " 2: [11, 12, 13, 14, 6, 16],\n",
       " 1: [6, 7, 8, 9, 4, 11],\n",
       " 0: [0, 1, 2, 3, 4, 5]}"
      ]
     },
     "execution_count": 27,
     "metadata": {},
     "output_type": "execute_result"
    }
   ],
   "source": [
    "patch_edge_list_good"
   ]
  },
  {
   "cell_type": "code",
   "execution_count": 28,
   "metadata": {},
   "outputs": [
    {
     "data": {
      "text/plain": [
       "{14: [20, 29, 31],\n",
       " 13: [30, 26, 19],\n",
       " 12: [15, 32, 28, 22, 1],\n",
       " 11: [24, 27, 32, 17, 10],\n",
       " 10: [21, 25],\n",
       " 9: [26, 27, 23, 29, 30],\n",
       " 8: [22, 23, 24, 9, 5, 2, 25],\n",
       " 7: [13, 16, 18, 22, 23, 14, 21],\n",
       " 6: [11, 18, 19],\n",
       " 5: [12, 17, 7],\n",
       " 4: [14, 15, 0],\n",
       " 3: [4, 8, 15],\n",
       " 2: [6, 10, 11, 12, 13],\n",
       " 1: [5, 6, 7, 8, 3],\n",
       " 0: [0, 1, 2, 3, 4]}"
      ]
     },
     "execution_count": 28,
     "metadata": {},
     "output_type": "execute_result"
    }
   ],
   "source": [
    "patch_edge_list_bad"
   ]
  },
  {
   "cell_type": "code",
   "execution_count": 21,
   "metadata": {},
   "outputs": [],
   "source": [
    "xx=[32,\n",
    "  33,\n",
    "  34,\n",
    "  35,\n",
    "  36,\n",
    "  37,\n",
    "  38,\n",
    "  39,\n",
    "  40,\n",
    "  41,\n",
    "  42,\n",
    "  43,\n",
    "  21,\n",
    "  8,\n",
    "  27,\n",
    "  47,\n",
    "  16,\n",
    "  49,\n",
    "  30,\n",
    "  51,\n",
    "  52,\n",
    "  48]"
   ]
  },
  {
   "cell_type": "code",
   "execution_count": 23,
   "metadata": {},
   "outputs": [],
   "source": [
    "xx.append(12)"
   ]
  },
  {
   "cell_type": "code",
   "execution_count": 24,
   "metadata": {},
   "outputs": [
    {
     "data": {
      "text/plain": [
       "[32,\n",
       " 33,\n",
       " 34,\n",
       " 35,\n",
       " 36,\n",
       " 37,\n",
       " 38,\n",
       " 39,\n",
       " 40,\n",
       " 41,\n",
       " 42,\n",
       " 43,\n",
       " 21,\n",
       " 8,\n",
       " 27,\n",
       " 47,\n",
       " 16,\n",
       " 49,\n",
       " 30,\n",
       " 51,\n",
       " 52,\n",
       " 48,\n",
       " 12]"
      ]
     },
     "execution_count": 24,
     "metadata": {},
     "output_type": "execute_result"
    }
   ],
   "source": [
    "xx"
   ]
  },
  {
   "cell_type": "code",
   "execution_count": 8,
   "metadata": {},
   "outputs": [],
   "source": [
    "def extract_patch(V, F, FL):\n",
    "    label_num = FL.max()+1\n",
    "    patch_idx_dict = {}\n",
    "    for fidx, fl in enumerate(FL):\n",
    "        if fl not in patch_idx_dict:\n",
    "            patch_idx_dict[fl] = [fidx]\n",
    "        else:\n",
    "            patch_idx_dict[fl].append(fidx)\n",
    "    patch_dict = {}\n",
    "    for key in patch_idx_dict:\n",
    "        F_key = F[patch_idx_dict[key]]\n",
    "        V_key, F_key, I_key, J_key = igl.remove_unreferenced(V, F_key)\n",
    "        patch_dict[key] = (V_key, F_key, I_key, J_key)\n",
    "    return patch_dict\n",
    "        \n",
    "        "
   ]
  },
  {
   "cell_type": "code",
   "execution_count": 10,
   "metadata": {},
   "outputs": [],
   "source": [
    "patch_dict=extract_patch(v_bad, f_bad, fl_bad)"
   ]
  },
  {
   "cell_type": "code",
   "execution_count": 34,
   "metadata": {},
   "outputs": [],
   "source": [
    "def union_meshes(V0, F0, V1, F1):\n",
    "    vnum0 = len(V0)\n",
    "    offset  = np.ones_like(F1) * vnum0\n",
    "    Vr=np.vstack([V0, V1])\n",
    "    Fr = np.vstack([F0, F1+offset])\n",
    "    return Vr,Fr\n",
    "    "
   ]
  },
  {
   "cell_type": "code",
   "execution_count": 35,
   "metadata": {},
   "outputs": [
    {
     "data": {
      "application/vnd.jupyter.widget-view+json": {
       "model_id": "72d38aab02a6466eac6d52ec4303c077",
       "version_major": 2,
       "version_minor": 0
      },
      "text/plain": [
       "Renderer(camera=PerspectiveCamera(children=(DirectionalLight(color='white', intensity=0.6, position=(12.817606…"
      ]
     },
     "metadata": {},
     "output_type": "display_data"
    }
   ],
   "source": [
    "vr,fr = union_meshes(patch_dict[1][0],patch_dict[1][1], patch_dict[8][0],patch_dict[8][1])\n",
    "mp.plot(vr, fr)"
   ]
  },
  {
   "cell_type": "code",
   "execution_count": 29,
   "metadata": {},
   "outputs": [
    {
     "data": {
      "application/vnd.jupyter.widget-view+json": {
       "model_id": "a78d20bf27184f90a31ec2cf2ebd8da0",
       "version_major": 2,
       "version_minor": 0
      },
      "text/plain": [
       "Renderer(camera=PerspectiveCamera(children=(DirectionalLight(color='white', intensity=0.6, position=(0.0, 53.7…"
      ]
     },
     "metadata": {},
     "output_type": "display_data"
    }
   ],
   "source": [
    "k= 8\n",
    "v_i=patch_dict[k][0]\n",
    "f_i=patch_dict[k][1]\n",
    "mp.plot(v_i, f_i)"
   ]
  },
  {
   "cell_type": "code",
   "execution_count": 18,
   "metadata": {},
   "outputs": [
    {
     "data": {
      "application/vnd.jupyter.widget-view+json": {
       "model_id": "67f44948bc104d618af62f8ff77b07c0",
       "version_major": 2,
       "version_minor": 0
      },
      "text/plain": [
       "Renderer(camera=PerspectiveCamera(children=(DirectionalLight(color='white', intensity=0.6, position=(11.284975…"
      ]
     },
     "metadata": {},
     "output_type": "display_data"
    }
   ],
   "source": []
  },
  {
   "cell_type": "code",
   "execution_count": null,
   "metadata": {},
   "outputs": [],
   "source": []
  }
 ],
 "metadata": {
  "kernelspec": {
   "display_name": "Python 3",
   "language": "python",
   "name": "python3"
  },
  "language_info": {
   "codemirror_mode": {
    "name": "ipython",
    "version": 3
   },
   "file_extension": ".py",
   "mimetype": "text/x-python",
   "name": "python",
   "nbconvert_exporter": "python",
   "pygments_lexer": "ipython3",
   "version": "3.7.3"
  }
 },
 "nbformat": 4,
 "nbformat_minor": 2
}

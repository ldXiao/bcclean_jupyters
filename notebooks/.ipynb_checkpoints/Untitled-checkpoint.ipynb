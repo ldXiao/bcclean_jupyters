{
 "cells": [
  {
   "cell_type": "code",
   "execution_count": 4,
   "metadata": {},
   "outputs": [],
   "source": [
    "import pybcclean as pbc\n",
    "import igl\n",
    "import meshplot as mp"
   ]
  },
  {
   "cell_type": "code",
   "execution_count": 9,
   "metadata": {},
   "outputs": [
    {
     "ename": "TypeError",
     "evalue": "project_face_labels(): incompatible function arguments. The following argument types are supported:\n    1. (arg0: numpy.ndarray[float64[m, n], flags.writeable], arg1: numpy.ndarray[int32[m, n], flags.writeable], arg2: numpy.ndarray[int32[m, n]], arg3: numpy.ndarray[float64[m, n], flags.writeable], arg4: numpy.ndarray[int32[m, n], flags.writeable]) -> tuple\n\nInvoked with: array([[-2.38125 ,  0.      ,  1.5875  ],\n       [-2.38125 ,  1.374815,  1.219119],\n       [-2.38125 ,  1.374815,  0.      ],\n       ...,\n       [ 0.03629 ,  2.476044,  1.49244 ],\n       [-0.062641,  2.542917,  1.425061],\n       [-0.113438,  2.617221,  1.349072]]), array([[ 1015,  1446,  1535],\n       [ 1219,  1094,  1380],\n       [ 1181,  1520,  1534],\n       ...,\n       [16256, 16303, 16289],\n       [16281, 16314,   878],\n       [16324, 16331, 16297]], dtype=int64), array([ 0.,  0.,  0., ..., 14., 14., 14.]), 15.0, 2, array([[ 1.02473798e+00,  7.27568452e-01,  9.00345589e-05],\n       [ 9.04262755e-01,  8.73370940e-01,  3.90744332e-03],\n       [ 1.37593823e+00,  7.99821245e-01,  0.00000000e+00],\n       ...,\n       [ 1.12794746e+00, -5.54843940e-01,  1.46482499e+00],\n       [ 2.34552225e+00, -4.09388417e-01,  1.58750000e+00],\n       [-1.24209569e+00, -1.94436525e-01,  8.03766194e-01]]), array([[ 900,    0,    1],\n       [1313,    1,    0],\n       [   0,  900,  205],\n       ...,\n       [1466, 1407, 1428],\n       [1423, 1495, 1465],\n       [1474, 1490, 1483]], dtype=int64)",
     "output_type": "error",
     "traceback": [
      "\u001b[0;31m---------------------------------------------------------------------------\u001b[0m",
      "\u001b[0;31mTypeError\u001b[0m                                 Traceback (most recent call last)",
      "\u001b[0;32m<ipython-input-9-1ae6506e9a30>\u001b[0m in \u001b[0;36m<module>\u001b[0;34m\u001b[0m\n\u001b[1;32m      3\u001b[0m \u001b[0mv_good\u001b[0m\u001b[0;34m,\u001b[0m \u001b[0mf_good\u001b[0m \u001b[0;34m=\u001b[0m \u001b[0migl\u001b[0m\u001b[0;34m.\u001b[0m\u001b[0mread_triangle_mesh\u001b[0m\u001b[0;34m(\u001b[0m\u001b[0;34m\"../data/2/good.mesh__sf.obj\"\u001b[0m\u001b[0;34m)\u001b[0m\u001b[0;34m\u001b[0m\u001b[0;34m\u001b[0m\u001b[0m\n\u001b[1;32m      4\u001b[0m \u001b[0mlabel_num\u001b[0m \u001b[0;34m=\u001b[0m \u001b[0mfl\u001b[0m\u001b[0;34m.\u001b[0m\u001b[0mmax\u001b[0m\u001b[0;34m(\u001b[0m\u001b[0;34m)\u001b[0m\u001b[0;34m+\u001b[0m\u001b[0;36m1\u001b[0m\u001b[0;34m\u001b[0m\u001b[0;34m\u001b[0m\u001b[0m\n\u001b[0;32m----> 5\u001b[0;31m \u001b[0mprob_mat\u001b[0m\u001b[0;34m,\u001b[0m \u001b[0mfl_good\u001b[0m \u001b[0;34m=\u001b[0m \u001b[0mpbc\u001b[0m\u001b[0;34m.\u001b[0m\u001b[0mproject_face_labels\u001b[0m\u001b[0;34m(\u001b[0m\u001b[0mv_bad\u001b[0m\u001b[0;34m,\u001b[0m \u001b[0mf_bad\u001b[0m\u001b[0;34m,\u001b[0m \u001b[0mfl_bad\u001b[0m\u001b[0;34m,\u001b[0m\u001b[0mlabel_num\u001b[0m\u001b[0;34m,\u001b[0m \u001b[0;36m2\u001b[0m\u001b[0;34m,\u001b[0m \u001b[0mv_good\u001b[0m\u001b[0;34m,\u001b[0m \u001b[0mf_good\u001b[0m\u001b[0;34m)\u001b[0m\u001b[0;34m\u001b[0m\u001b[0;34m\u001b[0m\u001b[0m\n\u001b[0m",
      "\u001b[0;31mTypeError\u001b[0m: project_face_labels(): incompatible function arguments. The following argument types are supported:\n    1. (arg0: numpy.ndarray[float64[m, n], flags.writeable], arg1: numpy.ndarray[int32[m, n], flags.writeable], arg2: numpy.ndarray[int32[m, n]], arg3: numpy.ndarray[float64[m, n], flags.writeable], arg4: numpy.ndarray[int32[m, n], flags.writeable]) -> tuple\n\nInvoked with: array([[-2.38125 ,  0.      ,  1.5875  ],\n       [-2.38125 ,  1.374815,  1.219119],\n       [-2.38125 ,  1.374815,  0.      ],\n       ...,\n       [ 0.03629 ,  2.476044,  1.49244 ],\n       [-0.062641,  2.542917,  1.425061],\n       [-0.113438,  2.617221,  1.349072]]), array([[ 1015,  1446,  1535],\n       [ 1219,  1094,  1380],\n       [ 1181,  1520,  1534],\n       ...,\n       [16256, 16303, 16289],\n       [16281, 16314,   878],\n       [16324, 16331, 16297]], dtype=int64), array([ 0.,  0.,  0., ..., 14., 14., 14.]), 15.0, 2, array([[ 1.02473798e+00,  7.27568452e-01,  9.00345589e-05],\n       [ 9.04262755e-01,  8.73370940e-01,  3.90744332e-03],\n       [ 1.37593823e+00,  7.99821245e-01,  0.00000000e+00],\n       ...,\n       [ 1.12794746e+00, -5.54843940e-01,  1.46482499e+00],\n       [ 2.34552225e+00, -4.09388417e-01,  1.58750000e+00],\n       [-1.24209569e+00, -1.94436525e-01,  8.03766194e-01]]), array([[ 900,    0,    1],\n       [1313,    1,    0],\n       [   0,  900,  205],\n       ...,\n       [1466, 1407, 1428],\n       [1423, 1495, 1465],\n       [1474, 1490, 1483]], dtype=int64)"
     ]
    }
   ],
   "source": [
    "v_bad, f_bad=igl.read_triangle_mesh(\"../data/2/00000006_d4fe04f0f5f84b52bd4f10e4_trimesh_001.obj\")\n",
    "fl_bad  = igl.read_dmat(\"../data/2/feat.dmat\")\n",
    "v_good, f_good = igl.read_triangle_mesh(\"../data/2/good.mesh__sf.obj\")\n",
    "label_num = fl.max()+1\n",
    "prob_mat, fl_good = pbc.project_face_labels(v_bad, f_bad, fl_bad,label_num, 2, v_good, f_good)"
   ]
  },
  {
   "cell_type": "code",
   "execution_count": 7,
   "metadata": {},
   "outputs": [
    {
     "data": {
      "application/vnd.jupyter.widget-view+json": {
       "model_id": "c899c774cfb140ad85181acbde5109af",
       "version_major": 2,
       "version_minor": 0
      },
      "text/plain": [
       "Renderer(camera=PerspectiveCamera(children=(DirectionalLight(color='white', intensity=0.6, position=(0.0, 0.0,…"
      ]
     },
     "metadata": {},
     "output_type": "display_data"
    }
   ],
   "source": [
    "mp.plot(v_bad, f_bad, fl_bad)"
   ]
  },
  {
   "cell_type": "code",
   "execution_count": null,
   "metadata": {},
   "outputs": [],
   "source": []
  }
 ],
 "metadata": {
  "kernelspec": {
   "display_name": "Python 3",
   "language": "python",
   "name": "python3"
  },
  "language_info": {
   "codemirror_mode": {
    "name": "ipython",
    "version": 3
   },
   "file_extension": ".py",
   "mimetype": "text/x-python",
   "name": "python",
   "nbconvert_exporter": "python",
   "pygments_lexer": "ipython3",
   "version": "3.7.3"
  }
 },
 "nbformat": 4,
 "nbformat_minor": 2
}
